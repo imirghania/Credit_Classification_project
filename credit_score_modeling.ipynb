{
 "cells": [
  {
   "cell_type": "code",
   "execution_count": 1,
   "id": "454e2ea2-26d8-4073-bad8-ace918f38ca4",
   "metadata": {},
   "outputs": [],
   "source": [
    "import numpy as np\n",
    "import pandas as pd\n",
    "import matplotlib.pyplot as plt\n",
    "import seaborn as sns\n",
    "from collections import namedtuple\n",
    "from typing import Callable, Union, Literal, Optional\n",
    "from pathlib import Path\n",
    "\n",
    "import utils.pd as pd_utils\n",
    "import utils.plt as plt_utils\n",
    "import utils.sklrn as sklearn_utils\n",
    "import utils.files as files_utils\n",
    "from pandas.io.formats.style import Styler as pdStyler\n",
    "\n",
    "import sklearn_pandas as skpd\n",
    "from sklearn_pandas import DataFrameMapper\n",
    "\n",
    "from sklearn.preprocessing import MinMaxScaler, OrdinalEncoder, OneHotEncoder\n",
    "from category_encoders import TargetEncoder\n",
    "\n",
    "from tqdm.auto import tqdm, trange\n",
    "\n",
    "from sklearn.model_selection import train_test_split, cross_val_score, StratifiedKFold\n",
    "from sklearn.feature_selection import chi2, f_classif, SelectKBest\n",
    "\n",
    "from imblearn.pipeline import Pipeline\n",
    "from imblearn.over_sampling import SMOTE, SMOTENC\n",
    "\n",
    "from sklearn.ensemble import RandomForestClassifier\n",
    "from xgboost import XGBClassifier\n",
    "from lightgbm import LGBMClassifier\n",
    "\n",
    "from sklearn.metrics import (\n",
    "accuracy_score, recall_score, precision_score, f1_score, \n",
    "log_loss, confusion_matrix, auc, roc_auc_score, roc_curve,\n",
    "RocCurveDisplay, ConfusionMatrixDisplay\n",
    ")\n",
    "\n",
    "import mlflow\n",
    "import plotly\n",
    "import shap\n",
    "\n",
    "from joblib import Parallel, delayed\n",
    "\n",
    "import optuna\n",
    "import optuna.integration.xgboost as optuna_xgb\n",
    "import optuna.integration.lightgbm as optuna_lgbm\n",
    "\n",
    "from IPython.display import display\n",
    "\n",
    "import os\n",
    "from dotenv import load_dotenv\n",
    "load_dotenv()\n",
    "\n",
    "import warnings\n",
    "warnings.filterwarnings(\"ignore\")"
   ]
  },
  {
   "cell_type": "code",
   "execution_count": null,
   "id": "5383d2f5-c90a-4a41-81e9-d59f35b2b0b8",
   "metadata": {},
   "outputs": [],
   "source": []
  },
  {
   "cell_type": "code",
   "execution_count": 2,
   "id": "4abded12-f7d6-4a35-a644-0bc061861068",
   "metadata": {},
   "outputs": [],
   "source": [
    "df = pd.read_csv('data/train_clean.csv')"
   ]
  },
  {
   "cell_type": "code",
   "execution_count": 3,
   "id": "6d5644ba-5672-4b7b-aa63-b3f1afc39829",
   "metadata": {},
   "outputs": [
    {
     "data": {
      "text/html": [
       "<div>\n",
       "<style scoped>\n",
       "    .dataframe tbody tr th:only-of-type {\n",
       "        vertical-align: middle;\n",
       "    }\n",
       "\n",
       "    .dataframe tbody tr th {\n",
       "        vertical-align: top;\n",
       "    }\n",
       "\n",
       "    .dataframe thead th {\n",
       "        text-align: right;\n",
       "    }\n",
       "</style>\n",
       "<table border=\"1\" class=\"dataframe\">\n",
       "  <thead>\n",
       "    <tr style=\"text-align: right;\">\n",
       "      <th></th>\n",
       "      <th>ID</th>\n",
       "      <th>Customer_ID</th>\n",
       "      <th>Month</th>\n",
       "      <th>Name</th>\n",
       "      <th>Age</th>\n",
       "      <th>SSN</th>\n",
       "      <th>Occupation</th>\n",
       "      <th>Annual_Income</th>\n",
       "      <th>Monthly_Inhand_Salary</th>\n",
       "      <th>Num_Bank_Accounts</th>\n",
       "      <th>Num_Credit_Card</th>\n",
       "      <th>Interest_Rate</th>\n",
       "      <th>Num_of_Loan</th>\n",
       "      <th>Delay_from_due_date</th>\n",
       "      <th>Num_of_Delayed_Payment</th>\n",
       "      <th>Changed_Credit_Limit</th>\n",
       "      <th>Num_Credit_Inquiries</th>\n",
       "      <th>Credit_Mix</th>\n",
       "      <th>Outstanding_Debt</th>\n",
       "      <th>Credit_Utilization_Ratio</th>\n",
       "      <th>Credit_History_Age</th>\n",
       "      <th>Payment_of_Min_Amount</th>\n",
       "      <th>Total_EMI_per_month</th>\n",
       "      <th>Amount_invested_monthly</th>\n",
       "      <th>Payment_Behaviour</th>\n",
       "      <th>Monthly_Balance</th>\n",
       "      <th>Mortgage_Loan</th>\n",
       "      <th>Personal_Loan</th>\n",
       "      <th>Credit-Builder_Loan</th>\n",
       "      <th>Debt_Consolidation_Loan</th>\n",
       "      <th>Payday_Loan</th>\n",
       "      <th>Auto_Loan</th>\n",
       "      <th>Not_Specified_Loan</th>\n",
       "      <th>Home_Equity_Loan</th>\n",
       "      <th>Student_Loan</th>\n",
       "      <th>Credit_Score</th>\n",
       "    </tr>\n",
       "  </thead>\n",
       "  <tbody>\n",
       "    <tr>\n",
       "      <th>0</th>\n",
       "      <td>0x1602</td>\n",
       "      <td>CUS_0xd40</td>\n",
       "      <td>January</td>\n",
       "      <td>Aaron Maashoh</td>\n",
       "      <td>23</td>\n",
       "      <td>821-00-0265</td>\n",
       "      <td>Scientist</td>\n",
       "      <td>19114.12</td>\n",
       "      <td>1824.843333</td>\n",
       "      <td>3</td>\n",
       "      <td>4</td>\n",
       "      <td>3</td>\n",
       "      <td>4</td>\n",
       "      <td>3</td>\n",
       "      <td>7.0</td>\n",
       "      <td>11.27</td>\n",
       "      <td>4.0</td>\n",
       "      <td>Good</td>\n",
       "      <td>809.98</td>\n",
       "      <td>26.822620</td>\n",
       "      <td>265.0</td>\n",
       "      <td>No</td>\n",
       "      <td>49.574949</td>\n",
       "      <td>24.785217</td>\n",
       "      <td>High_spent_Small_value_payments</td>\n",
       "      <td>321.851976</td>\n",
       "      <td>0</td>\n",
       "      <td>1</td>\n",
       "      <td>1</td>\n",
       "      <td>0</td>\n",
       "      <td>0</td>\n",
       "      <td>1</td>\n",
       "      <td>0</td>\n",
       "      <td>1</td>\n",
       "      <td>0</td>\n",
       "      <td>Good</td>\n",
       "    </tr>\n",
       "    <tr>\n",
       "      <th>1</th>\n",
       "      <td>0x1603</td>\n",
       "      <td>CUS_0xd40</td>\n",
       "      <td>February</td>\n",
       "      <td>Aaron Maashoh</td>\n",
       "      <td>23</td>\n",
       "      <td>821-00-0265</td>\n",
       "      <td>Scientist</td>\n",
       "      <td>19114.12</td>\n",
       "      <td>1824.843333</td>\n",
       "      <td>3</td>\n",
       "      <td>4</td>\n",
       "      <td>3</td>\n",
       "      <td>4</td>\n",
       "      <td>1</td>\n",
       "      <td>4.0</td>\n",
       "      <td>11.27</td>\n",
       "      <td>4.0</td>\n",
       "      <td>Good</td>\n",
       "      <td>809.98</td>\n",
       "      <td>31.944960</td>\n",
       "      <td>266.0</td>\n",
       "      <td>No</td>\n",
       "      <td>49.574949</td>\n",
       "      <td>24.785217</td>\n",
       "      <td>Low_spent_Large_value_payments</td>\n",
       "      <td>321.851976</td>\n",
       "      <td>0</td>\n",
       "      <td>1</td>\n",
       "      <td>1</td>\n",
       "      <td>0</td>\n",
       "      <td>0</td>\n",
       "      <td>1</td>\n",
       "      <td>0</td>\n",
       "      <td>1</td>\n",
       "      <td>0</td>\n",
       "      <td>Good</td>\n",
       "    </tr>\n",
       "    <tr>\n",
       "      <th>2</th>\n",
       "      <td>0x1604</td>\n",
       "      <td>CUS_0xd40</td>\n",
       "      <td>March</td>\n",
       "      <td>Aaron Maashoh</td>\n",
       "      <td>23</td>\n",
       "      <td>821-00-0265</td>\n",
       "      <td>Scientist</td>\n",
       "      <td>19114.12</td>\n",
       "      <td>1824.843333</td>\n",
       "      <td>3</td>\n",
       "      <td>4</td>\n",
       "      <td>3</td>\n",
       "      <td>4</td>\n",
       "      <td>3</td>\n",
       "      <td>7.0</td>\n",
       "      <td>11.27</td>\n",
       "      <td>4.0</td>\n",
       "      <td>Good</td>\n",
       "      <td>809.98</td>\n",
       "      <td>28.609352</td>\n",
       "      <td>267.0</td>\n",
       "      <td>No</td>\n",
       "      <td>49.574949</td>\n",
       "      <td>24.785217</td>\n",
       "      <td>Low_spent_Medium_value_payments</td>\n",
       "      <td>321.851976</td>\n",
       "      <td>0</td>\n",
       "      <td>1</td>\n",
       "      <td>1</td>\n",
       "      <td>0</td>\n",
       "      <td>0</td>\n",
       "      <td>1</td>\n",
       "      <td>0</td>\n",
       "      <td>1</td>\n",
       "      <td>0</td>\n",
       "      <td>Good</td>\n",
       "    </tr>\n",
       "    <tr>\n",
       "      <th>3</th>\n",
       "      <td>0x1605</td>\n",
       "      <td>CUS_0xd40</td>\n",
       "      <td>April</td>\n",
       "      <td>Aaron Maashoh</td>\n",
       "      <td>23</td>\n",
       "      <td>821-00-0265</td>\n",
       "      <td>Scientist</td>\n",
       "      <td>19114.12</td>\n",
       "      <td>1824.843333</td>\n",
       "      <td>3</td>\n",
       "      <td>4</td>\n",
       "      <td>3</td>\n",
       "      <td>4</td>\n",
       "      <td>5</td>\n",
       "      <td>4.0</td>\n",
       "      <td>6.27</td>\n",
       "      <td>4.0</td>\n",
       "      <td>Good</td>\n",
       "      <td>809.98</td>\n",
       "      <td>31.377862</td>\n",
       "      <td>268.0</td>\n",
       "      <td>No</td>\n",
       "      <td>49.574949</td>\n",
       "      <td>24.785217</td>\n",
       "      <td>Low_spent_Small_value_payments</td>\n",
       "      <td>321.851976</td>\n",
       "      <td>0</td>\n",
       "      <td>1</td>\n",
       "      <td>1</td>\n",
       "      <td>0</td>\n",
       "      <td>0</td>\n",
       "      <td>1</td>\n",
       "      <td>0</td>\n",
       "      <td>1</td>\n",
       "      <td>0</td>\n",
       "      <td>Good</td>\n",
       "    </tr>\n",
       "    <tr>\n",
       "      <th>4</th>\n",
       "      <td>0x1606</td>\n",
       "      <td>CUS_0xd40</td>\n",
       "      <td>May</td>\n",
       "      <td>Aaron Maashoh</td>\n",
       "      <td>23</td>\n",
       "      <td>821-00-0265</td>\n",
       "      <td>Scientist</td>\n",
       "      <td>19114.12</td>\n",
       "      <td>1824.843333</td>\n",
       "      <td>3</td>\n",
       "      <td>4</td>\n",
       "      <td>3</td>\n",
       "      <td>4</td>\n",
       "      <td>6</td>\n",
       "      <td>4.0</td>\n",
       "      <td>11.27</td>\n",
       "      <td>4.0</td>\n",
       "      <td>Good</td>\n",
       "      <td>809.98</td>\n",
       "      <td>24.797347</td>\n",
       "      <td>269.0</td>\n",
       "      <td>No</td>\n",
       "      <td>49.574949</td>\n",
       "      <td>24.785217</td>\n",
       "      <td>High_spent_Medium_value_payments</td>\n",
       "      <td>321.851976</td>\n",
       "      <td>0</td>\n",
       "      <td>1</td>\n",
       "      <td>1</td>\n",
       "      <td>0</td>\n",
       "      <td>0</td>\n",
       "      <td>1</td>\n",
       "      <td>0</td>\n",
       "      <td>1</td>\n",
       "      <td>0</td>\n",
       "      <td>Good</td>\n",
       "    </tr>\n",
       "  </tbody>\n",
       "</table>\n",
       "</div>"
      ],
      "text/plain": [
       "       ID Customer_ID     Month           Name  Age          SSN Occupation  \\\n",
       "0  0x1602   CUS_0xd40   January  Aaron Maashoh   23  821-00-0265  Scientist   \n",
       "1  0x1603   CUS_0xd40  February  Aaron Maashoh   23  821-00-0265  Scientist   \n",
       "2  0x1604   CUS_0xd40     March  Aaron Maashoh   23  821-00-0265  Scientist   \n",
       "3  0x1605   CUS_0xd40     April  Aaron Maashoh   23  821-00-0265  Scientist   \n",
       "4  0x1606   CUS_0xd40       May  Aaron Maashoh   23  821-00-0265  Scientist   \n",
       "\n",
       "   Annual_Income  Monthly_Inhand_Salary  Num_Bank_Accounts  Num_Credit_Card  \\\n",
       "0       19114.12            1824.843333                  3                4   \n",
       "1       19114.12            1824.843333                  3                4   \n",
       "2       19114.12            1824.843333                  3                4   \n",
       "3       19114.12            1824.843333                  3                4   \n",
       "4       19114.12            1824.843333                  3                4   \n",
       "\n",
       "   Interest_Rate  Num_of_Loan  Delay_from_due_date  Num_of_Delayed_Payment  \\\n",
       "0              3            4                    3                     7.0   \n",
       "1              3            4                    1                     4.0   \n",
       "2              3            4                    3                     7.0   \n",
       "3              3            4                    5                     4.0   \n",
       "4              3            4                    6                     4.0   \n",
       "\n",
       "   Changed_Credit_Limit  Num_Credit_Inquiries Credit_Mix  Outstanding_Debt  \\\n",
       "0                 11.27                   4.0       Good            809.98   \n",
       "1                 11.27                   4.0       Good            809.98   \n",
       "2                 11.27                   4.0       Good            809.98   \n",
       "3                  6.27                   4.0       Good            809.98   \n",
       "4                 11.27                   4.0       Good            809.98   \n",
       "\n",
       "   Credit_Utilization_Ratio  Credit_History_Age Payment_of_Min_Amount  \\\n",
       "0                 26.822620               265.0                    No   \n",
       "1                 31.944960               266.0                    No   \n",
       "2                 28.609352               267.0                    No   \n",
       "3                 31.377862               268.0                    No   \n",
       "4                 24.797347               269.0                    No   \n",
       "\n",
       "   Total_EMI_per_month  Amount_invested_monthly  \\\n",
       "0            49.574949                24.785217   \n",
       "1            49.574949                24.785217   \n",
       "2            49.574949                24.785217   \n",
       "3            49.574949                24.785217   \n",
       "4            49.574949                24.785217   \n",
       "\n",
       "                  Payment_Behaviour  Monthly_Balance  Mortgage_Loan  \\\n",
       "0   High_spent_Small_value_payments       321.851976              0   \n",
       "1    Low_spent_Large_value_payments       321.851976              0   \n",
       "2   Low_spent_Medium_value_payments       321.851976              0   \n",
       "3    Low_spent_Small_value_payments       321.851976              0   \n",
       "4  High_spent_Medium_value_payments       321.851976              0   \n",
       "\n",
       "   Personal_Loan  Credit-Builder_Loan  Debt_Consolidation_Loan  Payday_Loan  \\\n",
       "0              1                    1                        0            0   \n",
       "1              1                    1                        0            0   \n",
       "2              1                    1                        0            0   \n",
       "3              1                    1                        0            0   \n",
       "4              1                    1                        0            0   \n",
       "\n",
       "   Auto_Loan  Not_Specified_Loan  Home_Equity_Loan  Student_Loan Credit_Score  \n",
       "0          1                   0                 1             0         Good  \n",
       "1          1                   0                 1             0         Good  \n",
       "2          1                   0                 1             0         Good  \n",
       "3          1                   0                 1             0         Good  \n",
       "4          1                   0                 1             0         Good  "
      ]
     },
     "metadata": {},
     "output_type": "display_data"
    }
   ],
   "source": [
    "pd_utils.display_dataframe(df)"
   ]
  },
  {
   "cell_type": "code",
   "execution_count": 4,
   "id": "34ab02fb-6951-4113-b036-dc6de903dd68",
   "metadata": {},
   "outputs": [],
   "source": [
    "data = df.drop(['ID', 'Customer_ID', 'Name', 'SSN'], axis=1)"
   ]
  },
  {
   "cell_type": "code",
   "execution_count": 5,
   "id": "894f2fcc-c424-4cbf-b071-b2b540478cfa",
   "metadata": {},
   "outputs": [],
   "source": [
    "X = data.drop(['Credit_Score'], axis=1)\n",
    "y = data[['Credit_Score']]"
   ]
  },
  {
   "cell_type": "code",
   "execution_count": 6,
   "id": "2f7eef97-cd9f-4430-b5c9-d4ea3650cc12",
   "metadata": {},
   "outputs": [],
   "source": [
    "oe = OrdinalEncoder(categories=[['Poor', 'Standard', 'Good']])\n",
    "oe.fit(y.values)\n",
    "target = oe.transform(y.values)"
   ]
  },
  {
   "cell_type": "code",
   "execution_count": 7,
   "id": "ecff267e-01fc-42de-ab0c-242647d81fdf",
   "metadata": {},
   "outputs": [],
   "source": [
    "numerical_cols = X.select_dtypes(include=np.number).columns.to_list()\n",
    "categorical_cols = X.select_dtypes(exclude=np.number).columns.to_list()"
   ]
  },
  {
   "cell_type": "code",
   "execution_count": 8,
   "id": "a1e52fd3-7a5f-44c2-92eb-b18f8d49a300",
   "metadata": {},
   "outputs": [],
   "source": [
    "def fs_report(features:pd.DataFrame, target:np.ndarray, test:Callable):\n",
    "    fs_test = SelectKBest(score_func=test, k='all')\n",
    "    index = None\n",
    "    \n",
    "    if test.__name__ == 'chi2':\n",
    "        oe = OrdinalEncoder()\n",
    "        features_encode = oe.fit_transform(features)\n",
    "        index = features.columns.to_list()\n",
    "        fs_test.fit(features_encode, target.ravel())\n",
    "    elif test.__name__ == 'f_classif':  \n",
    "        fs_test.fit(features, target.ravel())\n",
    "        index = fs_test.feature_names_in_\n",
    "    else:\n",
    "        raise AttributeError('The type of test is not supported.')\n",
    "        \n",
    "    fs_df = (\n",
    "        pd.DataFrame({\n",
    "        'test_statistic': fs_test.scores_,\n",
    "        'p_values': fs_test.pvalues_\n",
    "        }, index=index)\n",
    "            .sort_values('test_statistic', ascending=False)\n",
    "    )\n",
    "\n",
    "    return (\n",
    "        fs_df.style\n",
    "        .format('{:.2f}')\n",
    "        .bar('test_statistic')\n",
    "        .background_gradient(subset='test_statistic')\n",
    "    )"
   ]
  },
  {
   "cell_type": "code",
   "execution_count": 9,
   "id": "80187f9c-f7f4-4251-818c-c5bd3cac0f2b",
   "metadata": {},
   "outputs": [
    {
     "data": {
      "text/html": [
       "<style type=\"text/css\">\n",
       "#T_a46db_row0_col0 {\n",
       "  width: 10em;\n",
       "  background: linear-gradient(90deg, #d65f5f 100.0%, transparent 100.0%);\n",
       "  background-color: #023858;\n",
       "  color: #f1f1f1;\n",
       "}\n",
       "#T_a46db_row1_col0 {\n",
       "  width: 10em;\n",
       "  background: linear-gradient(90deg, #d65f5f 77.2%, transparent 77.2%);\n",
       "  background-color: #056caa;\n",
       "  color: #f1f1f1;\n",
       "}\n",
       "#T_a46db_row2_col0 {\n",
       "  width: 10em;\n",
       "  background: linear-gradient(90deg, #d65f5f 74.3%, transparent 74.3%);\n",
       "  background-color: #0872b1;\n",
       "  color: #f1f1f1;\n",
       "}\n",
       "#T_a46db_row3_col0 {\n",
       "  width: 10em;\n",
       "  background: linear-gradient(90deg, #d65f5f 63.4%, transparent 63.4%);\n",
       "  background-color: #348ebf;\n",
       "  color: #f1f1f1;\n",
       "}\n",
       "#T_a46db_row4_col0 {\n",
       "  width: 10em;\n",
       "  background: linear-gradient(90deg, #d65f5f 60.2%, transparent 60.2%);\n",
       "  background-color: #4295c3;\n",
       "  color: #f1f1f1;\n",
       "}\n",
       "#T_a46db_row5_col0 {\n",
       "  width: 10em;\n",
       "  background: linear-gradient(90deg, #d65f5f 59.1%, transparent 59.1%);\n",
       "  background-color: #4897c4;\n",
       "  color: #f1f1f1;\n",
       "}\n",
       "#T_a46db_row6_col0 {\n",
       "  width: 10em;\n",
       "  background: linear-gradient(90deg, #d65f5f 57.7%, transparent 57.7%);\n",
       "  background-color: #4e9ac6;\n",
       "  color: #f1f1f1;\n",
       "}\n",
       "#T_a46db_row7_col0 {\n",
       "  width: 10em;\n",
       "  background: linear-gradient(90deg, #d65f5f 57.3%, transparent 57.3%);\n",
       "  background-color: #529bc7;\n",
       "  color: #f1f1f1;\n",
       "}\n",
       "#T_a46db_row8_col0 {\n",
       "  width: 10em;\n",
       "  background: linear-gradient(90deg, #d65f5f 48.3%, transparent 48.3%);\n",
       "  background-color: #7dacd1;\n",
       "  color: #f1f1f1;\n",
       "}\n",
       "#T_a46db_row9_col0 {\n",
       "  width: 10em;\n",
       "  background: linear-gradient(90deg, #d65f5f 25.3%, transparent 25.3%);\n",
       "  background-color: #d1d2e6;\n",
       "  color: #000000;\n",
       "}\n",
       "#T_a46db_row10_col0 {\n",
       "  width: 10em;\n",
       "  background: linear-gradient(90deg, #d65f5f 17.5%, transparent 17.5%);\n",
       "  background-color: #e2dfee;\n",
       "  color: #000000;\n",
       "}\n",
       "#T_a46db_row11_col0 {\n",
       "  width: 10em;\n",
       "  background: linear-gradient(90deg, #d65f5f 15.6%, transparent 15.6%);\n",
       "  background-color: #e7e3f0;\n",
       "  color: #000000;\n",
       "}\n",
       "#T_a46db_row12_col0 {\n",
       "  width: 10em;\n",
       "  background: linear-gradient(90deg, #d65f5f 15.2%, transparent 15.2%);\n",
       "  background-color: #e7e3f0;\n",
       "  color: #000000;\n",
       "}\n",
       "#T_a46db_row13_col0 {\n",
       "  width: 10em;\n",
       "  background: linear-gradient(90deg, #d65f5f 9.0%, transparent 9.0%);\n",
       "  background-color: #f2ecf5;\n",
       "  color: #000000;\n",
       "}\n",
       "#T_a46db_row14_col0 {\n",
       "  width: 10em;\n",
       "  background: linear-gradient(90deg, #d65f5f 8.6%, transparent 8.6%);\n",
       "  background-color: #f3edf5;\n",
       "  color: #000000;\n",
       "}\n",
       "#T_a46db_row15_col0 {\n",
       "  width: 10em;\n",
       "  background: linear-gradient(90deg, #d65f5f 8.1%, transparent 8.1%);\n",
       "  background-color: #f4edf6;\n",
       "  color: #000000;\n",
       "}\n",
       "#T_a46db_row16_col0 {\n",
       "  width: 10em;\n",
       "  background: linear-gradient(90deg, #d65f5f 8.0%, transparent 8.0%);\n",
       "  background-color: #f4eef6;\n",
       "  color: #000000;\n",
       "}\n",
       "#T_a46db_row17_col0 {\n",
       "  width: 10em;\n",
       "  background: linear-gradient(90deg, #d65f5f 7.9%, transparent 7.9%);\n",
       "  background-color: #f4eef6;\n",
       "  color: #000000;\n",
       "}\n",
       "#T_a46db_row18_col0, #T_a46db_row19_col0 {\n",
       "  width: 10em;\n",
       "  background: linear-gradient(90deg, #d65f5f 7.5%, transparent 7.5%);\n",
       "  background-color: #f5eef6;\n",
       "  color: #000000;\n",
       "}\n",
       "#T_a46db_row20_col0 {\n",
       "  width: 10em;\n",
       "  background: linear-gradient(90deg, #d65f5f 7.4%, transparent 7.4%);\n",
       "  background-color: #f5eef6;\n",
       "  color: #000000;\n",
       "}\n",
       "#T_a46db_row21_col0 {\n",
       "  width: 10em;\n",
       "  background: linear-gradient(90deg, #d65f5f 7.2%, transparent 7.2%);\n",
       "  background-color: #f5eef6;\n",
       "  color: #000000;\n",
       "}\n",
       "#T_a46db_row22_col0 {\n",
       "  width: 10em;\n",
       "  background: linear-gradient(90deg, #d65f5f 7.2%, transparent 7.2%);\n",
       "  background-color: #f5eff6;\n",
       "  color: #000000;\n",
       "}\n",
       "#T_a46db_row23_col0 {\n",
       "  width: 10em;\n",
       "  background: linear-gradient(90deg, #d65f5f 6.9%, transparent 6.9%);\n",
       "  background-color: #f5eff6;\n",
       "  color: #000000;\n",
       "}\n",
       "#T_a46db_row24_col0 {\n",
       "  width: 10em;\n",
       "  background: linear-gradient(90deg, #d65f5f 0.7%, transparent 0.7%);\n",
       "  background-color: #fff7fb;\n",
       "  color: #000000;\n",
       "}\n",
       "#T_a46db_row25_col0 {\n",
       "  width: 10em;\n",
       "  background: linear-gradient(90deg, #d65f5f 0.6%, transparent 0.6%);\n",
       "  background-color: #fff7fb;\n",
       "  color: #000000;\n",
       "}\n",
       "</style>\n",
       "<table id=\"T_a46db\">\n",
       "  <thead>\n",
       "    <tr>\n",
       "      <th class=\"blank level0\" >&nbsp;</th>\n",
       "      <th id=\"T_a46db_level0_col0\" class=\"col_heading level0 col0\" >test_statistic</th>\n",
       "      <th id=\"T_a46db_level0_col1\" class=\"col_heading level0 col1\" >p_values</th>\n",
       "    </tr>\n",
       "  </thead>\n",
       "  <tbody>\n",
       "    <tr>\n",
       "      <th id=\"T_a46db_level0_row0\" class=\"row_heading level0 row0\" >Interest_Rate</th>\n",
       "      <td id=\"T_a46db_row0_col0\" class=\"data row0 col0\" >15420.28</td>\n",
       "      <td id=\"T_a46db_row0_col1\" class=\"data row0 col1\" >0.00</td>\n",
       "    </tr>\n",
       "    <tr>\n",
       "      <th id=\"T_a46db_level0_row1\" class=\"row_heading level0 row1\" >Num_Credit_Inquiries</th>\n",
       "      <td id=\"T_a46db_row1_col0\" class=\"data row1 col0\" >11911.29</td>\n",
       "      <td id=\"T_a46db_row1_col1\" class=\"data row1 col1\" >0.00</td>\n",
       "    </tr>\n",
       "    <tr>\n",
       "      <th id=\"T_a46db_level0_row2\" class=\"row_heading level0 row2\" >Delay_from_due_date</th>\n",
       "      <td id=\"T_a46db_row2_col0\" class=\"data row2 col0\" >11450.77</td>\n",
       "      <td id=\"T_a46db_row2_col1\" class=\"data row2 col1\" >0.00</td>\n",
       "    </tr>\n",
       "    <tr>\n",
       "      <th id=\"T_a46db_level0_row3\" class=\"row_heading level0 row3\" >Num_Credit_Card</th>\n",
       "      <td id=\"T_a46db_row3_col0\" class=\"data row3 col0\" >9771.83</td>\n",
       "      <td id=\"T_a46db_row3_col1\" class=\"data row3 col1\" >0.00</td>\n",
       "    </tr>\n",
       "    <tr>\n",
       "      <th id=\"T_a46db_level0_row4\" class=\"row_heading level0 row4\" >Num_Bank_Accounts</th>\n",
       "      <td id=\"T_a46db_row4_col0\" class=\"data row4 col0\" >9280.40</td>\n",
       "      <td id=\"T_a46db_row4_col1\" class=\"data row4 col1\" >0.00</td>\n",
       "    </tr>\n",
       "    <tr>\n",
       "      <th id=\"T_a46db_level0_row5\" class=\"row_heading level0 row5\" >Outstanding_Debt</th>\n",
       "      <td id=\"T_a46db_row5_col0\" class=\"data row5 col0\" >9115.50</td>\n",
       "      <td id=\"T_a46db_row5_col1\" class=\"data row5 col1\" >0.00</td>\n",
       "    </tr>\n",
       "    <tr>\n",
       "      <th id=\"T_a46db_level0_row6\" class=\"row_heading level0 row6\" >Credit_History_Age</th>\n",
       "      <td id=\"T_a46db_row6_col0\" class=\"data row6 col0\" >8903.67</td>\n",
       "      <td id=\"T_a46db_row6_col1\" class=\"data row6 col1\" >0.00</td>\n",
       "    </tr>\n",
       "    <tr>\n",
       "      <th id=\"T_a46db_level0_row7\" class=\"row_heading level0 row7\" >Num_of_Delayed_Payment</th>\n",
       "      <td id=\"T_a46db_row7_col0\" class=\"data row7 col0\" >8833.23</td>\n",
       "      <td id=\"T_a46db_row7_col1\" class=\"data row7 col1\" >0.00</td>\n",
       "    </tr>\n",
       "    <tr>\n",
       "      <th id=\"T_a46db_level0_row8\" class=\"row_heading level0 row8\" >Num_of_Loan</th>\n",
       "      <td id=\"T_a46db_row8_col0\" class=\"data row8 col0\" >7440.63</td>\n",
       "      <td id=\"T_a46db_row8_col1\" class=\"data row8 col1\" >0.00</td>\n",
       "    </tr>\n",
       "    <tr>\n",
       "      <th id=\"T_a46db_level0_row9\" class=\"row_heading level0 row9\" >Monthly_Balance</th>\n",
       "      <td id=\"T_a46db_row9_col0\" class=\"data row9 col0\" >3901.64</td>\n",
       "      <td id=\"T_a46db_row9_col1\" class=\"data row9 col1\" >0.00</td>\n",
       "    </tr>\n",
       "    <tr>\n",
       "      <th id=\"T_a46db_level0_row10\" class=\"row_heading level0 row10\" >Changed_Credit_Limit</th>\n",
       "      <td id=\"T_a46db_row10_col0\" class=\"data row10 col0\" >2705.60</td>\n",
       "      <td id=\"T_a46db_row10_col1\" class=\"data row10 col1\" >0.00</td>\n",
       "    </tr>\n",
       "    <tr>\n",
       "      <th id=\"T_a46db_level0_row11\" class=\"row_heading level0 row11\" >Annual_Income</th>\n",
       "      <td id=\"T_a46db_row11_col0\" class=\"data row11 col0\" >2399.81</td>\n",
       "      <td id=\"T_a46db_row11_col1\" class=\"data row11 col1\" >0.00</td>\n",
       "    </tr>\n",
       "    <tr>\n",
       "      <th id=\"T_a46db_level0_row12\" class=\"row_heading level0 row12\" >Monthly_Inhand_Salary</th>\n",
       "      <td id=\"T_a46db_row12_col0\" class=\"data row12 col0\" >2340.60</td>\n",
       "      <td id=\"T_a46db_row12_col1\" class=\"data row12 col1\" >0.00</td>\n",
       "    </tr>\n",
       "    <tr>\n",
       "      <th id=\"T_a46db_level0_row13\" class=\"row_heading level0 row13\" >Amount_invested_monthly</th>\n",
       "      <td id=\"T_a46db_row13_col0\" class=\"data row13 col0\" >1381.71</td>\n",
       "      <td id=\"T_a46db_row13_col1\" class=\"data row13 col1\" >0.00</td>\n",
       "    </tr>\n",
       "    <tr>\n",
       "      <th id=\"T_a46db_level0_row14\" class=\"row_heading level0 row14\" >Age</th>\n",
       "      <td id=\"T_a46db_row14_col0\" class=\"data row14 col0\" >1330.23</td>\n",
       "      <td id=\"T_a46db_row14_col1\" class=\"data row14 col1\" >0.00</td>\n",
       "    </tr>\n",
       "    <tr>\n",
       "      <th id=\"T_a46db_level0_row15\" class=\"row_heading level0 row15\" >Debt_Consolidation_Loan</th>\n",
       "      <td id=\"T_a46db_row15_col0\" class=\"data row15 col0\" >1247.06</td>\n",
       "      <td id=\"T_a46db_row15_col1\" class=\"data row15 col1\" >0.00</td>\n",
       "    </tr>\n",
       "    <tr>\n",
       "      <th id=\"T_a46db_level0_row16\" class=\"row_heading level0 row16\" >Payday_Loan</th>\n",
       "      <td id=\"T_a46db_row16_col0\" class=\"data row16 col0\" >1228.46</td>\n",
       "      <td id=\"T_a46db_row16_col1\" class=\"data row16 col1\" >0.00</td>\n",
       "    </tr>\n",
       "    <tr>\n",
       "      <th id=\"T_a46db_level0_row17\" class=\"row_heading level0 row17\" >Auto_Loan</th>\n",
       "      <td id=\"T_a46db_row17_col0\" class=\"data row17 col0\" >1216.34</td>\n",
       "      <td id=\"T_a46db_row17_col1\" class=\"data row17 col1\" >0.00</td>\n",
       "    </tr>\n",
       "    <tr>\n",
       "      <th id=\"T_a46db_level0_row18\" class=\"row_heading level0 row18\" >Student_Loan</th>\n",
       "      <td id=\"T_a46db_row18_col0\" class=\"data row18 col0\" >1161.82</td>\n",
       "      <td id=\"T_a46db_row18_col1\" class=\"data row18 col1\" >0.00</td>\n",
       "    </tr>\n",
       "    <tr>\n",
       "      <th id=\"T_a46db_level0_row19\" class=\"row_heading level0 row19\" >Mortgage_Loan</th>\n",
       "      <td id=\"T_a46db_row19_col0\" class=\"data row19 col0\" >1161.22</td>\n",
       "      <td id=\"T_a46db_row19_col1\" class=\"data row19 col1\" >0.00</td>\n",
       "    </tr>\n",
       "    <tr>\n",
       "      <th id=\"T_a46db_level0_row20\" class=\"row_heading level0 row20\" >Personal_Loan</th>\n",
       "      <td id=\"T_a46db_row20_col0\" class=\"data row20 col0\" >1135.71</td>\n",
       "      <td id=\"T_a46db_row20_col1\" class=\"data row20 col1\" >0.00</td>\n",
       "    </tr>\n",
       "    <tr>\n",
       "      <th id=\"T_a46db_level0_row21\" class=\"row_heading level0 row21\" >Home_Equity_Loan</th>\n",
       "      <td id=\"T_a46db_row21_col0\" class=\"data row21 col0\" >1117.16</td>\n",
       "      <td id=\"T_a46db_row21_col1\" class=\"data row21 col1\" >0.00</td>\n",
       "    </tr>\n",
       "    <tr>\n",
       "      <th id=\"T_a46db_level0_row22\" class=\"row_heading level0 row22\" >Credit-Builder_Loan</th>\n",
       "      <td id=\"T_a46db_row22_col0\" class=\"data row22 col0\" >1105.97</td>\n",
       "      <td id=\"T_a46db_row22_col1\" class=\"data row22 col1\" >0.00</td>\n",
       "    </tr>\n",
       "    <tr>\n",
       "      <th id=\"T_a46db_level0_row23\" class=\"row_heading level0 row23\" >Not_Specified_Loan</th>\n",
       "      <td id=\"T_a46db_row23_col0\" class=\"data row23 col0\" >1069.12</td>\n",
       "      <td id=\"T_a46db_row23_col1\" class=\"data row23 col1\" >0.00</td>\n",
       "    </tr>\n",
       "    <tr>\n",
       "      <th id=\"T_a46db_level0_row24\" class=\"row_heading level0 row24\" >Credit_Utilization_Ratio</th>\n",
       "      <td id=\"T_a46db_row24_col0\" class=\"data row24 col0\" >105.30</td>\n",
       "      <td id=\"T_a46db_row24_col1\" class=\"data row24 col1\" >0.00</td>\n",
       "    </tr>\n",
       "    <tr>\n",
       "      <th id=\"T_a46db_level0_row25\" class=\"row_heading level0 row25\" >Total_EMI_per_month</th>\n",
       "      <td id=\"T_a46db_row25_col0\" class=\"data row25 col0\" >94.78</td>\n",
       "      <td id=\"T_a46db_row25_col1\" class=\"data row25 col1\" >0.00</td>\n",
       "    </tr>\n",
       "  </tbody>\n",
       "</table>\n"
      ],
      "text/plain": [
       "<pandas.io.formats.style.Styler at 0x19d25b51e50>"
      ]
     },
     "execution_count": 9,
     "metadata": {},
     "output_type": "execute_result"
    }
   ],
   "source": [
    "anova_fs_report = fs_report(X[numerical_cols], target.ravel(), f_classif)\n",
    "anova_fs_report"
   ]
  },
  {
   "cell_type": "code",
   "execution_count": 10,
   "id": "2f015d52-fd8d-454d-8c13-786d732a8789",
   "metadata": {},
   "outputs": [
    {
     "data": {
      "text/html": [
       "<style type=\"text/css\">\n",
       "#T_b095b_row0_col0 {\n",
       "  width: 10em;\n",
       "  background: linear-gradient(90deg, #d65f5f 100.0%, transparent 100.0%);\n",
       "  background-color: #023858;\n",
       "  color: #f1f1f1;\n",
       "}\n",
       "#T_b095b_row1_col0 {\n",
       "  width: 10em;\n",
       "  background: linear-gradient(90deg, #d65f5f 64.3%, transparent 64.3%);\n",
       "  background-color: #2f8bbe;\n",
       "  color: #f1f1f1;\n",
       "}\n",
       "#T_b095b_row2_col0 {\n",
       "  width: 10em;\n",
       "  background: linear-gradient(90deg, #d65f5f 19.6%, transparent 19.6%);\n",
       "  background-color: #dcdaeb;\n",
       "  color: #000000;\n",
       "}\n",
       "#T_b095b_row3_col0 {\n",
       "  width: 10em;\n",
       "  background: linear-gradient(90deg, #d65f5f 0.3%, transparent 0.3%);\n",
       "  background-color: #fff7fb;\n",
       "  color: #000000;\n",
       "}\n",
       "#T_b095b_row4_col0 {\n",
       "  width: 10em;\n",
       "  background: linear-gradient(90deg, #d65f5f 0.1%, transparent 0.1%);\n",
       "  background-color: #fff7fb;\n",
       "  color: #000000;\n",
       "}\n",
       "</style>\n",
       "<table id=\"T_b095b\">\n",
       "  <thead>\n",
       "    <tr>\n",
       "      <th class=\"blank level0\" >&nbsp;</th>\n",
       "      <th id=\"T_b095b_level0_col0\" class=\"col_heading level0 col0\" >test_statistic</th>\n",
       "      <th id=\"T_b095b_level0_col1\" class=\"col_heading level0 col1\" >p_values</th>\n",
       "    </tr>\n",
       "  </thead>\n",
       "  <tbody>\n",
       "    <tr>\n",
       "      <th id=\"T_b095b_level0_row0\" class=\"row_heading level0 row0\" >Payment_of_Min_Amount</th>\n",
       "      <td id=\"T_b095b_row0_col0\" class=\"data row0 col0\" >9095.53</td>\n",
       "      <td id=\"T_b095b_row0_col1\" class=\"data row0 col1\" >0.00</td>\n",
       "    </tr>\n",
       "    <tr>\n",
       "      <th id=\"T_b095b_level0_row1\" class=\"row_heading level0 row1\" >Credit_Mix</th>\n",
       "      <td id=\"T_b095b_row1_col0\" class=\"data row1 col0\" >5845.83</td>\n",
       "      <td id=\"T_b095b_row1_col1\" class=\"data row1 col1\" >0.00</td>\n",
       "    </tr>\n",
       "    <tr>\n",
       "      <th id=\"T_b095b_level0_row2\" class=\"row_heading level0 row2\" >Payment_Behaviour</th>\n",
       "      <td id=\"T_b095b_row2_col0\" class=\"data row2 col0\" >1783.89</td>\n",
       "      <td id=\"T_b095b_row2_col1\" class=\"data row2 col1\" >0.00</td>\n",
       "    </tr>\n",
       "    <tr>\n",
       "      <th id=\"T_b095b_level0_row3\" class=\"row_heading level0 row3\" >Occupation</th>\n",
       "      <td id=\"T_b095b_row3_col0\" class=\"data row3 col0\" >26.93</td>\n",
       "      <td id=\"T_b095b_row3_col1\" class=\"data row3 col1\" >0.00</td>\n",
       "    </tr>\n",
       "    <tr>\n",
       "      <th id=\"T_b095b_level0_row4\" class=\"row_heading level0 row4\" >Month</th>\n",
       "      <td id=\"T_b095b_row4_col0\" class=\"data row4 col0\" >5.19</td>\n",
       "      <td id=\"T_b095b_row4_col1\" class=\"data row4 col1\" >0.07</td>\n",
       "    </tr>\n",
       "  </tbody>\n",
       "</table>\n"
      ],
      "text/plain": [
       "<pandas.io.formats.style.Styler at 0x19d16cb2400>"
      ]
     },
     "execution_count": 10,
     "metadata": {},
     "output_type": "execute_result"
    }
   ],
   "source": [
    "chi2_fs_report = fs_report(X[categorical_cols], target.ravel(), chi2)\n",
    "chi2_fs_report"
   ]
  },
  {
   "cell_type": "code",
   "execution_count": 11,
   "id": "53eac593-82e7-4ad3-9fd9-c425d127c0d8",
   "metadata": {},
   "outputs": [],
   "source": [
    "def visualize_fs_report(ax:plt.Axes, report:pdStyler):\n",
    "    sns.barplot(data=report.data.reset_index(),\n",
    "            x='index',\n",
    "            y='test_statistic', \n",
    "            ax=ax)\n",
    "    plt_utils.rotate_xticks_labels(ax, 90)\n",
    "    plt_utils.turn_off_right_upper_spines(ax)\n",
    "    ax.set_xlabel('')\n",
    "    return ax"
   ]
  },
  {
   "cell_type": "code",
   "execution_count": 12,
   "id": "d88408fb-40e7-4b94-a7a1-7fa223a359c8",
   "metadata": {},
   "outputs": [],
   "source": [
    "def visualize_feature_importance(num_features_report:pdStyler, cat_features_report:pdStyler):\n",
    "    fig, axs = plt.subplots(nrows=1, ncols=2, figsize=(15, 6))\n",
    "    visualize_fs_report(axs[0], num_features_report)\n",
    "    visualize_fs_report(axs[1], cat_features_report)\n",
    "    axs[0].set_xlabel('Numerical Features')\n",
    "    axs[0].set_ylabel('f-statistic')\n",
    "    axs[1].set_xlabel('Categorical Features')\n",
    "    axs[1].set_ylabel('chi2-statistic')\n",
    "    return fig"
   ]
  },
  {
   "cell_type": "code",
   "execution_count": 13,
   "id": "8fd62988-cae8-4ed7-808f-5582be182a13",
   "metadata": {},
   "outputs": [],
   "source": [
    "# fig, ax = plt.subplots(figsize=(9, 6))\n",
    "# visualize_fs_report(ax, anova_fs_report)\n",
    "# plt.show()"
   ]
  },
  {
   "cell_type": "code",
   "execution_count": 14,
   "id": "e9eb03cb-0ad3-4ec3-bb02-669c12c451f8",
   "metadata": {},
   "outputs": [],
   "source": [
    "# fig, ax = plt.subplots(figsize=(9, 6))\n",
    "# visualize_fs_report(ax, chi2_fs_report)\n",
    "# plt.show()"
   ]
  },
  {
   "cell_type": "code",
   "execution_count": 15,
   "id": "26ebe73d-81c9-4ccd-991a-ad2493ac6ad0",
   "metadata": {},
   "outputs": [
    {
     "data": {
      "image/png": "[encoded data removed]",
      "text/plain": [
       "<Figure size 1500x600 with 2 Axes>"
      ]
     },
     "metadata": {},
     "output_type": "display_data"
    }
   ],
   "source": [
    "fig = visualize_feature_importance(anova_fs_report, chi2_fs_report)"
   ]
  },
  {
   "cell_type": "code",
   "execution_count": 16,
   "id": "101ad4cf-624a-498c-9003-b63ebf3eba7e",
   "metadata": {},
   "outputs": [],
   "source": [
    "cols_to_drop = ['Credit_Utilization_Ratio', 'Total_EMI_per_month', 'Occupation', 'Month']"
   ]
  },
  {
   "cell_type": "code",
   "execution_count": 17,
   "id": "6f7d4798-01fb-4578-8044-a78d2c52d122",
   "metadata": {},
   "outputs": [],
   "source": [
    "X_reduced = X.drop(cols_to_drop, axis=1)"
   ]
  },
  {
   "cell_type": "code",
   "execution_count": 18,
   "id": "9507b47f-21ab-4fc8-b732-07eeadc5756e",
   "metadata": {},
   "outputs": [],
   "source": [
    "X_reduced_num_cols = X_reduced.select_dtypes(include=np.number).columns.to_list()"
   ]
  },
  {
   "cell_type": "code",
   "execution_count": 19,
   "id": "e095bbe3-f303-4d82-aa23-76b6eeaa3ead",
   "metadata": {},
   "outputs": [],
   "source": [
    "X_reduced_cat_cols = X_reduced.select_dtypes(exclude=np.number).columns.to_list()"
   ]
  },
  {
   "cell_type": "code",
   "execution_count": 20,
   "id": "1ed14197-1a27-4d2a-9f24-60ef405ba273",
   "metadata": {},
   "outputs": [],
   "source": [
    "cols_to_onehot = ['Credit_Mix', 'Payment_of_Min_Amount']\n",
    "\n",
    "pb_enc = OrdinalEncoder(categories= [\n",
    "    ['Low_spent_Small_value_payments',\n",
    "    'Low_spent_Medium_value_payments',\n",
    "    'Low_spent_Large_value_payments',\n",
    "    'High_spent_Small_value_payments',\n",
    "    'High_spent_Medium_value_payments',\n",
    "    'High_spent_Large_value_payments']\n",
    "])"
   ]
  },
  {
   "cell_type": "code",
   "execution_count": 21,
   "id": "88dd1542-4ad0-4504-bf80-77ff8235a7e9",
   "metadata": {},
   "outputs": [],
   "source": [
    "transformer1 = DataFrameMapper([\n",
    "    *[( [col], OneHotEncoder(drop='first'), {'input_df':True} ) for col in cols_to_onehot],\n",
    "    *[( [col], MinMaxScaler(), {'input_df':True} ) for col in X_reduced_num_cols],\n",
    "    (['Payment_Behaviour'], pb_enc, {'input_df':True})\n",
    "], df_out=True)\n",
    "\n",
    "transformer2 = DataFrameMapper([\n",
    "    *[( [col], OneHotEncoder(drop='first'), {'input_df':True} ) for col in cols_to_onehot],\n",
    "    *[( [col], MinMaxScaler(), {'input_df':True} ) for col in X_reduced_num_cols],\n",
    "    (['Payment_Behaviour'], [pb_enc, MinMaxScaler()], {'input_df':True})\n",
    "], df_out=True, drop_cols=['Credit_Mix_Bad'])\n",
    "\n",
    "transformer2_1 = DataFrameMapper([\n",
    "    *[( [col], OneHotEncoder(drop='first'), {'input_df':True} ) for col in cols_to_onehot],\n",
    "    *[( [col], MinMaxScaler(), {'input_df':True} ) for col in X_reduced_num_cols],\n",
    "    (['Payment_Behaviour'], [pb_enc, MinMaxScaler()], {'input_df':True})\n",
    "], df_out=True, drop_cols=['Credit_Mix_Bad', 'Num_of_Loan', 'Monthly_Inhand_Salary'])\n",
    "\n",
    "transformer2_2 = DataFrameMapper([\n",
    "    *[( [col], OneHotEncoder(drop='first'), {'input_df':True} ) for col in cols_to_onehot],\n",
    "    *[( [col], MinMaxScaler(), {'input_df':True} ) for col in X_reduced_num_cols],\n",
    "    (['Payment_Behaviour'], [pb_enc, MinMaxScaler()], {'input_df':True})\n",
    "], df_out=True, drop_cols=['Credit_Mix_Bad', 'Num_of_Loan', 'Annual_Income'])\n",
    "\n",
    "transformer3 = DataFrameMapper([\n",
    "    *[( [col], TargetEncoder(), {'input_df':True} ) for col in X_reduced_cat_cols],\n",
    "    *[( [col], MinMaxScaler(), {'input_df':True} ) for col in X_reduced_num_cols]\n",
    "], df_out=True)\n",
    "\n",
    "transformer3_1 = DataFrameMapper([\n",
    "    *[( [col], TargetEncoder(), {'input_df':True} ) for col in X_reduced_cat_cols],\n",
    "    *[( [col], MinMaxScaler(), {'input_df':True} ) for col in X_reduced_num_cols]\n",
    "], df_out=True, drop_cols=['Num_of_Loan', 'Monthly_Inhand_Salary'])\n",
    "\n",
    "transformer3_2 = DataFrameMapper([\n",
    "    *[( [col], TargetEncoder(), {'input_df':True} ) for col in X_reduced_cat_cols],\n",
    "    *[( [col], MinMaxScaler(), {'input_df':True} ) for col in X_reduced_num_cols]\n",
    "], df_out=True, drop_cols=['Num_of_Loan', 'Annual_Income'])"
   ]
  },
  {
   "cell_type": "code",
   "execution_count": 22,
   "id": "e8795898-4987-4185-a35a-38a9efb5c805",
   "metadata": {},
   "outputs": [],
   "source": [
    "def make_clf_pipeline(preprocessing_transformer:skpd.DataFrameMapper, model:sklearn_utils.ScikitModel, \n",
    "                      categorical:bool=False):\n",
    "    smote_flavor = SMOTE() if not categorical else SMOTENC(categorical_features='auto')\n",
    "    return Pipeline( \n",
    "        steps=[\n",
    "            ('preprocessing', preprocessing_transformer),\n",
    "            ('oversampling', smote_flavor),\n",
    "            ('model', model)\n",
    "        ])"
   ]
  },
  {
   "cell_type": "code",
   "execution_count": 23,
   "id": "cd4b8402-2396-4bb9-9a02-7d335a48ca6e",
   "metadata": {},
   "outputs": [],
   "source": [
    "def visualize_roc(y_test:np.ndarray, pred_proba:np.ndarray, labels:Optional[list]=None, figsize:tuple=(7,5)):\n",
    "    fpr = dict()\n",
    "    tpr = dict()\n",
    "    roc_auc = dict()\n",
    "    num_classes = pred_proba.shape[1]\n",
    "    \n",
    "    for i in range(num_classes):\n",
    "        fpr[i], tpr[i], _ = roc_curve(y_test, pred_proba[:, i], pos_label=i)\n",
    "        roc_auc[i] = auc(fpr[i], tpr[i])\n",
    "\n",
    "    fig, ax = plt.subplots(figsize=figsize)\n",
    "    colors = ['orangered', 'deepskyblue', 'forestgreen']\n",
    "    for i, color in zip(range(num_classes), colors):\n",
    "        cls = labels[i] if labels else i\n",
    "        ax.plot(fpr[i], tpr[i], color=color, lw=1.5,\n",
    "                 label=f'ROC of class \"{cls}\" (AUC={roc_auc[i]:0.2f})')\n",
    "        # ax.fill_between(fpr[i], tpr[i], color=color, alpha=.5)\n",
    "\n",
    "    ax.plot([0, 1], [0, 1], color='dimgray', linestyle='--',lw=2.5)\n",
    "    \n",
    "    ax.set_xlim([0.0, 1.0])\n",
    "    ax.set_ylim([0.0, 1.01])\n",
    "    ax.set_xlabel('False Positive Rate (fpr)')\n",
    "    ax.set_ylabel('True Positive Rate (tpr)')\n",
    "    ax.set_title('Receiver Operating Characteristic (ROC)')\n",
    "    ax.legend(loc=\"lower right\")\n",
    "\n",
    "    return ax"
   ]
  },
  {
   "cell_type": "code",
   "execution_count": 24,
   "id": "c7d4c35e-8a18-448e-9a2c-4fc1a1968eb1",
   "metadata": {
    "jupyter": {
     "source_hidden": true
    }
   },
   "outputs": [],
   "source": [
    "# def calculate_clf_metrics(model:sklearn_utils.ScikitModel, X_test:pd.DataFrame, y_test:np.ndarray):\n",
    "#     pred = model.predict(X_test)\n",
    "#     pred_proba = model.predict_proba(X_test)\n",
    "#     Metrics = namedtuple('Metrics', ['accuracy', 'recall', 'precision', 'f1_score', 'logloss'])\n",
    "#     return Metrics(\n",
    "#         accuracy_score(y_test, pred),\n",
    "#         recall_score(y_test, pred, average=None),\n",
    "#         precision_score(y_test, pred, average=None),\n",
    "#         f1_score(y_test, pred, average=None),\n",
    "#         log_loss(y_test, pred_proba)\n",
    "#     )"
   ]
  },
  {
   "cell_type": "code",
   "execution_count": 25,
   "id": "4389cb11-f97a-4b06-812c-0c10479e83e5",
   "metadata": {},
   "outputs": [],
   "source": [
    "def calculate_clf_metrics_averaged(model:sklearn_utils.ScikitModel, X_test:pd.DataFrame, y_test:np.ndarray, \n",
    "                                   average:Literal['macro', 'micro']='macro'):\n",
    "    pred = model.predict(X_test)\n",
    "    pred_proba = model.predict_proba(X_test)\n",
    "    Metrics = namedtuple('Metrics', ['accuracy', 'recall', 'precision', 'f1_score', 'logloss', 'auc_roc'])\n",
    "    return Metrics(\n",
    "        accuracy_score(y_test, pred),\n",
    "        recall_score(y_test, pred, average=average),\n",
    "        precision_score(y_test, pred, average=average),\n",
    "        f1_score(y_test, pred, average=average),\n",
    "        log_loss(y_test, pred_proba),\n",
    "        roc_auc_score(y_test, pred_proba, average=average, multi_class='ovr')\n",
    "    )"
   ]
  },
  {
   "cell_type": "code",
   "execution_count": 26,
   "id": "3491e2b6-8ff7-46ce-8338-28bdf0ffd58b",
   "metadata": {},
   "outputs": [],
   "source": [
    "def calculate_clf_metrics_averaged_cv(model:sklearn_utils.ScikitModel, X_train:pd.DataFrame, X_test:pd.DataFrame, \n",
    "                      y_train:np.ndarray, y_test:np.ndarray, cv:int, average:Literal['macro', 'micro']='macro'):\n",
    "    X, y = pd.concat([X_train, X_test]), np.vstack((y_train, y_test))\n",
    "    skf = StratifiedKFold(n_splits=cv)\n",
    "    metrics_results = []\n",
    "    for train_indecies, test_indecies in skf.split(X, y):\n",
    "        X_train, X_test = X.iloc[train_indecies, :], X.iloc[test_indecies, :]\n",
    "        y_train, y_test = y[train_indecies], y[test_indecies]\n",
    "        model.fit(X_train, y_train)\n",
    "        metrics = calculate_clf_metrics_averaged(model, X_test, y_test, average=average)\n",
    "        metrics_results.append(metrics)\n",
    "\n",
    "    metrics_avg = dict(pd.DataFrame([metrics_result._asdict() for metrics_result in metrics_results]).mean())\n",
    "\n",
    "    return metrics_avg"
   ]
  },
  {
   "cell_type": "code",
   "execution_count": 27,
   "id": "e60be233-ac5e-4e89-b6b9-7f0a6d23d6e4",
   "metadata": {},
   "outputs": [],
   "source": [
    "def get_model_accuracy(model:sklearn_utils.ScikitModel, X_test:pd.DataFrame, y_test:np.ndarray):\n",
    "    pred = model.predict(X_test)\n",
    "    return accuracy_score(y_test, pred)"
   ]
  },
  {
   "cell_type": "code",
   "execution_count": 28,
   "id": "7952458d-e8f7-4259-8cd1-cad0198ca8b3",
   "metadata": {},
   "outputs": [],
   "source": [
    "def visualize_confusion_matrix(y_true:np.ndarray, y_pred:np.ndarray, labels:Optional[list]=None, figsize:tuple=(7,5)):\n",
    "    cm = confusion_matrix(y_true, y_pred)\n",
    "    labels = 'auto' if labels is None else labels\n",
    "    \n",
    "    fig, ax = plt.subplots(figsize=figsize)\n",
    "    sns.heatmap(data=cm, annot=True, xticklabels=labels, yticklabels=labels, \n",
    "                cbar=False, linecolor='dimgray', linewidths=.2, fmt='d', \n",
    "                cmap='Blues', ax=ax)\n",
    "    ax.set_xlabel('Predicted labels')\n",
    "    ax.xaxis.set_label_position(\"top\") \n",
    "    ax.set_ylabel('Actual labels')\n",
    "    ax.yaxis.tick_right()\n",
    "    \n",
    "    return ax"
   ]
  },
  {
   "cell_type": "code",
   "execution_count": 29,
   "id": "eb326ebf-0db7-4fd8-b4ef-0efd369bb512",
   "metadata": {},
   "outputs": [],
   "source": [
    "def save_visualization(plt_obj:Union[plt.Axes, plt.Figure], fname:str, *args, **kwargs):\n",
    "    if type(plt_obj) == 'matplotlib.figure.Figure':\n",
    "        plt_obj.savefig(fname, *args, **kwargs)\n",
    "    else:\n",
    "        plt_obj.get_figure().savefig(fname, *args, **kwargs)"
   ]
  },
  {
   "cell_type": "code",
   "execution_count": 30,
   "id": "d920fec2-2779-4a61-8a32-cf8c1e52ba82",
   "metadata": {},
   "outputs": [],
   "source": [
    "def get_data_context(df_name:str):\n",
    "    df_first_char = df_name.split('_')[0]\n",
    "    df_context = 'Training' if df_first_char == 'X' else 'Testing'\n",
    "    return df_context"
   ]
  },
  {
   "cell_type": "code",
   "execution_count": null,
   "id": "2633b4a5-a255-49fd-8822-62729d504e33",
   "metadata": {},
   "outputs": [],
   "source": []
  },
  {
   "cell_type": "code",
   "execution_count": 31,
   "id": "044d0fd5-38c3-4a11-b46b-9befa9046e82",
   "metadata": {},
   "outputs": [],
   "source": [
    "def run_experiment(experiment_name:str, X_train:pd.DataFrame, y_train:np.ndarray,\n",
    "                   X_test:pd.DataFrame, y_test:np.ndarray, \n",
    "                   models:dict[str, sklearn_utils.ScikitModel], model_params:Optional[dict]=None,\n",
    "                   artifacts_folder:Path=None, cv:Optional[int]=None, register_models:bool=False):\n",
    "\n",
    "    if artifacts_folder is None:\n",
    "        experiment_dirname = f'exp_{experiment_name}_artifacts'\n",
    "        artifacts_folder = files_utils.create_dir(experiment_dirname, replace_existing=True)\n",
    "    elif not Path.is_dir(artifacts_folder):\n",
    "        raise OSError(f'Directory \"{artifacts_folder}\" doesn\\'t exist, you may want to create it first.')\n",
    "\n",
    "    \n",
    "    mlflow_tracking_uri = os.getenv('MLFLOW_TRACKING_URI')\n",
    "    mlflow.set_tracking_uri(mlflow_tracking_uri)\n",
    "    \n",
    "    mlflow.set_experiment(experiment_name)\n",
    "\n",
    "    progress_bar_models = tqdm(models.items())\n",
    "    for model_name, model in progress_bar_models:\n",
    "        progress_bar_models.set_description(f'Logging model [ {model_name} ]')\n",
    "        \n",
    "        with mlflow.start_run(run_name=f'{model_name}_run'):\n",
    "            \n",
    "            \n",
    "            # Model fitting and calculating metrics\n",
    "            if model_params is not None:\n",
    "                # logging model params\n",
    "                mlflow.log_params(model_params)\n",
    "                params = {f'model__{k}':v for k, v in model_params.items()}\n",
    "                model.set_params(**params).fit(X_train, y_train)\n",
    "                metrics_dict = calculate_clf_metrics_averaged_cv(model, X_train, X_test, y_train, y_test, cv=cv) \\\n",
    "                                    if cv is not None \\\n",
    "                                else calculate_clf_metrics_averaged(model, X_test, y_test)._asdict()\n",
    "            else:\n",
    "                model.fit(X_train, y_train)\n",
    "                metrics_dict = calculate_clf_metrics_averaged_cv(model, X_train, X_test, y_train, y_test, cv=cv) \\\n",
    "                                    if cv is not None \\\n",
    "                                else calculate_clf_metrics_averaged(model, X_test, y_test)._asdict()\n",
    "\n",
    "                \n",
    "            pred = model.predict(X_test)\n",
    "            pred_probas = model.predict_proba(X_test)\n",
    "\n",
    "\n",
    "            # logging the metrics\n",
    "            for metric_name, metric_value in metrics_dict.items():\n",
    "                mlflow.log_metric(metric_name, metric_value)\n",
    "    \n",
    "            # logging the model\n",
    "            registered_model_name = model_name if register_models else None\n",
    "            mlflow.sklearn.log_model(model, model_name, registered_model_name=registered_model_name)\n",
    "\n",
    "            # logging metrics visualizations\n",
    "            extension = 'png'\n",
    "            \n",
    "            plt.ioff()\n",
    "            \n",
    "            cm_filename = f'confusion_matrix_{model_name}'\n",
    "            cm_path = artifacts_folder/f\"{cm_filename}.{extension}\"\n",
    "            cm = visualize_confusion_matrix(y_test, pred, labels=['Poor', 'Standard', 'Good'])\n",
    "            save_visualization(cm, cm_path)\n",
    "            mlflow.log_artifact(cm_path, cm_filename)\n",
    "            \n",
    "            \n",
    "            roc_auc_filename = f'roc_auc_{model_name}'\n",
    "            roc_auc_path = artifacts_folder/f\"{roc_auc_filename}.{extension}\"\n",
    "            roc_auc_display = visualize_roc(y_test, pred_probas, ['Poor', 'Standard', 'Good'])\n",
    "            save_visualization(roc_auc_display, roc_auc_path)\n",
    "            mlflow.log_artifact(roc_auc_path, roc_auc_filename)"
   ]
  },
  {
   "cell_type": "code",
   "execution_count": null,
   "id": "b0c39b80-a06e-402b-95fc-c5e25100b362",
   "metadata": {},
   "outputs": [],
   "source": []
  },
  {
   "cell_type": "code",
   "execution_count": 32,
   "id": "584be0be-c38e-4161-94a2-28b32b4c187a",
   "metadata": {},
   "outputs": [],
   "source": [
    "rf_baseline_models = {\n",
    "    'rf_baseline_trans1': make_clf_pipeline(transformer1, RandomForestClassifier(n_jobs=-1)),\n",
    "    'rf_baseline_trans2': make_clf_pipeline(transformer2, RandomForestClassifier(n_jobs=-1)),\n",
    "    'rf_baseline_trans2_1': make_clf_pipeline(transformer2_1, RandomForestClassifier(n_jobs=-1)),\n",
    "    'rf_baseline_trans2_2': make_clf_pipeline(transformer2_2, RandomForestClassifier(n_jobs=-1)),\n",
    "    'rf_baseline_trans3': make_clf_pipeline(transformer3, RandomForestClassifier(n_jobs=-1)),\n",
    "    'rf_baseline_trans3_1': make_clf_pipeline(transformer3_1, RandomForestClassifier(n_jobs=-1)),\n",
    "    'rf_baseline_trans3_2': make_clf_pipeline(transformer3_2, RandomForestClassifier(n_jobs=-1))\n",
    "}"
   ]
  },
  {
   "cell_type": "code",
   "execution_count": 33,
   "id": "4cfd6e90-d9ba-4b93-8634-e81eeded8307",
   "metadata": {},
   "outputs": [],
   "source": [
    "X_train, X_test, y_train, y_test = train_test_split(X_reduced, target, test_size=.1, random_state=123, stratify=target)"
   ]
  },
  {
   "cell_type": "code",
   "execution_count": null,
   "id": "9113b8f0-8771-49bc-a313-a8c27791bfd5",
   "metadata": {},
   "outputs": [],
   "source": []
  },
  {
   "cell_type": "code",
   "execution_count": 34,
   "id": "6e933cfd-8570-4294-ae28-b799f13434dc",
   "metadata": {},
   "outputs": [
    {
     "name": "stderr",
     "output_type": "stream",
     "text": [
      "2024/01/16 00:51:53 INFO mlflow.tracking.fluent: Experiment with name 'random_forest_baseline_variants' does not exist. Creating a new experiment.\n"
     ]
    },
    {
     "data": {
      "application/vnd.jupyter.widget-view+json": {
       "model_id": "ae5079eb5d1f4d12b1a438d346c90f66",
       "version_major": 2,
       "version_minor": 0
      },
      "text/plain": [
       "  0%|          | 0/7 [00:00<?, ?it/s]"
      ]
     },
     "metadata": {},
     "output_type": "display_data"
    }
   ],
   "source": [
    "run_experiment(\"random_forest_baseline_variants\", X_train, y_train, X_test, y_test, rf_baseline_models)"
   ]
  },
  {
   "cell_type": "code",
   "execution_count": null,
   "id": "0e1e1c9f-8e26-4c6e-9030-e5f2306e2f23",
   "metadata": {},
   "outputs": [],
   "source": []
  },
  {
   "cell_type": "code",
   "execution_count": 35,
   "id": "dacbd094-2b5a-44bf-b29b-5f565feb018e",
   "metadata": {},
   "outputs": [],
   "source": [
    "xgb_baseline_models = {\n",
    "    'xgb_baseline_trans2_2': make_clf_pipeline(\n",
    "        preprocessing_transformer=transformer2_2,\n",
    "        model=XGBClassifier(tree_method='hist', n_jobs=-1)\n",
    "    ),\n",
    "    'xgb_baseline_trans3_2': make_clf_pipeline(\n",
    "            preprocessing_transformer=transformer3_2,\n",
    "            model=XGBClassifier(tree_method='hist', n_jobs=-1)\n",
    "        )\n",
    "}"
   ]
  },
  {
   "cell_type": "code",
   "execution_count": 36,
   "id": "8ab21daa-d5ae-457e-9277-8f31528d7777",
   "metadata": {},
   "outputs": [
    {
     "name": "stderr",
     "output_type": "stream",
     "text": [
      "2024/01/16 01:03:21 INFO mlflow.tracking.fluent: Experiment with name 'xgboost_baseline_variants' does not exist. Creating a new experiment.\n"
     ]
    },
    {
     "data": {
      "application/vnd.jupyter.widget-view+json": {
       "model_id": "a8b8208eb4064f3e8ff85cc21a1c3177",
       "version_major": 2,
       "version_minor": 0
      },
      "text/plain": [
       "  0%|          | 0/2 [00:00<?, ?it/s]"
      ]
     },
     "metadata": {},
     "output_type": "display_data"
    }
   ],
   "source": [
    "run_experiment(\"xgboost_baseline_variants\", X_train, y_train, X_test, y_test, xgb_baseline_models)"
   ]
  },
  {
   "cell_type": "code",
   "execution_count": null,
   "id": "881e5d9d-2a05-4e91-9205-05c43161f33c",
   "metadata": {},
   "outputs": [],
   "source": []
  },
  {
   "cell_type": "code",
   "execution_count": 37,
   "id": "8c31025d-5dee-450a-b2de-09c15c910cf3",
   "metadata": {},
   "outputs": [],
   "source": [
    "lgbm_baseline_models = {\n",
    "    'lgbm_baseline_trans2_2': make_clf_pipeline(\n",
    "        preprocessing_transformer=transformer2_2,\n",
    "        model=LGBMClassifier(objective='multiclass', n_jobs=-1)\n",
    "    ),\n",
    "    'lgbm_baseline_trans3_2': make_clf_pipeline(\n",
    "            preprocessing_transformer=transformer3_2,\n",
    "            model=LGBMClassifier(objective='multiclass', n_jobs=-1)\n",
    "        )\n",
    "}"
   ]
  },
  {
   "cell_type": "code",
   "execution_count": 38,
   "id": "fb97a7a4-ddbf-4829-a8f2-bb821c7c9734",
   "metadata": {},
   "outputs": [
    {
     "name": "stderr",
     "output_type": "stream",
     "text": [
      "2024/01/16 01:03:56 INFO mlflow.tracking.fluent: Experiment with name 'lgbm_baseline_variants' does not exist. Creating a new experiment.\n"
     ]
    },
    {
     "data": {
      "application/vnd.jupyter.widget-view+json": {
       "model_id": "d059abaf83564e77ba718e67d4f441b5",
       "version_major": 2,
       "version_minor": 0
      },
      "text/plain": [
       "  0%|          | 0/2 [00:00<?, ?it/s]"
      ]
     },
     "metadata": {},
     "output_type": "display_data"
    },
    {
     "name": "stdout",
     "output_type": "stream",
     "text": [
      "[LightGBM] [Info] Auto-choosing row-wise multi-threading, the overhead of testing was 0.015949 seconds.\n",
      "You can set `force_row_wise=true` to remove the overhead.\n",
      "And if memory is not enough, you can set `force_col_wise=true`.\n",
      "[LightGBM] [Info] Total Bins 6330\n",
      "[LightGBM] [Info] Number of data points in the train set: 143571, number of used features: 28\n",
      "[LightGBM] [Info] Start training from score -1.098612\n",
      "[LightGBM] [Info] Start training from score -1.098612\n",
      "[LightGBM] [Info] Start training from score -1.098612\n",
      "[LightGBM] [Info] Auto-choosing col-wise multi-threading, the overhead of testing was 0.021111 seconds.\n",
      "You can set `force_col_wise=true` to remove the overhead.\n",
      "[LightGBM] [Info] Total Bins 6269\n",
      "[LightGBM] [Info] Number of data points in the train set: 143571, number of used features: 27\n",
      "[LightGBM] [Info] Start training from score -1.098612\n",
      "[LightGBM] [Info] Start training from score -1.098612\n",
      "[LightGBM] [Info] Start training from score -1.098612\n"
     ]
    }
   ],
   "source": [
    "run_experiment(\"lgbm_baseline_variants\", X_train, y_train, X_test, y_test, lgbm_baseline_models)"
   ]
  },
  {
   "cell_type": "code",
   "execution_count": null,
   "id": "ea578d16-a411-4019-87df-430acc21c9c1",
   "metadata": {},
   "outputs": [],
   "source": []
  },
  {
   "cell_type": "code",
   "execution_count": 39,
   "id": "2673abab-830a-48b9-9dfc-5b91ce9fe777",
   "metadata": {},
   "outputs": [
    {
     "data": {
      "text/plain": [
       "['Mortgage_Loan',\n",
       " 'Personal_Loan',\n",
       " 'Credit-Builder_Loan',\n",
       " 'Debt_Consolidation_Loan',\n",
       " 'Payday_Loan',\n",
       " 'Auto_Loan',\n",
       " 'Not_Specified_Loan',\n",
       " 'Home_Equity_Loan',\n",
       " 'Student_Loan']"
      ]
     },
     "execution_count": 39,
     "metadata": {},
     "output_type": "execute_result"
    }
   ],
   "source": [
    "loans_cols = [col for col in X_reduced.columns if ('Loan' in col) and (col != 'Num_of_Loan')]\n",
    "loans_cols"
   ]
  },
  {
   "cell_type": "code",
   "execution_count": 40,
   "id": "2cac55ce-8fbe-4177-811b-fffdf6f9bb72",
   "metadata": {},
   "outputs": [],
   "source": [
    "num_cols_without_loans = [col for col in X_reduced_num_cols if col not in loans_cols]"
   ]
  },
  {
   "cell_type": "code",
   "execution_count": 41,
   "id": "355d1403-902a-4d9e-80d2-d8dc80f6c98f",
   "metadata": {},
   "outputs": [],
   "source": [
    "transformer4 = DataFrameMapper([\n",
    "    (loans_cols, sklearn_utils.ReduceObjColsToOneCatCol(), {'alias':'Type_of_Loan', 'input_df':True}),\n",
    "    *[([col], sklearn_utils.ConvertObjColsToCat(), {'input_df': True}) for col in X_reduced_cat_cols],\n",
    "    *[([col], MinMaxScaler()) for col in num_cols_without_loans]\n",
    "], df_out=True)\n",
    "\n",
    "transformer4_1 = DataFrameMapper([\n",
    "    (loans_cols, sklearn_utils.ReduceObjColsToOneCatCol(), {'alias':'Type_of_Loan', 'input_df':True}),\n",
    "    *[([col], sklearn_utils.ConvertObjColsToCat(), {'input_df': True}) for col in X_reduced_cat_cols],\n",
    "    *[([col], MinMaxScaler()) for col in num_cols_without_loans]\n",
    "], df_out=True, drop_cols=['Num_of_Loan'])\n",
    "\n",
    "transformer4_2 = DataFrameMapper([\n",
    "    (loans_cols, sklearn_utils.ReduceObjColsToOneCatCol(), {'alias':'Type_of_Loan', 'input_df':True}),\n",
    "    *[([col], sklearn_utils.ConvertObjColsToCat(), {'input_df': True}) for col in X_reduced_cat_cols],\n",
    "    *[([col], MinMaxScaler()) for col in num_cols_without_loans]\n",
    "], df_out=True, drop_cols=['Num_of_Loan', 'Annual_Income'])\n",
    "\n",
    "transformer5 = DataFrameMapper([\n",
    "    (loans_cols, [sklearn_utils.ReduceObjColsToOneCatCol(), TargetEncoder()], {'alias':'Type_of_Loan', 'input_df':True}),\n",
    "    *[([col], TargetEncoder(), {'input_df': True}) for col in X_reduced_cat_cols],\n",
    "    *[([col], MinMaxScaler()) for col in num_cols_without_loans]\n",
    "], df_out=True)\n",
    "\n",
    "transformer5_1 = DataFrameMapper([\n",
    "    (loans_cols, [sklearn_utils.ReduceObjColsToOneCatCol(), TargetEncoder()], {'alias':'Type_of_Loan', 'input_df':True}),\n",
    "    *[([col], TargetEncoder(), {'input_df': True}) for col in X_reduced_cat_cols],\n",
    "    *[([col], MinMaxScaler()) for col in num_cols_without_loans]\n",
    "], df_out=True, drop_cols=['Num_of_Loan'])\n",
    "\n",
    "transformer5_2 = DataFrameMapper([\n",
    "    (loans_cols, [sklearn_utils.ReduceObjColsToOneCatCol(), TargetEncoder()], {'alias':'Type_of_Loan', 'input_df':True}),\n",
    "    *[([col], TargetEncoder(), {'input_df': True}) for col in X_reduced_cat_cols],\n",
    "    *[([col], MinMaxScaler()) for col in num_cols_without_loans]\n",
    "], df_out=True, drop_cols=['Num_of_Loan', 'Annual_Income'])\n",
    "\n",
    "transformer6 = DataFrameMapper([\n",
    "    *[([col], sklearn_utils.ConvertObjColsToCat(), {'input_df': True}) for col in X_reduced_cat_cols],\n",
    "    *[([col], MinMaxScaler()) for col in X_reduced_num_cols]\n",
    "], df_out=True)\n",
    "\n",
    "transformer6_1 = DataFrameMapper([\n",
    "    *[([col], sklearn_utils.ConvertObjColsToCat(), {'input_df': True}) for col in X_reduced_cat_cols],\n",
    "    *[([col], MinMaxScaler()) for col in X_reduced_num_cols]\n",
    "], df_out=True, drop_cols=['Num_of_Loan'])\n",
    "\n",
    "transformer6_2 = DataFrameMapper([\n",
    "    *[([col], sklearn_utils.ConvertObjColsToCat(), {'input_df': True}) for col in X_reduced_cat_cols],\n",
    "    *[([col], MinMaxScaler()) for col in X_reduced_num_cols]\n",
    "], df_out=True, drop_cols=['Num_of_Loan', 'Annual_Income'])"
   ]
  },
  {
   "cell_type": "code",
   "execution_count": 42,
   "id": "ae731418-8e0a-4cfa-987e-e72a593e87fc",
   "metadata": {},
   "outputs": [],
   "source": [
    "xgb_baseline_models2 = {\n",
    "    'xgb_baseline_trans4': make_clf_pipeline(\n",
    "        preprocessing_transformer=transformer4,\n",
    "        model=XGBClassifier(enable_categorical=True, tree_method='hist', n_jobs=-1),\n",
    "        categorical=True\n",
    "    ),\n",
    "    'xgb_baseline_trans4_1': make_clf_pipeline(\n",
    "        preprocessing_transformer=transformer4_1,\n",
    "        model=XGBClassifier(enable_categorical=True, tree_method='hist', n_jobs=-1),\n",
    "        categorical=True\n",
    "    ),\n",
    "    'xgb_baseline_trans4_2': make_clf_pipeline(\n",
    "        preprocessing_transformer=transformer4_2,\n",
    "        model=XGBClassifier(enable_categorical=True, tree_method='hist', n_jobs=-1),\n",
    "        categorical=True\n",
    "    ),\n",
    "    'xgb_baseline_trans5': make_clf_pipeline(\n",
    "            preprocessing_transformer=transformer5,\n",
    "            model=XGBClassifier(tree_method='hist', n_jobs=-1)\n",
    "        ),\n",
    "    'xgb_baseline_trans5_1': make_clf_pipeline(\n",
    "            preprocessing_transformer=transformer5_1,\n",
    "            model=XGBClassifier(tree_method='hist', n_jobs=-1)\n",
    "        ),\n",
    "    'xgb_baseline_trans5_2': make_clf_pipeline(\n",
    "            preprocessing_transformer=transformer5_2,\n",
    "            model=XGBClassifier(tree_method='hist', n_jobs=-1)\n",
    "        ),\n",
    "    'xgb_baseline_trans6': make_clf_pipeline(\n",
    "            preprocessing_transformer=transformer6,\n",
    "            model=XGBClassifier(enable_categorical=True, tree_method='hist', n_jobs=-1),\n",
    "            categorical=True\n",
    "        ),\n",
    "    'xgb_baseline_trans6_1': make_clf_pipeline(\n",
    "            preprocessing_transformer=transformer6_1,\n",
    "            model=XGBClassifier(enable_categorical=True, tree_method='hist', n_jobs=-1),\n",
    "            categorical=True\n",
    "        ),\n",
    "    'xgb_baseline_trans6_2': make_clf_pipeline(\n",
    "            preprocessing_transformer=transformer6_2,\n",
    "            model=XGBClassifier(enable_categorical=True, tree_method='hist', n_jobs=-1),\n",
    "            categorical=True\n",
    "        ),\n",
    "}"
   ]
  },
  {
   "cell_type": "code",
   "execution_count": 43,
   "id": "e2013e55-b545-4409-b270-655948964547",
   "metadata": {},
   "outputs": [
    {
     "name": "stderr",
     "output_type": "stream",
     "text": [
      "2024/01/16 01:04:31 INFO mlflow.tracking.fluent: Experiment with name 'xgboost_baseline_variants_2' does not exist. Creating a new experiment.\n"
     ]
    },
    {
     "data": {
      "application/vnd.jupyter.widget-view+json": {
       "model_id": "594b39b6cda74c55b2df223191578cd8",
       "version_major": 2,
       "version_minor": 0
      },
      "text/plain": [
       "  0%|          | 0/9 [00:00<?, ?it/s]"
      ]
     },
     "metadata": {},
     "output_type": "display_data"
    }
   ],
   "source": [
    "run_experiment(\"xgboost_baseline_variants_2\", X_train, y_train, X_test, y_test, xgb_baseline_models2)"
   ]
  },
  {
   "cell_type": "code",
   "execution_count": null,
   "id": "701428fa-a388-430c-9144-7d038d834d44",
   "metadata": {},
   "outputs": [],
   "source": []
  },
  {
   "cell_type": "code",
   "execution_count": 44,
   "id": "fd0aa985-8c9f-4c1e-9aaf-b19371f7d9f3",
   "metadata": {},
   "outputs": [],
   "source": [
    "lgbm_baseline_models2 = {\n",
    "    'lgbm_baseline_trans4': make_clf_pipeline(\n",
    "        preprocessing_transformer=transformer4,\n",
    "        model=LGBMClassifier(objective='multiclass', n_jobs=-1),\n",
    "        categorical=True\n",
    "    ),\n",
    "    'lgbm_baseline_trans4_1': make_clf_pipeline(\n",
    "        preprocessing_transformer=transformer4_1,\n",
    "        model=LGBMClassifier(objective='multiclass', n_jobs=-1),\n",
    "        categorical=True\n",
    "    ),\n",
    "    'lgbm_baseline_trans4_2': make_clf_pipeline(\n",
    "        preprocessing_transformer=transformer4_2,\n",
    "        model=LGBMClassifier(objective='multiclass', n_jobs=-1),\n",
    "        categorical=True\n",
    "    ),\n",
    "    'lgbm_baseline_trans5': make_clf_pipeline(\n",
    "        preprocessing_transformer=transformer5,\n",
    "        model=LGBMClassifier(objective='multiclass', n_jobs=-1),\n",
    "    ),\n",
    "    'lgbm_baseline_trans5_1': make_clf_pipeline(\n",
    "        preprocessing_transformer=transformer5_1,\n",
    "        model=LGBMClassifier(objective='multiclass', n_jobs=-1),\n",
    "    ),\n",
    "    'lgbm_baseline_trans5_2': make_clf_pipeline(\n",
    "        preprocessing_transformer=transformer5_2,\n",
    "        model=LGBMClassifier(objective='multiclass', n_jobs=-1),\n",
    "    ),\n",
    "    'lgbm_baseline_trans6': make_clf_pipeline(\n",
    "        preprocessing_transformer=transformer6,\n",
    "        model=LGBMClassifier(objective='multiclass', n_jobs=-1),\n",
    "        categorical=True\n",
    "    ),\n",
    "    'lgbm_baseline_trans6_1': make_clf_pipeline(\n",
    "        preprocessing_transformer=transformer6_1,\n",
    "        model=LGBMClassifier(objective='multiclass', n_jobs=-1),\n",
    "        categorical=True\n",
    "    ),\n",
    "    'lgbm_baseline_trans6_2': make_clf_pipeline(\n",
    "        preprocessing_transformer=transformer6_2,\n",
    "        model=LGBMClassifier(objective='multiclass', n_jobs=-1),\n",
    "        categorical=True\n",
    "    )\n",
    "}"
   ]
  },
  {
   "cell_type": "code",
   "execution_count": 45,
   "id": "1c7e6d9f-23cc-4f17-88f1-b7862dd54c87",
   "metadata": {
    "scrolled": true
   },
   "outputs": [
    {
     "name": "stderr",
     "output_type": "stream",
     "text": [
      "2024/01/16 01:20:20 INFO mlflow.tracking.fluent: Experiment with name 'lgbm_baseline_variants_2' does not exist. Creating a new experiment.\n"
     ]
    },
    {
     "data": {
      "application/vnd.jupyter.widget-view+json": {
       "model_id": "20ff6338ceae4968b21e89b5af535b6e",
       "version_major": 2,
       "version_minor": 0
      },
      "text/plain": [
       "  0%|          | 0/9 [00:00<?, ?it/s]"
      ]
     },
     "metadata": {},
     "output_type": "display_data"
    },
    {
     "name": "stdout",
     "output_type": "stream",
     "text": [
      "[LightGBM] [Warning] Categorical features with more bins than the configured maximum bin number found.\n",
      "[LightGBM] [Warning] For categorical features, max_bin and max_bin_by_feature may be ignored with a large number of categories.\n",
      "[LightGBM] [Info] Auto-choosing col-wise multi-threading, the overhead of testing was 0.013863 seconds.\n",
      "You can set `force_col_wise=true` to remove the overhead.\n",
      "[LightGBM] [Info] Total Bins 7316\n",
      "[LightGBM] [Info] Number of data points in the train set: 143571, number of used features: 19\n",
      "[LightGBM] [Info] Start training from score -1.098612\n",
      "[LightGBM] [Info] Start training from score -1.098612\n",
      "[LightGBM] [Info] Start training from score -1.098612\n",
      "[LightGBM] [Warning] Categorical features with more bins than the configured maximum bin number found.\n",
      "[LightGBM] [Warning] For categorical features, max_bin and max_bin_by_feature may be ignored with a large number of categories.\n",
      "[LightGBM] [Info] Auto-choosing col-wise multi-threading, the overhead of testing was 0.018324 seconds.\n",
      "You can set `force_col_wise=true` to remove the overhead.\n",
      "[LightGBM] [Info] Total Bins 7314\n",
      "[LightGBM] [Info] Number of data points in the train set: 143571, number of used features: 19\n",
      "[LightGBM] [Info] Start training from score -1.098612\n",
      "[LightGBM] [Info] Start training from score -1.098612\n",
      "[LightGBM] [Info] Start training from score -1.098612\n",
      "[LightGBM] [Warning] Categorical features with more bins than the configured maximum bin number found.\n",
      "[LightGBM] [Warning] For categorical features, max_bin and max_bin_by_feature may be ignored with a large number of categories.\n",
      "[LightGBM] [Info] Auto-choosing col-wise multi-threading, the overhead of testing was 0.012094 seconds.\n",
      "You can set `force_col_wise=true` to remove the overhead.\n",
      "[LightGBM] [Info] Total Bins 7313\n",
      "[LightGBM] [Info] Number of data points in the train set: 143571, number of used features: 19\n",
      "[LightGBM] [Info] Start training from score -1.098612\n",
      "[LightGBM] [Info] Start training from score -1.098612\n",
      "[LightGBM] [Info] Start training from score -1.098612\n",
      "[LightGBM] [Info] Auto-choosing col-wise multi-threading, the overhead of testing was 0.015540 seconds.\n",
      "You can set `force_col_wise=true` to remove the overhead.\n",
      "[LightGBM] [Info] Total Bins 4324\n",
      "[LightGBM] [Info] Number of data points in the train set: 143571, number of used features: 19\n",
      "[LightGBM] [Info] Start training from score -1.098612\n",
      "[LightGBM] [Info] Start training from score -1.098612\n",
      "[LightGBM] [Info] Start training from score -1.098612\n",
      "[LightGBM] [Info] Auto-choosing col-wise multi-threading, the overhead of testing was 0.014051 seconds.\n",
      "You can set `force_col_wise=true` to remove the overhead.\n",
      "[LightGBM] [Info] Total Bins 4323\n",
      "[LightGBM] [Info] Number of data points in the train set: 143571, number of used features: 19\n",
      "[LightGBM] [Info] Start training from score -1.098612\n",
      "[LightGBM] [Info] Start training from score -1.098612\n",
      "[LightGBM] [Info] Start training from score -1.098612\n",
      "[LightGBM] [Info] Auto-choosing col-wise multi-threading, the overhead of testing was 0.014598 seconds.\n",
      "You can set `force_col_wise=true` to remove the overhead.\n",
      "[LightGBM] [Info] Total Bins 4323\n",
      "[LightGBM] [Info] Number of data points in the train set: 143571, number of used features: 19\n",
      "[LightGBM] [Info] Start training from score -1.098612\n",
      "[LightGBM] [Info] Start training from score -1.098612\n",
      "[LightGBM] [Info] Start training from score -1.098612\n",
      "[LightGBM] [Info] Auto-choosing row-wise multi-threading, the overhead of testing was 0.014793 seconds.\n",
      "You can set `force_row_wise=true` to remove the overhead.\n",
      "And if memory is not enough, you can set `force_col_wise=true`.\n",
      "[LightGBM] [Info] Total Bins 6004\n",
      "[LightGBM] [Info] Number of data points in the train set: 143571, number of used features: 27\n",
      "[LightGBM] [Info] Start training from score -1.098612\n",
      "[LightGBM] [Info] Start training from score -1.098612\n",
      "[LightGBM] [Info] Start training from score -1.098612\n",
      "[LightGBM] [Info] Auto-choosing row-wise multi-threading, the overhead of testing was 0.011692 seconds.\n",
      "You can set `force_row_wise=true` to remove the overhead.\n",
      "And if memory is not enough, you can set `force_col_wise=true`.\n",
      "[LightGBM] [Info] Total Bins 6004\n",
      "[LightGBM] [Info] Number of data points in the train set: 143571, number of used features: 27\n",
      "[LightGBM] [Info] Start training from score -1.098612\n",
      "[LightGBM] [Info] Start training from score -1.098612\n",
      "[LightGBM] [Info] Start training from score -1.098612\n",
      "[LightGBM] [Info] Auto-choosing col-wise multi-threading, the overhead of testing was 0.029279 seconds.\n",
      "You can set `force_col_wise=true` to remove the overhead.\n",
      "[LightGBM] [Info] Total Bins 6008\n",
      "[LightGBM] [Info] Number of data points in the train set: 143571, number of used features: 27\n",
      "[LightGBM] [Info] Start training from score -1.098612\n",
      "[LightGBM] [Info] Start training from score -1.098612\n",
      "[LightGBM] [Info] Start training from score -1.098612\n"
     ]
    }
   ],
   "source": [
    "run_experiment(\"lgbm_baseline_variants_2\", X_train, y_train, X_test, y_test, lgbm_baseline_models2)"
   ]
  },
  {
   "cell_type": "code",
   "execution_count": null,
   "id": "5efdbfc6-f2dd-4ae8-aace-37c514ccce4c",
   "metadata": {},
   "outputs": [],
   "source": []
  },
  {
   "cell_type": "code",
   "execution_count": 46,
   "id": "94d6e392-0ece-45a6-a34d-96f9cbf5e441",
   "metadata": {},
   "outputs": [],
   "source": [
    "class Objective_rf_trans2_2():\n",
    "    def __init__(self, X, y, cv=5):\n",
    "        self.X, self.y = X, y\n",
    "        self.cv = cv\n",
    "\n",
    "    def __call__(self, trial:optuna.Trial):\n",
    "        X, y = self.X, self.y\n",
    "        \n",
    "        params = {\n",
    "            \"n_estimators\": trial.suggest_int(name=\"n_estimators\", low=100, high=500),\n",
    "            \"min_samples_split\": trial.suggest_int(name=\"min_samples_split\", low=3, high=10),\n",
    "            \"max_features\": trial.suggest_categorical(name=\"max_features\", choices=['sqrt', 'log2', None]) ,\n",
    "            \"max_depth\": trial.suggest_int(name=\"max_depth\", low=10, high=110, step=10),\n",
    "            \"min_samples_leaf\": trial.suggest_int(name=\"min_samples_leaf\", low=1, high=5, step=1)         \n",
    "        }\n",
    "\n",
    "        model = make_clf_pipeline(transformer2_2, \n",
    "                              RandomForestClassifier(random_state=123, bootstrap=True, **params))\n",
    "        \n",
    "        cv = StratifiedKFold(n_splits=self.cv, shuffle=True, random_state=1234)\n",
    "        accuracy = cross_val_score(model, X, y, cv=cv,  n_jobs=-1).mean()\n",
    "    \n",
    "        return accuracy"
   ]
  },
  {
   "cell_type": "code",
   "execution_count": 47,
   "id": "1f8d490a-c393-4acd-8f84-e90190487497",
   "metadata": {
    "scrolled": true
   },
   "outputs": [],
   "source": [
    "# optuna.delete_study(study_name=\"rf_trans2_2\", storage='sqlite:///optuna.db')"
   ]
  },
  {
   "cell_type": "code",
   "execution_count": 48,
   "id": "c45873f9-e113-44ed-9251-e5b5581a075b",
   "metadata": {},
   "outputs": [],
   "source": [
    "objective_rf_trans2_2 = Objective_rf_trans2_2(X_reduced, target, cv=10)"
   ]
  },
  {
   "cell_type": "code",
   "execution_count": 52,
   "id": "9b7852d3-470b-4ea6-bc8a-741081b55a61",
   "metadata": {
    "scrolled": true
   },
   "outputs": [
    {
     "name": "stderr",
     "output_type": "stream",
     "text": [
      "[I 2024-01-16 04:10:52,323] Using an existing study with name 'rf_trans2_2' instead of creating a new one.\n",
      "[I 2024-01-16 04:37:02,036] Trial 9 finished with value: 0.80901 and parameters: {'n_estimators': 147, 'min_samples_split': 9, 'max_features': None, 'max_depth': 80, 'min_samples_leaf': 4}. Best is trial 0 with value: 0.8222900000000001.\n",
      "[I 2024-01-16 05:03:16,616] Trial 5 finished with value: 0.8177299999999998 and parameters: {'n_estimators': 178, 'min_samples_split': 10, 'max_features': 'sqrt', 'max_depth': 90, 'min_samples_leaf': 2}. Best is trial 0 with value: 0.8222900000000001.\n",
      "[I 2024-01-16 05:24:19,516] Trial 7 finished with value: 0.81007 and parameters: {'n_estimators': 257, 'min_samples_split': 10, 'max_features': None, 'max_depth': 40, 'min_samples_leaf': 2}. Best is trial 0 with value: 0.8222900000000001.\n",
      "[I 2024-01-16 05:34:50,994] Trial 8 finished with value: 0.8197300000000001 and parameters: {'n_estimators': 331, 'min_samples_split': 9, 'max_features': 'sqrt', 'max_depth': 30, 'min_samples_leaf': 1}. Best is trial 0 with value: 0.8222900000000001.\n",
      "[I 2024-01-16 05:54:32,566] Trial 14 finished with value: 0.71069 and parameters: {'n_estimators': 336, 'min_samples_split': 4, 'max_features': None, 'max_depth': 10, 'min_samples_leaf': 2}. Best is trial 0 with value: 0.8222900000000001.\n",
      "[I 2024-01-16 06:04:15,963] Trial 12 finished with value: 0.8131400000000001 and parameters: {'n_estimators': 159, 'min_samples_split': 3, 'max_features': 'log2', 'max_depth': 90, 'min_samples_leaf': 5}. Best is trial 0 with value: 0.8222900000000001.\n",
      "[I 2024-01-16 06:04:23,878] Trial 16 finished with value: 0.81807 and parameters: {'n_estimators': 451, 'min_samples_split': 8, 'max_features': 'log2', 'max_depth': 110, 'min_samples_leaf': 3}. Best is trial 0 with value: 0.8222900000000001.\n",
      "[I 2024-01-16 06:08:11,747] Trial 10 finished with value: 0.8190900000000001 and parameters: {'n_estimators': 108, 'min_samples_split': 7, 'max_features': 'sqrt', 'max_depth': 100, 'min_samples_leaf': 3}. Best is trial 0 with value: 0.8222900000000001.\n",
      "[I 2024-01-16 06:14:40,543] Trial 6 finished with value: 0.79643 and parameters: {'n_estimators': 229, 'min_samples_split': 7, 'max_features': 'sqrt', 'max_depth': 20, 'min_samples_leaf': 1}. Best is trial 0 with value: 0.8222900000000001.\n",
      "[I 2024-01-16 06:20:00,507] Trial 13 finished with value: 0.8198000000000001 and parameters: {'n_estimators': 159, 'min_samples_split': 4, 'max_features': 'sqrt', 'max_depth': 100, 'min_samples_leaf': 3}. Best is trial 0 with value: 0.8222900000000001.\n",
      "[I 2024-01-16 06:39:39,772] Trial 11 finished with value: 0.81064 and parameters: {'n_estimators': 108, 'min_samples_split': 9, 'max_features': None, 'max_depth': 90, 'min_samples_leaf': 2}. Best is trial 0 with value: 0.8222900000000001.\n",
      "[I 2024-01-16 06:51:21,107] Trial 15 finished with value: 0.82051 and parameters: {'n_estimators': 473, 'min_samples_split': 8, 'max_features': 'log2', 'max_depth': 110, 'min_samples_leaf': 1}. Best is trial 0 with value: 0.8222900000000001.\n",
      "[I 2024-01-16 07:52:30,839] Trial 17 finished with value: 0.8083500000000001 and parameters: {'n_estimators': 361, 'min_samples_split': 6, 'max_features': None, 'max_depth': 60, 'min_samples_leaf': 5}. Best is trial 0 with value: 0.8222900000000001.\n",
      "[I 2024-01-16 07:55:42,328] Trial 18 finished with value: 0.82134 and parameters: {'n_estimators': 381, 'min_samples_split': 8, 'max_features': 'sqrt', 'max_depth': 100, 'min_samples_leaf': 1}. Best is trial 0 with value: 0.8222900000000001.\n",
      "[I 2024-01-16 07:59:21,507] Trial 19 finished with value: 0.81631 and parameters: {'n_estimators': 289, 'min_samples_split': 4, 'max_features': 'log2', 'max_depth': 100, 'min_samples_leaf': 4}. Best is trial 0 with value: 0.8222900000000001.\n"
     ]
    }
   ],
   "source": [
    "rf_study = optuna.create_study(direction=\"maximize\", study_name=\"rf_trans2_2\", \n",
    "                               storage='sqlite:///optuna.db', load_if_exists=True)\n",
    "rf_study.optimize(objective_rf_trans2_2, n_trials=15, n_jobs=-1)"
   ]
  },
  {
   "cell_type": "code",
   "execution_count": 53,
   "id": "fca680ff-41d4-4cd1-8b09-141dd087b244",
   "metadata": {},
   "outputs": [],
   "source": [
    "def visualize_hyper_params_importance(study: optuna.study.Study):\n",
    "    param_importance_plot = optuna.visualization.plot_param_importances(study)\n",
    "    param_importance_plot.show()"
   ]
  },
  {
   "cell_type": "code",
   "execution_count": 54,
   "id": "64eeb07c-59d6-4702-9961-8f9c83e10b55",
   "metadata": {},
   "outputs": [
    {
     "data": {
      "application/vnd.plotly.v1+json": {
       "config": {
        "plotlyServerURL": "https://plot.ly"
       },
       "data": [
        {
         "cliponaxis": false,
         "hovertemplate": [
          "min_samples_split (IntDistribution): 0.0010848089423424372<extra></extra>",
          "n_estimators (IntDistribution): 0.003212690147284607<extra></extra>",
          "min_samples_leaf (IntDistribution): 0.008754664612635502<extra></extra>",
          "max_features (CategoricalDistribution): 0.10468758799014662<extra></extra>",
          "max_depth (IntDistribution): 0.8822602483075909<extra></extra>"
         ],
         "marker": {
          "color": "rgb(66,146,198)"
         },
         "orientation": "h",
         "text": [
          "<0.01",
          "<0.01",
          "<0.01",
          "0.10",
          "0.88"
         ],
         "textposition": "outside",
         "type": "bar",
         "x": [
          0.0010848089423424372,
          0.003212690147284607,
          0.008754664612635502,
          0.10468758799014662,
          0.8822602483075909
         ],
         "y": [
          "min_samples_split",
          "n_estimators",
          "min_samples_leaf",
          "max_features",
          "max_depth"
         ]
        }
       ],
       "layout": {
        "autosize": true,
        "showlegend": false,
        "template": {
         "data": {
          "bar": [
           {
            "error_x": {
             "color": "#2a3f5f"
            },
            "error_y": {
             "color": "#2a3f5f"
            },
            "marker": {
             "line": {
              "color": "#E5ECF6",
              "width": 0.5
             },
             "pattern": {
              "fillmode": "overlay",
              "size": 10,
              "solidity": 0.2
             }
            },
            "type": "bar"
           }
          ],
          "barpolar": [
           {
            "marker": {
             "line": {
              "color": "#E5ECF6",
              "width": 0.5
             },
             "pattern": {
              "fillmode": "overlay",
              "size": 10,
              "solidity": 0.2
             }
            },
            "type": "barpolar"
           }
          ],
          "carpet": [
           {
            "aaxis": {
             "endlinecolor": "#2a3f5f",
             "gridcolor": "white",
             "linecolor": "white",
             "minorgridcolor": "white",
             "startlinecolor": "#2a3f5f"
            },
            "baxis": {
             "endlinecolor": "#2a3f5f",
             "gridcolor": "white",
             "linecolor": "white",
             "minorgridcolor": "white",
             "startlinecolor": "#2a3f5f"
            },
            "type": "carpet"
           }
          ],
          "choropleth": [
           {
            "colorbar": {
             "outlinewidth": 0,
             "ticks": ""
            },
            "type": "choropleth"
           }
          ],
          "contour": [
           {
            "colorbar": {
             "outlinewidth": 0,
             "ticks": ""
            },
            "colorscale": [
             [
              0,
              "#0d0887"
             ],
             [
              0.1111111111111111,
              "#46039f"
             ],
             [
              0.2222222222222222,
              "#7201a8"
             ],
             [
              0.3333333333333333,
              "#9c179e"
             ],
             [
              0.4444444444444444,
              "#bd3786"
             ],
             [
              0.5555555555555556,
              "#d8576b"
             ],
             [
              0.6666666666666666,
              "#ed7953"
             ],
             [
              0.7777777777777778,
              "#fb9f3a"
             ],
             [
              0.8888888888888888,
              "#fdca26"
             ],
             [
              1,
              "#f0f921"
             ]
            ],
            "type": "contour"
           }
          ],
          "contourcarpet": [
           {
            "colorbar": {
             "outlinewidth": 0,
             "ticks": ""
            },
            "type": "contourcarpet"
           }
          ],
          "heatmap": [
           {
            "colorbar": {
             "outlinewidth": 0,
             "ticks": ""
            },
            "colorscale": [
             [
              0,
              "#0d0887"
             ],
             [
              0.1111111111111111,
              "#46039f"
             ],
             [
              0.2222222222222222,
              "#7201a8"
             ],
             [
              0.3333333333333333,
              "#9c179e"
             ],
             [
              0.4444444444444444,
              "#bd3786"
             ],
             [
              0.5555555555555556,
              "#d8576b"
             ],
             [
              0.6666666666666666,
              "#ed7953"
             ],
             [
              0.7777777777777778,
              "#fb9f3a"
             ],
             [
              0.8888888888888888,
              "#fdca26"
             ],
             [
              1,
              "#f0f921"
             ]
            ],
            "type": "heatmap"
           }
          ],
          "heatmapgl": [
           {
            "colorbar": {
             "outlinewidth": 0,
             "ticks": ""
            },
            "colorscale": [
             [
              0,
              "#0d0887"
             ],
             [
              0.1111111111111111,
              "#46039f"
             ],
             [
              0.2222222222222222,
              "#7201a8"
             ],
             [
              0.3333333333333333,
              "#9c179e"
             ],
             [
              0.4444444444444444,
              "#bd3786"
             ],
             [
              0.5555555555555556,
              "#d8576b"
             ],
             [
              0.6666666666666666,
              "#ed7953"
             ],
             [
              0.7777777777777778,
              "#fb9f3a"
             ],
             [
              0.8888888888888888,
              "#fdca26"
             ],
             [
              1,
              "#f0f921"
             ]
            ],
            "type": "heatmapgl"
           }
          ],
          "histogram": [
           {
            "marker": {
             "pattern": {
              "fillmode": "overlay",
              "size": 10,
              "solidity": 0.2
             }
            },
            "type": "histogram"
           }
          ],
          "histogram2d": [
           {
            "colorbar": {
             "outlinewidth": 0,
             "ticks": ""
            },
            "colorscale": [
             [
              0,
              "#0d0887"
             ],
             [
              0.1111111111111111,
              "#46039f"
             ],
             [
              0.2222222222222222,
              "#7201a8"
             ],
             [
              0.3333333333333333,
              "#9c179e"
             ],
             [
              0.4444444444444444,
              "#bd3786"
             ],
             [
              0.5555555555555556,
              "#d8576b"
             ],
             [
              0.6666666666666666,
              "#ed7953"
             ],
             [
              0.7777777777777778,
              "#fb9f3a"
             ],
             [
              0.8888888888888888,
              "#fdca26"
             ],
             [
              1,
              "#f0f921"
             ]
            ],
            "type": "histogram2d"
           }
          ],
          "histogram2dcontour": [
           {
            "colorbar": {
             "outlinewidth": 0,
             "ticks": ""
            },
            "colorscale": [
             [
              0,
              "#0d0887"
             ],
             [
              0.1111111111111111,
              "#46039f"
             ],
             [
              0.2222222222222222,
              "#7201a8"
             ],
             [
              0.3333333333333333,
              "#9c179e"
             ],
             [
              0.4444444444444444,
              "#bd3786"
             ],
             [
              0.5555555555555556,
              "#d8576b"
             ],
             [
              0.6666666666666666,
              "#ed7953"
             ],
             [
              0.7777777777777778,
              "#fb9f3a"
             ],
             [
              0.8888888888888888,
              "#fdca26"
             ],
             [
              1,
              "#f0f921"
             ]
            ],
            "type": "histogram2dcontour"
           }
          ],
          "mesh3d": [
           {
            "colorbar": {
             "outlinewidth": 0,
             "ticks": ""
            },
            "type": "mesh3d"
           }
          ],
          "parcoords": [
           {
            "line": {
             "colorbar": {
              "outlinewidth": 0,
              "ticks": ""
             }
            },
            "type": "parcoords"
           }
          ],
          "pie": [
           {
            "automargin": true,
            "type": "pie"
           }
          ],
          "scatter": [
           {
            "fillpattern": {
             "fillmode": "overlay",
             "size": 10,
             "solidity": 0.2
            },
            "type": "scatter"
           }
          ],
          "scatter3d": [
           {
            "line": {
             "colorbar": {
              "outlinewidth": 0,
              "ticks": ""
             }
            },
            "marker": {
             "colorbar": {
              "outlinewidth": 0,
              "ticks": ""
             }
            },
            "type": "scatter3d"
           }
          ],
          "scattercarpet": [
           {
            "marker": {
             "colorbar": {
              "outlinewidth": 0,
              "ticks": ""
             }
            },
            "type": "scattercarpet"
           }
          ],
          "scattergeo": [
           {
            "marker": {
             "colorbar": {
              "outlinewidth": 0,
              "ticks": ""
             }
            },
            "type": "scattergeo"
           }
          ],
          "scattergl": [
           {
            "marker": {
             "colorbar": {
              "outlinewidth": 0,
              "ticks": ""
             }
            },
            "type": "scattergl"
           }
          ],
          "scattermapbox": [
           {
            "marker": {
             "colorbar": {
              "outlinewidth": 0,
              "ticks": ""
             }
            },
            "type": "scattermapbox"
           }
          ],
          "scatterpolar": [
           {
            "marker": {
             "colorbar": {
              "outlinewidth": 0,
              "ticks": ""
             }
            },
            "type": "scatterpolar"
           }
          ],
          "scatterpolargl": [
           {
            "marker": {
             "colorbar": {
              "outlinewidth": 0,
              "ticks": ""
             }
            },
            "type": "scatterpolargl"
           }
          ],
          "scatterternary": [
           {
            "marker": {
             "colorbar": {
              "outlinewidth": 0,
              "ticks": ""
             }
            },
            "type": "scatterternary"
           }
          ],
          "surface": [
           {
            "colorbar": {
             "outlinewidth": 0,
             "ticks": ""
            },
            "colorscale": [
             [
              0,
              "#0d0887"
             ],
             [
              0.1111111111111111,
              "#46039f"
             ],
             [
              0.2222222222222222,
              "#7201a8"
             ],
             [
              0.3333333333333333,
              "#9c179e"
             ],
             [
              0.4444444444444444,
              "#bd3786"
             ],
             [
              0.5555555555555556,
              "#d8576b"
             ],
             [
              0.6666666666666666,
              "#ed7953"
             ],
             [
              0.7777777777777778,
              "#fb9f3a"
             ],
             [
              0.8888888888888888,
              "#fdca26"
             ],
             [
              1,
              "#f0f921"
             ]
            ],
            "type": "surface"
           }
          ],
          "table": [
           {
            "cells": {
             "fill": {
              "color": "#EBF0F8"
             },
             "line": {
              "color": "white"
             }
            },
            "header": {
             "fill": {
              "color": "#C8D4E3"
             },
             "line": {
              "color": "white"
             }
            },
            "type": "table"
           }
          ]
         },
         "layout": {
          "annotationdefaults": {
           "arrowcolor": "#2a3f5f",
           "arrowhead": 0,
           "arrowwidth": 1
          },
          "autotypenumbers": "strict",
          "coloraxis": {
           "colorbar": {
            "outlinewidth": 0,
            "ticks": ""
           }
          },
          "colorscale": {
           "diverging": [
            [
             0,
             "#8e0152"
            ],
            [
             0.1,
             "#c51b7d"
            ],
            [
             0.2,
             "#de77ae"
            ],
            [
             0.3,
             "#f1b6da"
            ],
            [
             0.4,
             "#fde0ef"
            ],
            [
             0.5,
             "#f7f7f7"
            ],
            [
             0.6,
             "#e6f5d0"
            ],
            [
             0.7,
             "#b8e186"
            ],
            [
             0.8,
             "#7fbc41"
            ],
            [
             0.9,
             "#4d9221"
            ],
            [
             1,
             "#276419"
            ]
           ],
           "sequential": [
            [
             0,
             "#0d0887"
            ],
            [
             0.1111111111111111,
             "#46039f"
            ],
            [
             0.2222222222222222,
             "#7201a8"
            ],
            [
             0.3333333333333333,
             "#9c179e"
            ],
            [
             0.4444444444444444,
             "#bd3786"
            ],
            [
             0.5555555555555556,
             "#d8576b"
            ],
            [
             0.6666666666666666,
             "#ed7953"
            ],
            [
             0.7777777777777778,
             "#fb9f3a"
            ],
            [
             0.8888888888888888,
             "#fdca26"
            ],
            [
             1,
             "#f0f921"
            ]
           ],
           "sequentialminus": [
            [
             0,
             "#0d0887"
            ],
            [
             0.1111111111111111,
             "#46039f"
            ],
            [
             0.2222222222222222,
             "#7201a8"
            ],
            [
             0.3333333333333333,
             "#9c179e"
            ],
            [
             0.4444444444444444,
             "#bd3786"
            ],
            [
             0.5555555555555556,
             "#d8576b"
            ],
            [
             0.6666666666666666,
             "#ed7953"
            ],
            [
             0.7777777777777778,
             "#fb9f3a"
            ],
            [
             0.8888888888888888,
             "#fdca26"
            ],
            [
             1,
             "#f0f921"
            ]
           ]
          },
          "colorway": [
           "#636efa",
           "#EF553B",
           "#00cc96",
           "#ab63fa",
           "#FFA15A",
           "#19d3f3",
           "#FF6692",
           "#B6E880",
           "#FF97FF",
           "#FECB52"
          ],
          "font": {
           "color": "#2a3f5f"
          },
          "geo": {
           "bgcolor": "white",
           "lakecolor": "white",
           "landcolor": "#E5ECF6",
           "showlakes": true,
           "showland": true,
           "subunitcolor": "white"
          },
          "hoverlabel": {
           "align": "left"
          },
          "hovermode": "closest",
          "mapbox": {
           "style": "light"
          },
          "paper_bgcolor": "white",
          "plot_bgcolor": "#E5ECF6",
          "polar": {
           "angularaxis": {
            "gridcolor": "white",
            "linecolor": "white",
            "ticks": ""
           },
           "bgcolor": "#E5ECF6",
           "radialaxis": {
            "gridcolor": "white",
            "linecolor": "white",
            "ticks": ""
           }
          },
          "scene": {
           "xaxis": {
            "backgroundcolor": "#E5ECF6",
            "gridcolor": "white",
            "gridwidth": 2,
            "linecolor": "white",
            "showbackground": true,
            "ticks": "",
            "zerolinecolor": "white"
           },
           "yaxis": {
            "backgroundcolor": "#E5ECF6",
            "gridcolor": "white",
            "gridwidth": 2,
            "linecolor": "white",
            "showbackground": true,
            "ticks": "",
            "zerolinecolor": "white"
           },
           "zaxis": {
            "backgroundcolor": "#E5ECF6",
            "gridcolor": "white",
            "gridwidth": 2,
            "linecolor": "white",
            "showbackground": true,
            "ticks": "",
            "zerolinecolor": "white"
           }
          },
          "shapedefaults": {
           "line": {
            "color": "#2a3f5f"
           }
          },
          "ternary": {
           "aaxis": {
            "gridcolor": "white",
            "linecolor": "white",
            "ticks": ""
           },
           "baxis": {
            "gridcolor": "white",
            "linecolor": "white",
            "ticks": ""
           },
           "bgcolor": "#E5ECF6",
           "caxis": {
            "gridcolor": "white",
            "linecolor": "white",
            "ticks": ""
           }
          },
          "title": {
           "x": 0.05
          },
          "xaxis": {
           "automargin": true,
           "gridcolor": "white",
           "linecolor": "white",
           "ticks": "",
           "title": {
            "standoff": 15
           },
           "zerolinecolor": "white",
           "zerolinewidth": 2
          },
          "yaxis": {
           "automargin": true,
           "gridcolor": "white",
           "linecolor": "white",
           "ticks": "",
           "title": {
            "standoff": 15
           },
           "zerolinecolor": "white",
           "zerolinewidth": 2
          }
         }
        },
        "title": {
         "text": "Hyperparameter Importances"
        },
        "xaxis": {
         "autorange": true,
         "range": [
          0,
          0.9286949982185166
         ],
         "title": {
          "text": "Importance for Objective Value"
         },
         "type": "linear"
        },
        "yaxis": {
         "autorange": true,
         "range": [
          -0.5,
          4.5
         ],
         "title": {
          "text": "Hyperparameter"
         },
         "type": "category"
        }
       }
      },
      "image/png": "[encoded data removed]",
      "text/html": [
       "<div>                            <div id=\"fc34e48d-51e7-4746-b8e8-e30eff7bf1e6\" class=\"plotly-graph-div\" style=\"height:525px; width:100%;\"></div>            <script type=\"text/javascript\">                require([\"plotly\"], function(Plotly) {                    window.PLOTLYENV=window.PLOTLYENV || {};                                    if (document.getElementById(\"fc34e48d-51e7-4746-b8e8-e30eff7bf1e6\")) {                    Plotly.newPlot(                        \"fc34e48d-51e7-4746-b8e8-e30eff7bf1e6\",                        [{\"cliponaxis\":false,\"hovertemplate\":[\"min_samples_split (IntDistribution): 0.0010848089423424372\\u003cextra\\u003e\\u003c\\u002fextra\\u003e\",\"n_estimators (IntDistribution): 0.003212690147284607\\u003cextra\\u003e\\u003c\\u002fextra\\u003e\",\"min_samples_leaf (IntDistribution): 0.008754664612635502\\u003cextra\\u003e\\u003c\\u002fextra\\u003e\",\"max_features (CategoricalDistribution): 0.10468758799014662\\u003cextra\\u003e\\u003c\\u002fextra\\u003e\",\"max_depth (IntDistribution): 0.8822602483075909\\u003cextra\\u003e\\u003c\\u002fextra\\u003e\"],\"marker\":{\"color\":\"rgb(66,146,198)\"},\"orientation\":\"h\",\"text\":[\"\\u003c0.01\",\"\\u003c0.01\",\"\\u003c0.01\",\"0.10\",\"0.88\"],\"textposition\":\"outside\",\"x\":[0.0010848089423424372,0.003212690147284607,0.008754664612635502,0.10468758799014662,0.8822602483075909],\"y\":[\"min_samples_split\",\"n_estimators\",\"min_samples_leaf\",\"max_features\",\"max_depth\"],\"type\":\"bar\"}],                        {\"showlegend\":false,\"title\":{\"text\":\"Hyperparameter Importances\"},\"xaxis\":{\"title\":{\"text\":\"Importance for Objective Value\"}},\"yaxis\":{\"title\":{\"text\":\"Hyperparameter\"}},\"template\":{\"data\":{\"histogram2dcontour\":[{\"type\":\"histogram2dcontour\",\"colorbar\":{\"outlinewidth\":0,\"ticks\":\"\"},\"colorscale\":[[0.0,\"#0d0887\"],[0.1111111111111111,\"#46039f\"],[0.2222222222222222,\"#7201a8\"],[0.3333333333333333,\"#9c179e\"],[0.4444444444444444,\"#bd3786\"],[0.5555555555555556,\"#d8576b\"],[0.6666666666666666,\"#ed7953\"],[0.7777777777777778,\"#fb9f3a\"],[0.8888888888888888,\"#fdca26\"],[1.0,\"#f0f921\"]]}],\"choropleth\":[{\"type\":\"choropleth\",\"colorbar\":{\"outlinewidth\":0,\"ticks\":\"\"}}],\"histogram2d\":[{\"type\":\"histogram2d\",\"colorbar\":{\"outlinewidth\":0,\"ticks\":\"\"},\"colorscale\":[[0.0,\"#0d0887\"],[0.1111111111111111,\"#46039f\"],[0.2222222222222222,\"#7201a8\"],[0.3333333333333333,\"#9c179e\"],[0.4444444444444444,\"#bd3786\"],[0.5555555555555556,\"#d8576b\"],[0.6666666666666666,\"#ed7953\"],[0.7777777777777778,\"#fb9f3a\"],[0.8888888888888888,\"#fdca26\"],[1.0,\"#f0f921\"]]}],\"heatmap\":[{\"type\":\"heatmap\",\"colorbar\":{\"outlinewidth\":0,\"ticks\":\"\"},\"colorscale\":[[0.0,\"#0d0887\"],[0.1111111111111111,\"#46039f\"],[0.2222222222222222,\"#7201a8\"],[0.3333333333333333,\"#9c179e\"],[0.4444444444444444,\"#bd3786\"],[0.5555555555555556,\"#d8576b\"],[0.6666666666666666,\"#ed7953\"],[0.7777777777777778,\"#fb9f3a\"],[0.8888888888888888,\"#fdca26\"],[1.0,\"#f0f921\"]]}],\"heatmapgl\":[{\"type\":\"heatmapgl\",\"colorbar\":{\"outlinewidth\":0,\"ticks\":\"\"},\"colorscale\":[[0.0,\"#0d0887\"],[0.1111111111111111,\"#46039f\"],[0.2222222222222222,\"#7201a8\"],[0.3333333333333333,\"#9c179e\"],[0.4444444444444444,\"#bd3786\"],[0.5555555555555556,\"#d8576b\"],[0.6666666666666666,\"#ed7953\"],[0.7777777777777778,\"#fb9f3a\"],[0.8888888888888888,\"#fdca26\"],[1.0,\"#f0f921\"]]}],\"contourcarpet\":[{\"type\":\"contourcarpet\",\"colorbar\":{\"outlinewidth\":0,\"ticks\":\"\"}}],\"contour\":[{\"type\":\"contour\",\"colorbar\":{\"outlinewidth\":0,\"ticks\":\"\"},\"colorscale\":[[0.0,\"#0d0887\"],[0.1111111111111111,\"#46039f\"],[0.2222222222222222,\"#7201a8\"],[0.3333333333333333,\"#9c179e\"],[0.4444444444444444,\"#bd3786\"],[0.5555555555555556,\"#d8576b\"],[0.6666666666666666,\"#ed7953\"],[0.7777777777777778,\"#fb9f3a\"],[0.8888888888888888,\"#fdca26\"],[1.0,\"#f0f921\"]]}],\"surface\":[{\"type\":\"surface\",\"colorbar\":{\"outlinewidth\":0,\"ticks\":\"\"},\"colorscale\":[[0.0,\"#0d0887\"],[0.1111111111111111,\"#46039f\"],[0.2222222222222222,\"#7201a8\"],[0.3333333333333333,\"#9c179e\"],[0.4444444444444444,\"#bd3786\"],[0.5555555555555556,\"#d8576b\"],[0.6666666666666666,\"#ed7953\"],[0.7777777777777778,\"#fb9f3a\"],[0.8888888888888888,\"#fdca26\"],[1.0,\"#f0f921\"]]}],\"mesh3d\":[{\"type\":\"mesh3d\",\"colorbar\":{\"outlinewidth\":0,\"ticks\":\"\"}}],\"scatter\":[{\"fillpattern\":{\"fillmode\":\"overlay\",\"size\":10,\"solidity\":0.2},\"type\":\"scatter\"}],\"parcoords\":[{\"type\":\"parcoords\",\"line\":{\"colorbar\":{\"outlinewidth\":0,\"ticks\":\"\"}}}],\"scatterpolargl\":[{\"type\":\"scatterpolargl\",\"marker\":{\"colorbar\":{\"outlinewidth\":0,\"ticks\":\"\"}}}],\"bar\":[{\"error_x\":{\"color\":\"#2a3f5f\"},\"error_y\":{\"color\":\"#2a3f5f\"},\"marker\":{\"line\":{\"color\":\"#E5ECF6\",\"width\":0.5},\"pattern\":{\"fillmode\":\"overlay\",\"size\":10,\"solidity\":0.2}},\"type\":\"bar\"}],\"scattergeo\":[{\"type\":\"scattergeo\",\"marker\":{\"colorbar\":{\"outlinewidth\":0,\"ticks\":\"\"}}}],\"scatterpolar\":[{\"type\":\"scatterpolar\",\"marker\":{\"colorbar\":{\"outlinewidth\":0,\"ticks\":\"\"}}}],\"histogram\":[{\"marker\":{\"pattern\":{\"fillmode\":\"overlay\",\"size\":10,\"solidity\":0.2}},\"type\":\"histogram\"}],\"scattergl\":[{\"type\":\"scattergl\",\"marker\":{\"colorbar\":{\"outlinewidth\":0,\"ticks\":\"\"}}}],\"scatter3d\":[{\"type\":\"scatter3d\",\"line\":{\"colorbar\":{\"outlinewidth\":0,\"ticks\":\"\"}},\"marker\":{\"colorbar\":{\"outlinewidth\":0,\"ticks\":\"\"}}}],\"scattermapbox\":[{\"type\":\"scattermapbox\",\"marker\":{\"colorbar\":{\"outlinewidth\":0,\"ticks\":\"\"}}}],\"scatterternary\":[{\"type\":\"scatterternary\",\"marker\":{\"colorbar\":{\"outlinewidth\":0,\"ticks\":\"\"}}}],\"scattercarpet\":[{\"type\":\"scattercarpet\",\"marker\":{\"colorbar\":{\"outlinewidth\":0,\"ticks\":\"\"}}}],\"carpet\":[{\"aaxis\":{\"endlinecolor\":\"#2a3f5f\",\"gridcolor\":\"white\",\"linecolor\":\"white\",\"minorgridcolor\":\"white\",\"startlinecolor\":\"#2a3f5f\"},\"baxis\":{\"endlinecolor\":\"#2a3f5f\",\"gridcolor\":\"white\",\"linecolor\":\"white\",\"minorgridcolor\":\"white\",\"startlinecolor\":\"#2a3f5f\"},\"type\":\"carpet\"}],\"table\":[{\"cells\":{\"fill\":{\"color\":\"#EBF0F8\"},\"line\":{\"color\":\"white\"}},\"header\":{\"fill\":{\"color\":\"#C8D4E3\"},\"line\":{\"color\":\"white\"}},\"type\":\"table\"}],\"barpolar\":[{\"marker\":{\"line\":{\"color\":\"#E5ECF6\",\"width\":0.5},\"pattern\":{\"fillmode\":\"overlay\",\"size\":10,\"solidity\":0.2}},\"type\":\"barpolar\"}],\"pie\":[{\"automargin\":true,\"type\":\"pie\"}]},\"layout\":{\"autotypenumbers\":\"strict\",\"colorway\":[\"#636efa\",\"#EF553B\",\"#00cc96\",\"#ab63fa\",\"#FFA15A\",\"#19d3f3\",\"#FF6692\",\"#B6E880\",\"#FF97FF\",\"#FECB52\"],\"font\":{\"color\":\"#2a3f5f\"},\"hovermode\":\"closest\",\"hoverlabel\":{\"align\":\"left\"},\"paper_bgcolor\":\"white\",\"plot_bgcolor\":\"#E5ECF6\",\"polar\":{\"bgcolor\":\"#E5ECF6\",\"angularaxis\":{\"gridcolor\":\"white\",\"linecolor\":\"white\",\"ticks\":\"\"},\"radialaxis\":{\"gridcolor\":\"white\",\"linecolor\":\"white\",\"ticks\":\"\"}},\"ternary\":{\"bgcolor\":\"#E5ECF6\",\"aaxis\":{\"gridcolor\":\"white\",\"linecolor\":\"white\",\"ticks\":\"\"},\"baxis\":{\"gridcolor\":\"white\",\"linecolor\":\"white\",\"ticks\":\"\"},\"caxis\":{\"gridcolor\":\"white\",\"linecolor\":\"white\",\"ticks\":\"\"}},\"coloraxis\":{\"colorbar\":{\"outlinewidth\":0,\"ticks\":\"\"}},\"colorscale\":{\"sequential\":[[0.0,\"#0d0887\"],[0.1111111111111111,\"#46039f\"],[0.2222222222222222,\"#7201a8\"],[0.3333333333333333,\"#9c179e\"],[0.4444444444444444,\"#bd3786\"],[0.5555555555555556,\"#d8576b\"],[0.6666666666666666,\"#ed7953\"],[0.7777777777777778,\"#fb9f3a\"],[0.8888888888888888,\"#fdca26\"],[1.0,\"#f0f921\"]],\"sequentialminus\":[[0.0,\"#0d0887\"],[0.1111111111111111,\"#46039f\"],[0.2222222222222222,\"#7201a8\"],[0.3333333333333333,\"#9c179e\"],[0.4444444444444444,\"#bd3786\"],[0.5555555555555556,\"#d8576b\"],[0.6666666666666666,\"#ed7953\"],[0.7777777777777778,\"#fb9f3a\"],[0.8888888888888888,\"#fdca26\"],[1.0,\"#f0f921\"]],\"diverging\":[[0,\"#8e0152\"],[0.1,\"#c51b7d\"],[0.2,\"#de77ae\"],[0.3,\"#f1b6da\"],[0.4,\"#fde0ef\"],[0.5,\"#f7f7f7\"],[0.6,\"#e6f5d0\"],[0.7,\"#b8e186\"],[0.8,\"#7fbc41\"],[0.9,\"#4d9221\"],[1,\"#276419\"]]},\"xaxis\":{\"gridcolor\":\"white\",\"linecolor\":\"white\",\"ticks\":\"\",\"title\":{\"standoff\":15},\"zerolinecolor\":\"white\",\"automargin\":true,\"zerolinewidth\":2},\"yaxis\":{\"gridcolor\":\"white\",\"linecolor\":\"white\",\"ticks\":\"\",\"title\":{\"standoff\":15},\"zerolinecolor\":\"white\",\"automargin\":true,\"zerolinewidth\":2},\"scene\":{\"xaxis\":{\"backgroundcolor\":\"#E5ECF6\",\"gridcolor\":\"white\",\"linecolor\":\"white\",\"showbackground\":true,\"ticks\":\"\",\"zerolinecolor\":\"white\",\"gridwidth\":2},\"yaxis\":{\"backgroundcolor\":\"#E5ECF6\",\"gridcolor\":\"white\",\"linecolor\":\"white\",\"showbackground\":true,\"ticks\":\"\",\"zerolinecolor\":\"white\",\"gridwidth\":2},\"zaxis\":{\"backgroundcolor\":\"#E5ECF6\",\"gridcolor\":\"white\",\"linecolor\":\"white\",\"showbackground\":true,\"ticks\":\"\",\"zerolinecolor\":\"white\",\"gridwidth\":2}},\"shapedefaults\":{\"line\":{\"color\":\"#2a3f5f\"}},\"annotationdefaults\":{\"arrowcolor\":\"#2a3f5f\",\"arrowhead\":0,\"arrowwidth\":1},\"geo\":{\"bgcolor\":\"white\",\"landcolor\":\"#E5ECF6\",\"subunitcolor\":\"white\",\"showland\":true,\"showlakes\":true,\"lakecolor\":\"white\"},\"title\":{\"x\":0.05},\"mapbox\":{\"style\":\"light\"}}}},                        {\"responsive\": true}                    ).then(function(){\n",
       "                            \n",
       "var gd = document.getElementById('fc34e48d-51e7-4746-b8e8-e30eff7bf1e6');\n",
       "var x = new MutationObserver(function (mutations, observer) {{\n",
       "        var display = window.getComputedStyle(gd).display;\n",
       "        if (!display || display === 'none') {{\n",
       "            console.log([gd, 'removed!']);\n",
       "            Plotly.purge(gd);\n",
       "            observer.disconnect();\n",
       "        }}\n",
       "}});\n",
       "\n",
       "// Listen for the removal of the full notebook cells\n",
       "var notebookContainer = gd.closest('#notebook-container');\n",
       "if (notebookContainer) {{\n",
       "    x.observe(notebookContainer, {childList: true});\n",
       "}}\n",
       "\n",
       "// Listen for the clearing of the current output cell\n",
       "var outputEl = gd.closest('.output');\n",
       "if (outputEl) {{\n",
       "    x.observe(outputEl, {childList: true});\n",
       "}}\n",
       "\n",
       "                        })                };                });            </script>        </div>"
      ]
     },
     "metadata": {},
     "output_type": "display_data"
    }
   ],
   "source": [
    "visualize_hyper_params_importance(rf_study)"
   ]
  },
  {
   "cell_type": "code",
   "execution_count": 55,
   "id": "2526a4c3-ab9e-4b1a-9a55-dcb623a74e8c",
   "metadata": {},
   "outputs": [
    {
     "name": "stderr",
     "output_type": "stream",
     "text": [
      "2024/01/16 07:59:44 INFO mlflow.tracking.fluent: Experiment with name 'fine_tunned_models' does not exist. Creating a new experiment.\n"
     ]
    },
    {
     "data": {
      "application/vnd.jupyter.widget-view+json": {
       "model_id": "d99bcda50dd64ed886bbbc545ea5a1fa",
       "version_major": 2,
       "version_minor": 0
      },
      "text/plain": [
       "  0%|          | 0/1 [00:00<?, ?it/s]"
      ]
     },
     "metadata": {},
     "output_type": "display_data"
    },
    {
     "name": "stderr",
     "output_type": "stream",
     "text": [
      "Successfully registered model 'rf_best'.\n",
      "2024/01/16 08:12:32 INFO mlflow.tracking._model_registry.client: Waiting up to 300 seconds for model version to finish creation. Model name: rf_best, version 1\n",
      "Created version '1' of model 'rf_best'.\n"
     ]
    }
   ],
   "source": [
    "run_experiment(\"fine_tunned_models\", \n",
    "               X_train, y_train, X_test, y_test, \n",
    "               models={'rf_best': rf_baseline_models['rf_baseline_trans2_2']},\n",
    "               model_params=rf_study.best_params,\n",
    "               cv=10, register_models=True\n",
    "              )"
   ]
  },
  {
   "cell_type": "code",
   "execution_count": 56,
   "id": "b89a47d4-7890-4063-a774-1955a5b05581",
   "metadata": {},
   "outputs": [],
   "source": [
    "class Objective_xgb_trans5_2():\n",
    "    def __init__(self, X, y, cv=5):\n",
    "        self.X, self.y = X, y\n",
    "        self.cv = cv\n",
    "\n",
    "    def __call__(self, trial:optuna.Trial):\n",
    "        X, y = self.X, self.y\n",
    "        \n",
    "        params = {\n",
    "            'max_depth': trial.suggest_int('max_depth', 1, 9),\n",
    "            'learning_rate': trial.suggest_float('learning_rate', 0.01, 1.0),\n",
    "            'n_estimators': trial.suggest_int('n_estimators', 50, 500),\n",
    "            'min_child_weight': trial.suggest_int('min_child_weight', 1, 10),\n",
    "            'gamma': trial.suggest_float('gamma', 1e-8, 1.0),\n",
    "            'subsample': trial.suggest_float('subsample', 0.01, 1.0),\n",
    "            'colsample_bytree': trial.suggest_float('colsample_bytree', 0.01, 1.0),\n",
    "            'reg_alpha': trial.suggest_float('reg_alpha', 1e-8, 1.0),\n",
    "            'reg_lambda': trial.suggest_float('reg_lambda', 1e-8, 1.0),\n",
    "            'eval_metric': 'mlogloss',\n",
    "        }\n",
    "\n",
    "\n",
    "        model = make_clf_pipeline(transformer5_2, XGBClassifier(**params))\n",
    "        \n",
    "        cv = StratifiedKFold(n_splits=self.cv, shuffle=True, random_state=1234)\n",
    "        accuracy = cross_val_score(model, X, y, cv=cv,  n_jobs=-1).mean()\n",
    "    \n",
    "        return accuracy"
   ]
  },
  {
   "cell_type": "code",
   "execution_count": 57,
   "id": "fca412ab-79dd-459c-9318-9de177aa4aab",
   "metadata": {},
   "outputs": [],
   "source": [
    "objective_xgb_trans5_2 = Objective_xgb_trans5_2(X_reduced, target, cv=10)"
   ]
  },
  {
   "cell_type": "code",
   "execution_count": 58,
   "id": "b888d58c-f843-435d-a681-e05acbb3480e",
   "metadata": {},
   "outputs": [],
   "source": [
    "# optuna.delete_study(study_name=\"xgb_trans5_2\", storage='sqlite:///optuna.db')"
   ]
  },
  {
   "cell_type": "code",
   "execution_count": 59,
   "id": "34e6038c-a8ce-4d88-ae3f-57d33a37009c",
   "metadata": {
    "scrolled": true
   },
   "outputs": [
    {
     "name": "stderr",
     "output_type": "stream",
     "text": [
      "[I 2024-01-16 08:12:34,470] A new study created in RDB with name: xgb_trans5_2\n",
      "[I 2024-01-16 08:18:29,281] Trial 1 finished with value: 0.80419 and parameters: {'max_depth': 7, 'learning_rate': 0.9479665470559651, 'n_estimators': 408, 'min_child_weight': 9, 'gamma': 0.7344570550599854, 'subsample': 0.6270761127703843, 'colsample_bytree': 0.1983157154218156, 'reg_alpha': 0.3313659238246194, 'reg_lambda': 0.20824277539263275}. Best is trial 1 with value: 0.80419.\n",
      "[I 2024-01-16 08:18:44,033] Trial 5 finished with value: 0.7277899999999999 and parameters: {'max_depth': 2, 'learning_rate': 0.29057553119058893, 'n_estimators': 210, 'min_child_weight': 9, 'gamma': 0.7116981976074238, 'subsample': 0.9785531913418152, 'colsample_bytree': 0.15489252229952646, 'reg_alpha': 0.8994712744967637, 'reg_lambda': 0.5153029935141368}. Best is trial 1 with value: 0.80419.\n",
      "[I 2024-01-16 08:22:17,797] Trial 0 finished with value: 0.70955 and parameters: {'max_depth': 6, 'learning_rate': 0.5222154923385701, 'n_estimators': 77, 'min_child_weight': 8, 'gamma': 0.7519442144841905, 'subsample': 0.03864275980193474, 'colsample_bytree': 0.07082441901543304, 'reg_alpha': 0.5627030915520879, 'reg_lambda': 0.5845384773949701}. Best is trial 1 with value: 0.80419.\n",
      "[I 2024-01-16 08:27:14,358] Trial 8 finished with value: 0.72313 and parameters: {'max_depth': 9, 'learning_rate': 0.8058552439790216, 'n_estimators': 347, 'min_child_weight': 4, 'gamma': 0.5348832922796245, 'subsample': 0.08725048118775008, 'colsample_bytree': 0.45805546918547935, 'reg_alpha': 0.9387305500096519, 'reg_lambda': 0.1952940866327832}. Best is trial 1 with value: 0.80419.\n",
      "[I 2024-01-16 08:35:23,801] Trial 10 finished with value: 0.8091100000000001 and parameters: {'max_depth': 4, 'learning_rate': 0.5852913223629175, 'n_estimators': 400, 'min_child_weight': 3, 'gamma': 0.1273123002521039, 'subsample': 0.9715993573859615, 'colsample_bytree': 0.6975631166174215, 'reg_alpha': 0.5605273797376182, 'reg_lambda': 0.09493079500064043}. Best is trial 10 with value: 0.8091100000000001.\n",
      "[I 2024-01-16 08:35:55,138] Trial 7 finished with value: 0.77096 and parameters: {'max_depth': 3, 'learning_rate': 0.728686657321074, 'n_estimators': 224, 'min_child_weight': 3, 'gamma': 0.9900138848708676, 'subsample': 0.6464302375279055, 'colsample_bytree': 0.32029521243322373, 'reg_alpha': 0.6721892318247403, 'reg_lambda': 0.18658559572758057}. Best is trial 10 with value: 0.8091100000000001.\n",
      "[I 2024-01-16 08:37:51,053] Trial 4 finished with value: 0.8013899999999999 and parameters: {'max_depth': 7, 'learning_rate': 0.9129327078580209, 'n_estimators': 54, 'min_child_weight': 5, 'gamma': 0.8279849927698912, 'subsample': 0.8610651407117359, 'colsample_bytree': 0.8299514193065467, 'reg_alpha': 0.13566897255472438, 'reg_lambda': 0.5473386487818321}. Best is trial 10 with value: 0.8091100000000001.\n",
      "[I 2024-01-16 08:39:37,258] Trial 3 finished with value: 0.71001 and parameters: {'max_depth': 1, 'learning_rate': 0.1422942511562363, 'n_estimators': 495, 'min_child_weight': 9, 'gamma': 0.6817848148461015, 'subsample': 0.1429248718529541, 'colsample_bytree': 0.229631312111154, 'reg_alpha': 0.15774065797456624, 'reg_lambda': 0.700331012343852}. Best is trial 10 with value: 0.8091100000000001.\n",
      "[I 2024-01-16 08:41:14,018] Trial 2 finished with value: 0.73015 and parameters: {'max_depth': 2, 'learning_rate': 0.1976662479166521, 'n_estimators': 345, 'min_child_weight': 6, 'gamma': 0.7554700871096476, 'subsample': 0.9572995856129541, 'colsample_bytree': 0.11286700407601336, 'reg_alpha': 0.9124831890976135, 'reg_lambda': 0.07376956304129809}. Best is trial 10 with value: 0.8091100000000001.\n",
      "[I 2024-01-16 08:44:12,516] Trial 11 finished with value: 0.7885800000000001 and parameters: {'max_depth': 9, 'learning_rate': 0.43603342496788006, 'n_estimators': 81, 'min_child_weight': 6, 'gamma': 0.42283396965654657, 'subsample': 0.13930031259274855, 'colsample_bytree': 0.6031429411854379, 'reg_alpha': 0.8426039786617089, 'reg_lambda': 0.6867104404435388}. Best is trial 10 with value: 0.8091100000000001.\n",
      "[I 2024-01-16 08:45:28,495] Trial 9 finished with value: 0.7968299999999999 and parameters: {'max_depth': 9, 'learning_rate': 0.6318100659432799, 'n_estimators': 183, 'min_child_weight': 1, 'gamma': 0.17019992706477033, 'subsample': 0.9877039035044126, 'colsample_bytree': 0.06072976309038555, 'reg_alpha': 0.07315542509083443, 'reg_lambda': 0.17239142207405958}. Best is trial 10 with value: 0.8091100000000001.\n",
      "[I 2024-01-16 09:02:41,861] Trial 6 finished with value: 0.7739900000000001 and parameters: {'max_depth': 6, 'learning_rate': 0.04993116734335145, 'n_estimators': 439, 'min_child_weight': 4, 'gamma': 0.9458626820195064, 'subsample': 0.4210380919940129, 'colsample_bytree': 0.9478320152944524, 'reg_alpha': 0.6427686024755767, 'reg_lambda': 0.5507864574838209}. Best is trial 10 with value: 0.8091100000000001.\n",
      "[I 2024-01-16 09:10:42,168] Trial 13 finished with value: 0.75463 and parameters: {'max_depth': 2, 'learning_rate': 0.7941858933772722, 'n_estimators': 287, 'min_child_weight': 3, 'gamma': 0.23293310785188726, 'subsample': 0.4529166750427163, 'colsample_bytree': 0.8956671415702723, 'reg_alpha': 0.4562466643598659, 'reg_lambda': 0.08862601720943823}. Best is trial 10 with value: 0.8091100000000001.\n",
      "[I 2024-01-16 09:12:17,119] Trial 12 finished with value: 0.8112 and parameters: {'max_depth': 8, 'learning_rate': 0.20424638467588413, 'n_estimators': 234, 'min_child_weight': 5, 'gamma': 0.5042349014485847, 'subsample': 0.3207199162665588, 'colsample_bytree': 0.7760953140516949, 'reg_alpha': 0.5234051273813395, 'reg_lambda': 0.02691819728775266}. Best is trial 12 with value: 0.8112.\n",
      "[I 2024-01-16 09:17:44,212] Trial 14 finished with value: 0.79024 and parameters: {'max_depth': 4, 'learning_rate': 0.4393631981935667, 'n_estimators': 322, 'min_child_weight': 3, 'gamma': 0.7085408319831488, 'subsample': 0.35666983389524715, 'colsample_bytree': 0.7045136857273856, 'reg_alpha': 0.27974000156785045, 'reg_lambda': 0.8608216148756652}. Best is trial 12 with value: 0.8112.\n"
     ]
    }
   ],
   "source": [
    "xgb_study = optuna.create_study(direction=\"maximize\", study_name=\"xgb_trans5_2\", \n",
    "                                storage='sqlite:///optuna.db', load_if_exists=True)\n",
    "xgb_study.optimize(objective_xgb_trans5_2, n_trials=15, n_jobs=-1)"
   ]
  },
  {
   "cell_type": "code",
   "execution_count": 60,
   "id": "14b24349-708d-4836-8d2b-790bac8c7ded",
   "metadata": {},
   "outputs": [
    {
     "data": {
      "application/vnd.plotly.v1+json": {
       "config": {
        "plotlyServerURL": "https://plot.ly"
       },
       "data": [
        {
         "cliponaxis": false,
         "hovertemplate": [
          "n_estimators (IntDistribution): 0.0036876661143048738<extra></extra>",
          "learning_rate (FloatDistribution): 0.032860502041292004<extra></extra>",
          "reg_lambda (FloatDistribution): 0.0401831552622536<extra></extra>",
          "gamma (FloatDistribution): 0.045859297569053985<extra></extra>",
          "min_child_weight (IntDistribution): 0.13531428688820768<extra></extra>",
          "reg_alpha (FloatDistribution): 0.14386444924751507<extra></extra>",
          "colsample_bytree (FloatDistribution): 0.15108244434741036<extra></extra>",
          "subsample (FloatDistribution): 0.20638238412828944<extra></extra>",
          "max_depth (IntDistribution): 0.24076581440167308<extra></extra>"
         ],
         "marker": {
          "color": "rgb(66,146,198)"
         },
         "orientation": "h",
         "text": [
          "<0.01",
          "0.03",
          "0.04",
          "0.05",
          "0.14",
          "0.14",
          "0.15",
          "0.21",
          "0.24"
         ],
         "textposition": "outside",
         "type": "bar",
         "x": [
          0.0036876661143048738,
          0.032860502041292004,
          0.0401831552622536,
          0.045859297569053985,
          0.13531428688820768,
          0.14386444924751507,
          0.15108244434741036,
          0.20638238412828944,
          0.24076581440167308
         ],
         "y": [
          "n_estimators",
          "learning_rate",
          "reg_lambda",
          "gamma",
          "min_child_weight",
          "reg_alpha",
          "colsample_bytree",
          "subsample",
          "max_depth"
         ]
        }
       ],
       "layout": {
        "autosize": true,
        "showlegend": false,
        "template": {
         "data": {
          "bar": [
           {
            "error_x": {
             "color": "#2a3f5f"
            },
            "error_y": {
             "color": "#2a3f5f"
            },
            "marker": {
             "line": {
              "color": "#E5ECF6",
              "width": 0.5
             },
             "pattern": {
              "fillmode": "overlay",
              "size": 10,
              "solidity": 0.2
             }
            },
            "type": "bar"
           }
          ],
          "barpolar": [
           {
            "marker": {
             "line": {
              "color": "#E5ECF6",
              "width": 0.5
             },
             "pattern": {
              "fillmode": "overlay",
              "size": 10,
              "solidity": 0.2
             }
            },
            "type": "barpolar"
           }
          ],
          "carpet": [
           {
            "aaxis": {
             "endlinecolor": "#2a3f5f",
             "gridcolor": "white",
             "linecolor": "white",
             "minorgridcolor": "white",
             "startlinecolor": "#2a3f5f"
            },
            "baxis": {
             "endlinecolor": "#2a3f5f",
             "gridcolor": "white",
             "linecolor": "white",
             "minorgridcolor": "white",
             "startlinecolor": "#2a3f5f"
            },
            "type": "carpet"
           }
          ],
          "choropleth": [
           {
            "colorbar": {
             "outlinewidth": 0,
             "ticks": ""
            },
            "type": "choropleth"
           }
          ],
          "contour": [
           {
            "colorbar": {
             "outlinewidth": 0,
             "ticks": ""
            },
            "colorscale": [
             [
              0,
              "#0d0887"
             ],
             [
              0.1111111111111111,
              "#46039f"
             ],
             [
              0.2222222222222222,
              "#7201a8"
             ],
             [
              0.3333333333333333,
              "#9c179e"
             ],
             [
              0.4444444444444444,
              "#bd3786"
             ],
             [
              0.5555555555555556,
              "#d8576b"
             ],
             [
              0.6666666666666666,
              "#ed7953"
             ],
             [
              0.7777777777777778,
              "#fb9f3a"
             ],
             [
              0.8888888888888888,
              "#fdca26"
             ],
             [
              1,
              "#f0f921"
             ]
            ],
            "type": "contour"
           }
          ],
          "contourcarpet": [
           {
            "colorbar": {
             "outlinewidth": 0,
             "ticks": ""
            },
            "type": "contourcarpet"
           }
          ],
          "heatmap": [
           {
            "colorbar": {
             "outlinewidth": 0,
             "ticks": ""
            },
            "colorscale": [
             [
              0,
              "#0d0887"
             ],
             [
              0.1111111111111111,
              "#46039f"
             ],
             [
              0.2222222222222222,
              "#7201a8"
             ],
             [
              0.3333333333333333,
              "#9c179e"
             ],
             [
              0.4444444444444444,
              "#bd3786"
             ],
             [
              0.5555555555555556,
              "#d8576b"
             ],
             [
              0.6666666666666666,
              "#ed7953"
             ],
             [
              0.7777777777777778,
              "#fb9f3a"
             ],
             [
              0.8888888888888888,
              "#fdca26"
             ],
             [
              1,
              "#f0f921"
             ]
            ],
            "type": "heatmap"
           }
          ],
          "heatmapgl": [
           {
            "colorbar": {
             "outlinewidth": 0,
             "ticks": ""
            },
            "colorscale": [
             [
              0,
              "#0d0887"
             ],
             [
              0.1111111111111111,
              "#46039f"
             ],
             [
              0.2222222222222222,
              "#7201a8"
             ],
             [
              0.3333333333333333,
              "#9c179e"
             ],
             [
              0.4444444444444444,
              "#bd3786"
             ],
             [
              0.5555555555555556,
              "#d8576b"
             ],
             [
              0.6666666666666666,
              "#ed7953"
             ],
             [
              0.7777777777777778,
              "#fb9f3a"
             ],
             [
              0.8888888888888888,
              "#fdca26"
             ],
             [
              1,
              "#f0f921"
             ]
            ],
            "type": "heatmapgl"
           }
          ],
          "histogram": [
           {
            "marker": {
             "pattern": {
              "fillmode": "overlay",
              "size": 10,
              "solidity": 0.2
             }
            },
            "type": "histogram"
           }
          ],
          "histogram2d": [
           {
            "colorbar": {
             "outlinewidth": 0,
             "ticks": ""
            },
            "colorscale": [
             [
              0,
              "#0d0887"
             ],
             [
              0.1111111111111111,
              "#46039f"
             ],
             [
              0.2222222222222222,
              "#7201a8"
             ],
             [
              0.3333333333333333,
              "#9c179e"
             ],
             [
              0.4444444444444444,
              "#bd3786"
             ],
             [
              0.5555555555555556,
              "#d8576b"
             ],
             [
              0.6666666666666666,
              "#ed7953"
             ],
             [
              0.7777777777777778,
              "#fb9f3a"
             ],
             [
              0.8888888888888888,
              "#fdca26"
             ],
             [
              1,
              "#f0f921"
             ]
            ],
            "type": "histogram2d"
           }
          ],
          "histogram2dcontour": [
           {
            "colorbar": {
             "outlinewidth": 0,
             "ticks": ""
            },
            "colorscale": [
             [
              0,
              "#0d0887"
             ],
             [
              0.1111111111111111,
              "#46039f"
             ],
             [
              0.2222222222222222,
              "#7201a8"
             ],
             [
              0.3333333333333333,
              "#9c179e"
             ],
             [
              0.4444444444444444,
              "#bd3786"
             ],
             [
              0.5555555555555556,
              "#d8576b"
             ],
             [
              0.6666666666666666,
              "#ed7953"
             ],
             [
              0.7777777777777778,
              "#fb9f3a"
             ],
             [
              0.8888888888888888,
              "#fdca26"
             ],
             [
              1,
              "#f0f921"
             ]
            ],
            "type": "histogram2dcontour"
           }
          ],
          "mesh3d": [
           {
            "colorbar": {
             "outlinewidth": 0,
             "ticks": ""
            },
            "type": "mesh3d"
           }
          ],
          "parcoords": [
           {
            "line": {
             "colorbar": {
              "outlinewidth": 0,
              "ticks": ""
             }
            },
            "type": "parcoords"
           }
          ],
          "pie": [
           {
            "automargin": true,
            "type": "pie"
           }
          ],
          "scatter": [
           {
            "fillpattern": {
             "fillmode": "overlay",
             "size": 10,
             "solidity": 0.2
            },
            "type": "scatter"
           }
          ],
          "scatter3d": [
           {
            "line": {
             "colorbar": {
              "outlinewidth": 0,
              "ticks": ""
             }
            },
            "marker": {
             "colorbar": {
              "outlinewidth": 0,
              "ticks": ""
             }
            },
            "type": "scatter3d"
           }
          ],
          "scattercarpet": [
           {
            "marker": {
             "colorbar": {
              "outlinewidth": 0,
              "ticks": ""
             }
            },
            "type": "scattercarpet"
           }
          ],
          "scattergeo": [
           {
            "marker": {
             "colorbar": {
              "outlinewidth": 0,
              "ticks": ""
             }
            },
            "type": "scattergeo"
           }
          ],
          "scattergl": [
           {
            "marker": {
             "colorbar": {
              "outlinewidth": 0,
              "ticks": ""
             }
            },
            "type": "scattergl"
           }
          ],
          "scattermapbox": [
           {
            "marker": {
             "colorbar": {
              "outlinewidth": 0,
              "ticks": ""
             }
            },
            "type": "scattermapbox"
           }
          ],
          "scatterpolar": [
           {
            "marker": {
             "colorbar": {
              "outlinewidth": 0,
              "ticks": ""
             }
            },
            "type": "scatterpolar"
           }
          ],
          "scatterpolargl": [
           {
            "marker": {
             "colorbar": {
              "outlinewidth": 0,
              "ticks": ""
             }
            },
            "type": "scatterpolargl"
           }
          ],
          "scatterternary": [
           {
            "marker": {
             "colorbar": {
              "outlinewidth": 0,
              "ticks": ""
             }
            },
            "type": "scatterternary"
           }
          ],
          "surface": [
           {
            "colorbar": {
             "outlinewidth": 0,
             "ticks": ""
            },
            "colorscale": [
             [
              0,
              "#0d0887"
             ],
             [
              0.1111111111111111,
              "#46039f"
             ],
             [
              0.2222222222222222,
              "#7201a8"
             ],
             [
              0.3333333333333333,
              "#9c179e"
             ],
             [
              0.4444444444444444,
              "#bd3786"
             ],
             [
              0.5555555555555556,
              "#d8576b"
             ],
             [
              0.6666666666666666,
              "#ed7953"
             ],
             [
              0.7777777777777778,
              "#fb9f3a"
             ],
             [
              0.8888888888888888,
              "#fdca26"
             ],
             [
              1,
              "#f0f921"
             ]
            ],
            "type": "surface"
           }
          ],
          "table": [
           {
            "cells": {
             "fill": {
              "color": "#EBF0F8"
             },
             "line": {
              "color": "white"
             }
            },
            "header": {
             "fill": {
              "color": "#C8D4E3"
             },
             "line": {
              "color": "white"
             }
            },
            "type": "table"
           }
          ]
         },
         "layout": {
          "annotationdefaults": {
           "arrowcolor": "#2a3f5f",
           "arrowhead": 0,
           "arrowwidth": 1
          },
          "autotypenumbers": "strict",
          "coloraxis": {
           "colorbar": {
            "outlinewidth": 0,
            "ticks": ""
           }
          },
          "colorscale": {
           "diverging": [
            [
             0,
             "#8e0152"
            ],
            [
             0.1,
             "#c51b7d"
            ],
            [
             0.2,
             "#de77ae"
            ],
            [
             0.3,
             "#f1b6da"
            ],
            [
             0.4,
             "#fde0ef"
            ],
            [
             0.5,
             "#f7f7f7"
            ],
            [
             0.6,
             "#e6f5d0"
            ],
            [
             0.7,
             "#b8e186"
            ],
            [
             0.8,
             "#7fbc41"
            ],
            [
             0.9,
             "#4d9221"
            ],
            [
             1,
             "#276419"
            ]
           ],
           "sequential": [
            [
             0,
             "#0d0887"
            ],
            [
             0.1111111111111111,
             "#46039f"
            ],
            [
             0.2222222222222222,
             "#7201a8"
            ],
            [
             0.3333333333333333,
             "#9c179e"
            ],
            [
             0.4444444444444444,
             "#bd3786"
            ],
            [
             0.5555555555555556,
             "#d8576b"
            ],
            [
             0.6666666666666666,
             "#ed7953"
            ],
            [
             0.7777777777777778,
             "#fb9f3a"
            ],
            [
             0.8888888888888888,
             "#fdca26"
            ],
            [
             1,
             "#f0f921"
            ]
           ],
           "sequentialminus": [
            [
             0,
             "#0d0887"
            ],
            [
             0.1111111111111111,
             "#46039f"
            ],
            [
             0.2222222222222222,
             "#7201a8"
            ],
            [
             0.3333333333333333,
             "#9c179e"
            ],
            [
             0.4444444444444444,
             "#bd3786"
            ],
            [
             0.5555555555555556,
             "#d8576b"
            ],
            [
             0.6666666666666666,
             "#ed7953"
            ],
            [
             0.7777777777777778,
             "#fb9f3a"
            ],
            [
             0.8888888888888888,
             "#fdca26"
            ],
            [
             1,
             "#f0f921"
            ]
           ]
          },
          "colorway": [
           "#636efa",
           "#EF553B",
           "#00cc96",
           "#ab63fa",
           "#FFA15A",
           "#19d3f3",
           "#FF6692",
           "#B6E880",
           "#FF97FF",
           "#FECB52"
          ],
          "font": {
           "color": "#2a3f5f"
          },
          "geo": {
           "bgcolor": "white",
           "lakecolor": "white",
           "landcolor": "#E5ECF6",
           "showlakes": true,
           "showland": true,
           "subunitcolor": "white"
          },
          "hoverlabel": {
           "align": "left"
          },
          "hovermode": "closest",
          "mapbox": {
           "style": "light"
          },
          "paper_bgcolor": "white",
          "plot_bgcolor": "#E5ECF6",
          "polar": {
           "angularaxis": {
            "gridcolor": "white",
            "linecolor": "white",
            "ticks": ""
           },
           "bgcolor": "#E5ECF6",
           "radialaxis": {
            "gridcolor": "white",
            "linecolor": "white",
            "ticks": ""
           }
          },
          "scene": {
           "xaxis": {
            "backgroundcolor": "#E5ECF6",
            "gridcolor": "white",
            "gridwidth": 2,
            "linecolor": "white",
            "showbackground": true,
            "ticks": "",
            "zerolinecolor": "white"
           },
           "yaxis": {
            "backgroundcolor": "#E5ECF6",
            "gridcolor": "white",
            "gridwidth": 2,
            "linecolor": "white",
            "showbackground": true,
            "ticks": "",
            "zerolinecolor": "white"
           },
           "zaxis": {
            "backgroundcolor": "#E5ECF6",
            "gridcolor": "white",
            "gridwidth": 2,
            "linecolor": "white",
            "showbackground": true,
            "ticks": "",
            "zerolinecolor": "white"
           }
          },
          "shapedefaults": {
           "line": {
            "color": "#2a3f5f"
           }
          },
          "ternary": {
           "aaxis": {
            "gridcolor": "white",
            "linecolor": "white",
            "ticks": ""
           },
           "baxis": {
            "gridcolor": "white",
            "linecolor": "white",
            "ticks": ""
           },
           "bgcolor": "#E5ECF6",
           "caxis": {
            "gridcolor": "white",
            "linecolor": "white",
            "ticks": ""
           }
          },
          "title": {
           "x": 0.05
          },
          "xaxis": {
           "automargin": true,
           "gridcolor": "white",
           "linecolor": "white",
           "ticks": "",
           "title": {
            "standoff": 15
           },
           "zerolinecolor": "white",
           "zerolinewidth": 2
          },
          "yaxis": {
           "automargin": true,
           "gridcolor": "white",
           "linecolor": "white",
           "ticks": "",
           "title": {
            "standoff": 15
           },
           "zerolinecolor": "white",
           "zerolinewidth": 2
          }
         }
        },
        "title": {
         "text": "Hyperparameter Importances"
        },
        "xaxis": {
         "autorange": true,
         "range": [
          0,
          0.2534376993701822
         ],
         "title": {
          "text": "Importance for Objective Value"
         },
         "type": "linear"
        },
        "yaxis": {
         "autorange": true,
         "range": [
          -0.5,
          8.5
         ],
         "title": {
          "text": "Hyperparameter"
         },
         "type": "category"
        }
       }
      },
      "image/png": "[encoded data removed]",
      "text/html": [
       "<div>                            <div id=\"22d2e2e9-ac9b-4408-9462-ebd74be87081\" class=\"plotly-graph-div\" style=\"height:525px; width:100%;\"></div>            <script type=\"text/javascript\">                require([\"plotly\"], function(Plotly) {                    window.PLOTLYENV=window.PLOTLYENV || {};                                    if (document.getElementById(\"22d2e2e9-ac9b-4408-9462-ebd74be87081\")) {                    Plotly.newPlot(                        \"22d2e2e9-ac9b-4408-9462-ebd74be87081\",                        [{\"cliponaxis\":false,\"hovertemplate\":[\"n_estimators (IntDistribution): 0.0036876661143048738\\u003cextra\\u003e\\u003c\\u002fextra\\u003e\",\"learning_rate (FloatDistribution): 0.032860502041292004\\u003cextra\\u003e\\u003c\\u002fextra\\u003e\",\"reg_lambda (FloatDistribution): 0.0401831552622536\\u003cextra\\u003e\\u003c\\u002fextra\\u003e\",\"gamma (FloatDistribution): 0.045859297569053985\\u003cextra\\u003e\\u003c\\u002fextra\\u003e\",\"min_child_weight (IntDistribution): 0.13531428688820768\\u003cextra\\u003e\\u003c\\u002fextra\\u003e\",\"reg_alpha (FloatDistribution): 0.14386444924751507\\u003cextra\\u003e\\u003c\\u002fextra\\u003e\",\"colsample_bytree (FloatDistribution): 0.15108244434741036\\u003cextra\\u003e\\u003c\\u002fextra\\u003e\",\"subsample (FloatDistribution): 0.20638238412828944\\u003cextra\\u003e\\u003c\\u002fextra\\u003e\",\"max_depth (IntDistribution): 0.24076581440167308\\u003cextra\\u003e\\u003c\\u002fextra\\u003e\"],\"marker\":{\"color\":\"rgb(66,146,198)\"},\"orientation\":\"h\",\"text\":[\"\\u003c0.01\",\"0.03\",\"0.04\",\"0.05\",\"0.14\",\"0.14\",\"0.15\",\"0.21\",\"0.24\"],\"textposition\":\"outside\",\"x\":[0.0036876661143048738,0.032860502041292004,0.0401831552622536,0.045859297569053985,0.13531428688820768,0.14386444924751507,0.15108244434741036,0.20638238412828944,0.24076581440167308],\"y\":[\"n_estimators\",\"learning_rate\",\"reg_lambda\",\"gamma\",\"min_child_weight\",\"reg_alpha\",\"colsample_bytree\",\"subsample\",\"max_depth\"],\"type\":\"bar\"}],                        {\"showlegend\":false,\"title\":{\"text\":\"Hyperparameter Importances\"},\"xaxis\":{\"title\":{\"text\":\"Importance for Objective Value\"}},\"yaxis\":{\"title\":{\"text\":\"Hyperparameter\"}},\"template\":{\"data\":{\"histogram2dcontour\":[{\"type\":\"histogram2dcontour\",\"colorbar\":{\"outlinewidth\":0,\"ticks\":\"\"},\"colorscale\":[[0.0,\"#0d0887\"],[0.1111111111111111,\"#46039f\"],[0.2222222222222222,\"#7201a8\"],[0.3333333333333333,\"#9c179e\"],[0.4444444444444444,\"#bd3786\"],[0.5555555555555556,\"#d8576b\"],[0.6666666666666666,\"#ed7953\"],[0.7777777777777778,\"#fb9f3a\"],[0.8888888888888888,\"#fdca26\"],[1.0,\"#f0f921\"]]}],\"choropleth\":[{\"type\":\"choropleth\",\"colorbar\":{\"outlinewidth\":0,\"ticks\":\"\"}}],\"histogram2d\":[{\"type\":\"histogram2d\",\"colorbar\":{\"outlinewidth\":0,\"ticks\":\"\"},\"colorscale\":[[0.0,\"#0d0887\"],[0.1111111111111111,\"#46039f\"],[0.2222222222222222,\"#7201a8\"],[0.3333333333333333,\"#9c179e\"],[0.4444444444444444,\"#bd3786\"],[0.5555555555555556,\"#d8576b\"],[0.6666666666666666,\"#ed7953\"],[0.7777777777777778,\"#fb9f3a\"],[0.8888888888888888,\"#fdca26\"],[1.0,\"#f0f921\"]]}],\"heatmap\":[{\"type\":\"heatmap\",\"colorbar\":{\"outlinewidth\":0,\"ticks\":\"\"},\"colorscale\":[[0.0,\"#0d0887\"],[0.1111111111111111,\"#46039f\"],[0.2222222222222222,\"#7201a8\"],[0.3333333333333333,\"#9c179e\"],[0.4444444444444444,\"#bd3786\"],[0.5555555555555556,\"#d8576b\"],[0.6666666666666666,\"#ed7953\"],[0.7777777777777778,\"#fb9f3a\"],[0.8888888888888888,\"#fdca26\"],[1.0,\"#f0f921\"]]}],\"heatmapgl\":[{\"type\":\"heatmapgl\",\"colorbar\":{\"outlinewidth\":0,\"ticks\":\"\"},\"colorscale\":[[0.0,\"#0d0887\"],[0.1111111111111111,\"#46039f\"],[0.2222222222222222,\"#7201a8\"],[0.3333333333333333,\"#9c179e\"],[0.4444444444444444,\"#bd3786\"],[0.5555555555555556,\"#d8576b\"],[0.6666666666666666,\"#ed7953\"],[0.7777777777777778,\"#fb9f3a\"],[0.8888888888888888,\"#fdca26\"],[1.0,\"#f0f921\"]]}],\"contourcarpet\":[{\"type\":\"contourcarpet\",\"colorbar\":{\"outlinewidth\":0,\"ticks\":\"\"}}],\"contour\":[{\"type\":\"contour\",\"colorbar\":{\"outlinewidth\":0,\"ticks\":\"\"},\"colorscale\":[[0.0,\"#0d0887\"],[0.1111111111111111,\"#46039f\"],[0.2222222222222222,\"#7201a8\"],[0.3333333333333333,\"#9c179e\"],[0.4444444444444444,\"#bd3786\"],[0.5555555555555556,\"#d8576b\"],[0.6666666666666666,\"#ed7953\"],[0.7777777777777778,\"#fb9f3a\"],[0.8888888888888888,\"#fdca26\"],[1.0,\"#f0f921\"]]}],\"surface\":[{\"type\":\"surface\",\"colorbar\":{\"outlinewidth\":0,\"ticks\":\"\"},\"colorscale\":[[0.0,\"#0d0887\"],[0.1111111111111111,\"#46039f\"],[0.2222222222222222,\"#7201a8\"],[0.3333333333333333,\"#9c179e\"],[0.4444444444444444,\"#bd3786\"],[0.5555555555555556,\"#d8576b\"],[0.6666666666666666,\"#ed7953\"],[0.7777777777777778,\"#fb9f3a\"],[0.8888888888888888,\"#fdca26\"],[1.0,\"#f0f921\"]]}],\"mesh3d\":[{\"type\":\"mesh3d\",\"colorbar\":{\"outlinewidth\":0,\"ticks\":\"\"}}],\"scatter\":[{\"fillpattern\":{\"fillmode\":\"overlay\",\"size\":10,\"solidity\":0.2},\"type\":\"scatter\"}],\"parcoords\":[{\"type\":\"parcoords\",\"line\":{\"colorbar\":{\"outlinewidth\":0,\"ticks\":\"\"}}}],\"scatterpolargl\":[{\"type\":\"scatterpolargl\",\"marker\":{\"colorbar\":{\"outlinewidth\":0,\"ticks\":\"\"}}}],\"bar\":[{\"error_x\":{\"color\":\"#2a3f5f\"},\"error_y\":{\"color\":\"#2a3f5f\"},\"marker\":{\"line\":{\"color\":\"#E5ECF6\",\"width\":0.5},\"pattern\":{\"fillmode\":\"overlay\",\"size\":10,\"solidity\":0.2}},\"type\":\"bar\"}],\"scattergeo\":[{\"type\":\"scattergeo\",\"marker\":{\"colorbar\":{\"outlinewidth\":0,\"ticks\":\"\"}}}],\"scatterpolar\":[{\"type\":\"scatterpolar\",\"marker\":{\"colorbar\":{\"outlinewidth\":0,\"ticks\":\"\"}}}],\"histogram\":[{\"marker\":{\"pattern\":{\"fillmode\":\"overlay\",\"size\":10,\"solidity\":0.2}},\"type\":\"histogram\"}],\"scattergl\":[{\"type\":\"scattergl\",\"marker\":{\"colorbar\":{\"outlinewidth\":0,\"ticks\":\"\"}}}],\"scatter3d\":[{\"type\":\"scatter3d\",\"line\":{\"colorbar\":{\"outlinewidth\":0,\"ticks\":\"\"}},\"marker\":{\"colorbar\":{\"outlinewidth\":0,\"ticks\":\"\"}}}],\"scattermapbox\":[{\"type\":\"scattermapbox\",\"marker\":{\"colorbar\":{\"outlinewidth\":0,\"ticks\":\"\"}}}],\"scatterternary\":[{\"type\":\"scatterternary\",\"marker\":{\"colorbar\":{\"outlinewidth\":0,\"ticks\":\"\"}}}],\"scattercarpet\":[{\"type\":\"scattercarpet\",\"marker\":{\"colorbar\":{\"outlinewidth\":0,\"ticks\":\"\"}}}],\"carpet\":[{\"aaxis\":{\"endlinecolor\":\"#2a3f5f\",\"gridcolor\":\"white\",\"linecolor\":\"white\",\"minorgridcolor\":\"white\",\"startlinecolor\":\"#2a3f5f\"},\"baxis\":{\"endlinecolor\":\"#2a3f5f\",\"gridcolor\":\"white\",\"linecolor\":\"white\",\"minorgridcolor\":\"white\",\"startlinecolor\":\"#2a3f5f\"},\"type\":\"carpet\"}],\"table\":[{\"cells\":{\"fill\":{\"color\":\"#EBF0F8\"},\"line\":{\"color\":\"white\"}},\"header\":{\"fill\":{\"color\":\"#C8D4E3\"},\"line\":{\"color\":\"white\"}},\"type\":\"table\"}],\"barpolar\":[{\"marker\":{\"line\":{\"color\":\"#E5ECF6\",\"width\":0.5},\"pattern\":{\"fillmode\":\"overlay\",\"size\":10,\"solidity\":0.2}},\"type\":\"barpolar\"}],\"pie\":[{\"automargin\":true,\"type\":\"pie\"}]},\"layout\":{\"autotypenumbers\":\"strict\",\"colorway\":[\"#636efa\",\"#EF553B\",\"#00cc96\",\"#ab63fa\",\"#FFA15A\",\"#19d3f3\",\"#FF6692\",\"#B6E880\",\"#FF97FF\",\"#FECB52\"],\"font\":{\"color\":\"#2a3f5f\"},\"hovermode\":\"closest\",\"hoverlabel\":{\"align\":\"left\"},\"paper_bgcolor\":\"white\",\"plot_bgcolor\":\"#E5ECF6\",\"polar\":{\"bgcolor\":\"#E5ECF6\",\"angularaxis\":{\"gridcolor\":\"white\",\"linecolor\":\"white\",\"ticks\":\"\"},\"radialaxis\":{\"gridcolor\":\"white\",\"linecolor\":\"white\",\"ticks\":\"\"}},\"ternary\":{\"bgcolor\":\"#E5ECF6\",\"aaxis\":{\"gridcolor\":\"white\",\"linecolor\":\"white\",\"ticks\":\"\"},\"baxis\":{\"gridcolor\":\"white\",\"linecolor\":\"white\",\"ticks\":\"\"},\"caxis\":{\"gridcolor\":\"white\",\"linecolor\":\"white\",\"ticks\":\"\"}},\"coloraxis\":{\"colorbar\":{\"outlinewidth\":0,\"ticks\":\"\"}},\"colorscale\":{\"sequential\":[[0.0,\"#0d0887\"],[0.1111111111111111,\"#46039f\"],[0.2222222222222222,\"#7201a8\"],[0.3333333333333333,\"#9c179e\"],[0.4444444444444444,\"#bd3786\"],[0.5555555555555556,\"#d8576b\"],[0.6666666666666666,\"#ed7953\"],[0.7777777777777778,\"#fb9f3a\"],[0.8888888888888888,\"#fdca26\"],[1.0,\"#f0f921\"]],\"sequentialminus\":[[0.0,\"#0d0887\"],[0.1111111111111111,\"#46039f\"],[0.2222222222222222,\"#7201a8\"],[0.3333333333333333,\"#9c179e\"],[0.4444444444444444,\"#bd3786\"],[0.5555555555555556,\"#d8576b\"],[0.6666666666666666,\"#ed7953\"],[0.7777777777777778,\"#fb9f3a\"],[0.8888888888888888,\"#fdca26\"],[1.0,\"#f0f921\"]],\"diverging\":[[0,\"#8e0152\"],[0.1,\"#c51b7d\"],[0.2,\"#de77ae\"],[0.3,\"#f1b6da\"],[0.4,\"#fde0ef\"],[0.5,\"#f7f7f7\"],[0.6,\"#e6f5d0\"],[0.7,\"#b8e186\"],[0.8,\"#7fbc41\"],[0.9,\"#4d9221\"],[1,\"#276419\"]]},\"xaxis\":{\"gridcolor\":\"white\",\"linecolor\":\"white\",\"ticks\":\"\",\"title\":{\"standoff\":15},\"zerolinecolor\":\"white\",\"automargin\":true,\"zerolinewidth\":2},\"yaxis\":{\"gridcolor\":\"white\",\"linecolor\":\"white\",\"ticks\":\"\",\"title\":{\"standoff\":15},\"zerolinecolor\":\"white\",\"automargin\":true,\"zerolinewidth\":2},\"scene\":{\"xaxis\":{\"backgroundcolor\":\"#E5ECF6\",\"gridcolor\":\"white\",\"linecolor\":\"white\",\"showbackground\":true,\"ticks\":\"\",\"zerolinecolor\":\"white\",\"gridwidth\":2},\"yaxis\":{\"backgroundcolor\":\"#E5ECF6\",\"gridcolor\":\"white\",\"linecolor\":\"white\",\"showbackground\":true,\"ticks\":\"\",\"zerolinecolor\":\"white\",\"gridwidth\":2},\"zaxis\":{\"backgroundcolor\":\"#E5ECF6\",\"gridcolor\":\"white\",\"linecolor\":\"white\",\"showbackground\":true,\"ticks\":\"\",\"zerolinecolor\":\"white\",\"gridwidth\":2}},\"shapedefaults\":{\"line\":{\"color\":\"#2a3f5f\"}},\"annotationdefaults\":{\"arrowcolor\":\"#2a3f5f\",\"arrowhead\":0,\"arrowwidth\":1},\"geo\":{\"bgcolor\":\"white\",\"landcolor\":\"#E5ECF6\",\"subunitcolor\":\"white\",\"showland\":true,\"showlakes\":true,\"lakecolor\":\"white\"},\"title\":{\"x\":0.05},\"mapbox\":{\"style\":\"light\"}}}},                        {\"responsive\": true}                    ).then(function(){\n",
       "                            \n",
       "var gd = document.getElementById('22d2e2e9-ac9b-4408-9462-ebd74be87081');\n",
       "var x = new MutationObserver(function (mutations, observer) {{\n",
       "        var display = window.getComputedStyle(gd).display;\n",
       "        if (!display || display === 'none') {{\n",
       "            console.log([gd, 'removed!']);\n",
       "            Plotly.purge(gd);\n",
       "            observer.disconnect();\n",
       "        }}\n",
       "}});\n",
       "\n",
       "// Listen for the removal of the full notebook cells\n",
       "var notebookContainer = gd.closest('#notebook-container');\n",
       "if (notebookContainer) {{\n",
       "    x.observe(notebookContainer, {childList: true});\n",
       "}}\n",
       "\n",
       "// Listen for the clearing of the current output cell\n",
       "var outputEl = gd.closest('.output');\n",
       "if (outputEl) {{\n",
       "    x.observe(outputEl, {childList: true});\n",
       "}}\n",
       "\n",
       "                        })                };                });            </script>        </div>"
      ]
     },
     "metadata": {},
     "output_type": "display_data"
    }
   ],
   "source": [
    "visualize_hyper_params_importance(xgb_study)"
   ]
  },
  {
   "cell_type": "code",
   "execution_count": 61,
   "id": "4625dcc3-0832-4459-9832-1a39213addc2",
   "metadata": {},
   "outputs": [
    {
     "data": {
      "application/vnd.jupyter.widget-view+json": {
       "model_id": "ffed0ab50a9046eaa28c384da3c6a64b",
       "version_major": 2,
       "version_minor": 0
      },
      "text/plain": [
       "  0%|          | 0/1 [00:00<?, ?it/s]"
      ]
     },
     "metadata": {},
     "output_type": "display_data"
    },
    {
     "name": "stderr",
     "output_type": "stream",
     "text": [
      "Successfully registered model 'xgb_best'.\n",
      "2024/01/16 09:22:11 INFO mlflow.tracking._model_registry.client: Waiting up to 300 seconds for model version to finish creation. Model name: xgb_best, version 1\n",
      "Created version '1' of model 'xgb_best'.\n"
     ]
    }
   ],
   "source": [
    "run_experiment(\"fine_tunned_models\", \n",
    "               X_train, y_train, X_test, y_test, \n",
    "               models={'xgb_best': xgb_baseline_models2['xgb_baseline_trans5_2']},\n",
    "               model_params=xgb_study.best_params,\n",
    "               cv=10, register_models=True\n",
    "              )"
   ]
  },
  {
   "cell_type": "code",
   "execution_count": 62,
   "id": "f549225b-82c7-4bf7-9f12-bcf765a0bcf5",
   "metadata": {},
   "outputs": [],
   "source": [
    "class Objective_lgbm_trans4_2():\n",
    "    def __init__(self, X, y, cv=5):\n",
    "        self.X, self.y = X, y\n",
    "        self.cv = cv\n",
    "\n",
    "    def __call__(self, trial:optuna.Trial):\n",
    "        X, y = self.X, self.y\n",
    "        \n",
    "        params = {\n",
    "            \"objective\": \"multiclass\",\n",
    "            \"metric\": \"softmax\",\n",
    "            \"boosting_type\": \"dart\",\n",
    "            \"num_class\": 3,\n",
    "            'learning_rate': trial.suggest_float('learning_rate', 1e-5, 1e-2),\n",
    "            \"lambda_l2\": trial.suggest_float(\"lambda_l2\", 1e-8, 10.0, log=True),\n",
    "            \"num_leaves\": trial.suggest_int(\"num_leaves\", 2, 256),\n",
    "            \"feature_fraction\": trial.suggest_float(\"feature_fraction\", 0.4, 1.0),\n",
    "            \"bagging_fraction\": trial.suggest_float(\"bagging_fraction\", 0.4, 1.0),\n",
    "            \"bagging_freq\": trial.suggest_int(\"bagging_freq\", 1, 7),\n",
    "            \"min_child_samples\": trial.suggest_int(\"min_child_samples\", 5, 100),\n",
    "        }\n",
    "\n",
    "\n",
    "        model = make_clf_pipeline(transformer4_2, LGBMClassifier(**params), categorical=True)\n",
    "        \n",
    "        cv = StratifiedKFold(n_splits=self.cv, shuffle=True, random_state=1234)\n",
    "        accuracy = cross_val_score(model, X, y, cv=cv,  n_jobs=-1).mean()\n",
    "    \n",
    "        return accuracy"
   ]
  },
  {
   "cell_type": "code",
   "execution_count": 63,
   "id": "049c4e1e-f1b5-44f5-9ef8-5bbe0da9d2e1",
   "metadata": {},
   "outputs": [],
   "source": [
    "objective_lgbm_trans4_2 = Objective_lgbm_trans4_2(X_reduced, target, cv=10)"
   ]
  },
  {
   "cell_type": "code",
   "execution_count": 64,
   "id": "64f31ac0-04ed-440e-b1d6-bdece878215b",
   "metadata": {},
   "outputs": [],
   "source": [
    "# optuna.delete_study(study_name=\"lgbm_trans4_2\", storage='sqlite:///optuna.db')"
   ]
  },
  {
   "cell_type": "code",
   "execution_count": 65,
   "id": "07bc9402-46b8-48a6-a563-0271d2371b4d",
   "metadata": {
    "scrolled": true
   },
   "outputs": [
    {
     "name": "stderr",
     "output_type": "stream",
     "text": [
      "[I 2024-01-16 09:22:12,822] A new study created in RDB with name: lgbm_trans4_2\n",
      "[W 2024-01-16 09:53:14,925] Trial 6 failed with parameters: {'learning_rate': 0.007064295360405646, 'lambda_l2': 0.22273718683977006, 'num_leaves': 95, 'feature_fraction': 0.935582620240267, 'bagging_fraction': 0.9195413679876278, 'bagging_freq': 6, 'min_child_samples': 12} because of the following error: The value nan is not acceptable.\n",
      "[W 2024-01-16 09:53:15,048] Trial 6 failed with value nan.\n",
      "[W 2024-01-16 10:22:49,697] Trial 5 failed with parameters: {'learning_rate': 0.0037016021191141825, 'lambda_l2': 5.032981126523677e-05, 'num_leaves': 255, 'feature_fraction': 0.5132862129037397, 'bagging_fraction': 0.7417495463192769, 'bagging_freq': 4, 'min_child_samples': 86} because of the following error: The value nan is not acceptable.\n",
      "[W 2024-01-16 10:22:49,828] Trial 5 failed with value nan.\n",
      "[I 2024-01-16 10:42:15,249] Trial 2 finished with value: 0.7131799999999999 and parameters: {'learning_rate': 0.007326061066534693, 'lambda_l2': 1.241717660737212e-06, 'num_leaves': 173, 'feature_fraction': 0.5424097977792643, 'bagging_fraction': 0.6020873546036001, 'bagging_freq': 4, 'min_child_samples': 69}. Best is trial 2 with value: 0.7131799999999999.\n",
      "[I 2024-01-16 10:55:31,257] Trial 4 finished with value: 0.71958 and parameters: {'learning_rate': 0.005203150024823126, 'lambda_l2': 0.15880972244760305, 'num_leaves': 97, 'feature_fraction': 0.5164743466114029, 'bagging_fraction': 0.8047914186868534, 'bagging_freq': 6, 'min_child_samples': 58}. Best is trial 4 with value: 0.71958.\n",
      "[I 2024-01-16 11:12:08,036] Trial 3 finished with value: 0.71379 and parameters: {'learning_rate': 0.005595137603723976, 'lambda_l2': 0.074063357965429, 'num_leaves': 89, 'feature_fraction': 0.9948973274156969, 'bagging_fraction': 0.45646093983308555, 'bagging_freq': 2, 'min_child_samples': 35}. Best is trial 4 with value: 0.71958.\n",
      "[I 2024-01-16 11:34:52,380] Trial 8 finished with value: 0.73127 and parameters: {'learning_rate': 0.0029343281574839906, 'lambda_l2': 3.959517309253167e-06, 'num_leaves': 106, 'feature_fraction': 0.612171843869192, 'bagging_fraction': 0.8713012403947935, 'bagging_freq': 6, 'min_child_samples': 92}. Best is trial 8 with value: 0.73127.\n",
      "[I 2024-01-16 11:59:50,411] Trial 7 finished with value: 0.73655 and parameters: {'learning_rate': 0.0026390213489019426, 'lambda_l2': 1.7368261396312051e-07, 'num_leaves': 150, 'feature_fraction': 0.583133976318763, 'bagging_fraction': 0.8764816013378802, 'bagging_freq': 4, 'min_child_samples': 31}. Best is trial 7 with value: 0.73655.\n",
      "[W 2024-01-16 12:12:14,422] Trial 1 failed with parameters: {'learning_rate': 0.007530368079971678, 'lambda_l2': 1.8497846986648911, 'num_leaves': 67, 'feature_fraction': 0.8342637501384874, 'bagging_fraction': 0.4240217731164211, 'bagging_freq': 5, 'min_child_samples': 95} because of the following error: The value nan is not acceptable.\n",
      "[W 2024-01-16 12:12:14,485] Trial 1 failed with value nan.\n",
      "[W 2024-01-16 12:31:29,600] Trial 9 failed with parameters: {'learning_rate': 0.004102507396528321, 'lambda_l2': 0.0017398185901976932, 'num_leaves': 109, 'feature_fraction': 0.5806038429702554, 'bagging_fraction': 0.8060900647575717, 'bagging_freq': 5, 'min_child_samples': 38} because of the following error: The value nan is not acceptable.\n",
      "[W 2024-01-16 12:31:29,651] Trial 9 failed with value nan.\n",
      "[I 2024-01-16 12:57:16,322] Trial 10 finished with value: 0.75232 and parameters: {'learning_rate': 0.004190956997745959, 'lambda_l2': 0.7449847005851707, 'num_leaves': 233, 'feature_fraction': 0.9807385309765674, 'bagging_fraction': 0.7258619532752049, 'bagging_freq': 2, 'min_child_samples': 32}. Best is trial 10 with value: 0.75232.\n",
      "[W 2024-01-16 13:15:29,926] Trial 0 failed with parameters: {'learning_rate': 0.003678036370704495, 'lambda_l2': 0.03964482417767048, 'num_leaves': 207, 'feature_fraction': 0.7748992517352857, 'bagging_fraction': 0.46671149622292774, 'bagging_freq': 6, 'min_child_samples': 93} because of the following error: The value nan is not acceptable.\n",
      "[W 2024-01-16 13:15:29,969] Trial 0 failed with value nan.\n",
      "[W 2024-01-16 13:41:18,393] Trial 11 failed with parameters: {'learning_rate': 0.006453358228966541, 'lambda_l2': 2.720577959341261e-06, 'num_leaves': 128, 'feature_fraction': 0.8375235846633073, 'bagging_fraction': 0.566256677373159, 'bagging_freq': 4, 'min_child_samples': 5} because of the following error: The value nan is not acceptable.\n",
      "[W 2024-01-16 13:41:18,496] Trial 11 failed with value nan.\n",
      "[W 2024-01-16 13:49:29,138] Trial 12 failed with parameters: {'learning_rate': 0.004127225629626575, 'lambda_l2': 0.04996831465916086, 'num_leaves': 63, 'feature_fraction': 0.43005761321418284, 'bagging_fraction': 0.9670727500897293, 'bagging_freq': 5, 'min_child_samples': 21} because of the following error: The value nan is not acceptable.\n",
      "[W 2024-01-16 13:49:29,171] Trial 12 failed with value nan.\n",
      "[W 2024-01-16 13:55:43,691] Trial 13 failed with parameters: {'learning_rate': 0.006968680882053513, 'lambda_l2': 0.0002662952817108322, 'num_leaves': 9, 'feature_fraction': 0.8918598589956052, 'bagging_fraction': 0.41527265409997605, 'bagging_freq': 7, 'min_child_samples': 60} because of the following error: The value nan is not acceptable.\n",
      "[W 2024-01-16 13:55:43,730] Trial 13 failed with value nan.\n",
      "[W 2024-01-16 13:56:59,368] Trial 14 failed with parameters: {'learning_rate': 0.000223418595679528, 'lambda_l2': 1.1987679969863385, 'num_leaves': 182, 'feature_fraction': 0.6728570969921649, 'bagging_fraction': 0.4394982908555537, 'bagging_freq': 6, 'min_child_samples': 11} because of the following error: The value nan is not acceptable.\n",
      "[W 2024-01-16 13:56:59,370] Trial 14 failed with value nan.\n"
     ]
    }
   ],
   "source": [
    "lgbm_study = optuna.create_study(direction=\"maximize\", study_name=\"lgbm_trans4_2\", \n",
    "                                 storage='sqlite:///optuna.db', load_if_exists=True)\n",
    "lgbm_study.optimize(objective_lgbm_trans4_2, n_trials=15, n_jobs=-1)"
   ]
  },
  {
   "cell_type": "code",
   "execution_count": 66,
   "id": "e6c99c14-b682-4fdd-a21c-8cd07b3abb10",
   "metadata": {},
   "outputs": [
    {
     "data": {
      "application/vnd.plotly.v1+json": {
       "config": {
        "plotlyServerURL": "https://plot.ly"
       },
       "data": [
        {
         "cliponaxis": false,
         "hovertemplate": [
          "feature_fraction (FloatDistribution): 0.022920800330183004<extra></extra>",
          "bagging_freq (IntDistribution): 0.05184820735704625<extra></extra>",
          "lambda_l2 (FloatDistribution): 0.08050008203063203<extra></extra>",
          "bagging_fraction (FloatDistribution): 0.12009421989212489<extra></extra>",
          "num_leaves (IntDistribution): 0.15039647423979421<extra></extra>",
          "min_child_samples (IntDistribution): 0.18181517604654748<extra></extra>",
          "learning_rate (FloatDistribution): 0.3924250401036723<extra></extra>"
         ],
         "marker": {
          "color": "rgb(66,146,198)"
         },
         "orientation": "h",
         "text": [
          "0.02",
          "0.05",
          "0.08",
          "0.12",
          "0.15",
          "0.18",
          "0.39"
         ],
         "textposition": "outside",
         "type": "bar",
         "x": [
          0.022920800330183004,
          0.05184820735704625,
          0.08050008203063203,
          0.12009421989212489,
          0.15039647423979421,
          0.18181517604654748,
          0.3924250401036723
         ],
         "y": [
          "feature_fraction",
          "bagging_freq",
          "lambda_l2",
          "bagging_fraction",
          "num_leaves",
          "min_child_samples",
          "learning_rate"
         ]
        }
       ],
       "layout": {
        "autosize": true,
        "showlegend": false,
        "template": {
         "data": {
          "bar": [
           {
            "error_x": {
             "color": "#2a3f5f"
            },
            "error_y": {
             "color": "#2a3f5f"
            },
            "marker": {
             "line": {
              "color": "#E5ECF6",
              "width": 0.5
             },
             "pattern": {
              "fillmode": "overlay",
              "size": 10,
              "solidity": 0.2
             }
            },
            "type": "bar"
           }
          ],
          "barpolar": [
           {
            "marker": {
             "line": {
              "color": "#E5ECF6",
              "width": 0.5
             },
             "pattern": {
              "fillmode": "overlay",
              "size": 10,
              "solidity": 0.2
             }
            },
            "type": "barpolar"
           }
          ],
          "carpet": [
           {
            "aaxis": {
             "endlinecolor": "#2a3f5f",
             "gridcolor": "white",
             "linecolor": "white",
             "minorgridcolor": "white",
             "startlinecolor": "#2a3f5f"
            },
            "baxis": {
             "endlinecolor": "#2a3f5f",
             "gridcolor": "white",
             "linecolor": "white",
             "minorgridcolor": "white",
             "startlinecolor": "#2a3f5f"
            },
            "type": "carpet"
           }
          ],
          "choropleth": [
           {
            "colorbar": {
             "outlinewidth": 0,
             "ticks": ""
            },
            "type": "choropleth"
           }
          ],
          "contour": [
           {
            "colorbar": {
             "outlinewidth": 0,
             "ticks": ""
            },
            "colorscale": [
             [
              0,
              "#0d0887"
             ],
             [
              0.1111111111111111,
              "#46039f"
             ],
             [
              0.2222222222222222,
              "#7201a8"
             ],
             [
              0.3333333333333333,
              "#9c179e"
             ],
             [
              0.4444444444444444,
              "#bd3786"
             ],
             [
              0.5555555555555556,
              "#d8576b"
             ],
             [
              0.6666666666666666,
              "#ed7953"
             ],
             [
              0.7777777777777778,
              "#fb9f3a"
             ],
             [
              0.8888888888888888,
              "#fdca26"
             ],
             [
              1,
              "#f0f921"
             ]
            ],
            "type": "contour"
           }
          ],
          "contourcarpet": [
           {
            "colorbar": {
             "outlinewidth": 0,
             "ticks": ""
            },
            "type": "contourcarpet"
           }
          ],
          "heatmap": [
           {
            "colorbar": {
             "outlinewidth": 0,
             "ticks": ""
            },
            "colorscale": [
             [
              0,
              "#0d0887"
             ],
             [
              0.1111111111111111,
              "#46039f"
             ],
             [
              0.2222222222222222,
              "#7201a8"
             ],
             [
              0.3333333333333333,
              "#9c179e"
             ],
             [
              0.4444444444444444,
              "#bd3786"
             ],
             [
              0.5555555555555556,
              "#d8576b"
             ],
             [
              0.6666666666666666,
              "#ed7953"
             ],
             [
              0.7777777777777778,
              "#fb9f3a"
             ],
             [
              0.8888888888888888,
              "#fdca26"
             ],
             [
              1,
              "#f0f921"
             ]
            ],
            "type": "heatmap"
           }
          ],
          "heatmapgl": [
           {
            "colorbar": {
             "outlinewidth": 0,
             "ticks": ""
            },
            "colorscale": [
             [
              0,
              "#0d0887"
             ],
             [
              0.1111111111111111,
              "#46039f"
             ],
             [
              0.2222222222222222,
              "#7201a8"
             ],
             [
              0.3333333333333333,
              "#9c179e"
             ],
             [
              0.4444444444444444,
              "#bd3786"
             ],
             [
              0.5555555555555556,
              "#d8576b"
             ],
             [
              0.6666666666666666,
              "#ed7953"
             ],
             [
              0.7777777777777778,
              "#fb9f3a"
             ],
             [
              0.8888888888888888,
              "#fdca26"
             ],
             [
              1,
              "#f0f921"
             ]
            ],
            "type": "heatmapgl"
           }
          ],
          "histogram": [
           {
            "marker": {
             "pattern": {
              "fillmode": "overlay",
              "size": 10,
              "solidity": 0.2
             }
            },
            "type": "histogram"
           }
          ],
          "histogram2d": [
           {
            "colorbar": {
             "outlinewidth": 0,
             "ticks": ""
            },
            "colorscale": [
             [
              0,
              "#0d0887"
             ],
             [
              0.1111111111111111,
              "#46039f"
             ],
             [
              0.2222222222222222,
              "#7201a8"
             ],
             [
              0.3333333333333333,
              "#9c179e"
             ],
             [
              0.4444444444444444,
              "#bd3786"
             ],
             [
              0.5555555555555556,
              "#d8576b"
             ],
             [
              0.6666666666666666,
              "#ed7953"
             ],
             [
              0.7777777777777778,
              "#fb9f3a"
             ],
             [
              0.8888888888888888,
              "#fdca26"
             ],
             [
              1,
              "#f0f921"
             ]
            ],
            "type": "histogram2d"
           }
          ],
          "histogram2dcontour": [
           {
            "colorbar": {
             "outlinewidth": 0,
             "ticks": ""
            },
            "colorscale": [
             [
              0,
              "#0d0887"
             ],
             [
              0.1111111111111111,
              "#46039f"
             ],
             [
              0.2222222222222222,
              "#7201a8"
             ],
             [
              0.3333333333333333,
              "#9c179e"
             ],
             [
              0.4444444444444444,
              "#bd3786"
             ],
             [
              0.5555555555555556,
              "#d8576b"
             ],
             [
              0.6666666666666666,
              "#ed7953"
             ],
             [
              0.7777777777777778,
              "#fb9f3a"
             ],
             [
              0.8888888888888888,
              "#fdca26"
             ],
             [
              1,
              "#f0f921"
             ]
            ],
            "type": "histogram2dcontour"
           }
          ],
          "mesh3d": [
           {
            "colorbar": {
             "outlinewidth": 0,
             "ticks": ""
            },
            "type": "mesh3d"
           }
          ],
          "parcoords": [
           {
            "line": {
             "colorbar": {
              "outlinewidth": 0,
              "ticks": ""
             }
            },
            "type": "parcoords"
           }
          ],
          "pie": [
           {
            "automargin": true,
            "type": "pie"
           }
          ],
          "scatter": [
           {
            "fillpattern": {
             "fillmode": "overlay",
             "size": 10,
             "solidity": 0.2
            },
            "type": "scatter"
           }
          ],
          "scatter3d": [
           {
            "line": {
             "colorbar": {
              "outlinewidth": 0,
              "ticks": ""
             }
            },
            "marker": {
             "colorbar": {
              "outlinewidth": 0,
              "ticks": ""
             }
            },
            "type": "scatter3d"
           }
          ],
          "scattercarpet": [
           {
            "marker": {
             "colorbar": {
              "outlinewidth": 0,
              "ticks": ""
             }
            },
            "type": "scattercarpet"
           }
          ],
          "scattergeo": [
           {
            "marker": {
             "colorbar": {
              "outlinewidth": 0,
              "ticks": ""
             }
            },
            "type": "scattergeo"
           }
          ],
          "scattergl": [
           {
            "marker": {
             "colorbar": {
              "outlinewidth": 0,
              "ticks": ""
             }
            },
            "type": "scattergl"
           }
          ],
          "scattermapbox": [
           {
            "marker": {
             "colorbar": {
              "outlinewidth": 0,
              "ticks": ""
             }
            },
            "type": "scattermapbox"
           }
          ],
          "scatterpolar": [
           {
            "marker": {
             "colorbar": {
              "outlinewidth": 0,
              "ticks": ""
             }
            },
            "type": "scatterpolar"
           }
          ],
          "scatterpolargl": [
           {
            "marker": {
             "colorbar": {
              "outlinewidth": 0,
              "ticks": ""
             }
            },
            "type": "scatterpolargl"
           }
          ],
          "scatterternary": [
           {
            "marker": {
             "colorbar": {
              "outlinewidth": 0,
              "ticks": ""
             }
            },
            "type": "scatterternary"
           }
          ],
          "surface": [
           {
            "colorbar": {
             "outlinewidth": 0,
             "ticks": ""
            },
            "colorscale": [
             [
              0,
              "#0d0887"
             ],
             [
              0.1111111111111111,
              "#46039f"
             ],
             [
              0.2222222222222222,
              "#7201a8"
             ],
             [
              0.3333333333333333,
              "#9c179e"
             ],
             [
              0.4444444444444444,
              "#bd3786"
             ],
             [
              0.5555555555555556,
              "#d8576b"
             ],
             [
              0.6666666666666666,
              "#ed7953"
             ],
             [
              0.7777777777777778,
              "#fb9f3a"
             ],
             [
              0.8888888888888888,
              "#fdca26"
             ],
             [
              1,
              "#f0f921"
             ]
            ],
            "type": "surface"
           }
          ],
          "table": [
           {
            "cells": {
             "fill": {
              "color": "#EBF0F8"
             },
             "line": {
              "color": "white"
             }
            },
            "header": {
             "fill": {
              "color": "#C8D4E3"
             },
             "line": {
              "color": "white"
             }
            },
            "type": "table"
           }
          ]
         },
         "layout": {
          "annotationdefaults": {
           "arrowcolor": "#2a3f5f",
           "arrowhead": 0,
           "arrowwidth": 1
          },
          "autotypenumbers": "strict",
          "coloraxis": {
           "colorbar": {
            "outlinewidth": 0,
            "ticks": ""
           }
          },
          "colorscale": {
           "diverging": [
            [
             0,
             "#8e0152"
            ],
            [
             0.1,
             "#c51b7d"
            ],
            [
             0.2,
             "#de77ae"
            ],
            [
             0.3,
             "#f1b6da"
            ],
            [
             0.4,
             "#fde0ef"
            ],
            [
             0.5,
             "#f7f7f7"
            ],
            [
             0.6,
             "#e6f5d0"
            ],
            [
             0.7,
             "#b8e186"
            ],
            [
             0.8,
             "#7fbc41"
            ],
            [
             0.9,
             "#4d9221"
            ],
            [
             1,
             "#276419"
            ]
           ],
           "sequential": [
            [
             0,
             "#0d0887"
            ],
            [
             0.1111111111111111,
             "#46039f"
            ],
            [
             0.2222222222222222,
             "#7201a8"
            ],
            [
             0.3333333333333333,
             "#9c179e"
            ],
            [
             0.4444444444444444,
             "#bd3786"
            ],
            [
             0.5555555555555556,
             "#d8576b"
            ],
            [
             0.6666666666666666,
             "#ed7953"
            ],
            [
             0.7777777777777778,
             "#fb9f3a"
            ],
            [
             0.8888888888888888,
             "#fdca26"
            ],
            [
             1,
             "#f0f921"
            ]
           ],
           "sequentialminus": [
            [
             0,
             "#0d0887"
            ],
            [
             0.1111111111111111,
             "#46039f"
            ],
            [
             0.2222222222222222,
             "#7201a8"
            ],
            [
             0.3333333333333333,
             "#9c179e"
            ],
            [
             0.4444444444444444,
             "#bd3786"
            ],
            [
             0.5555555555555556,
             "#d8576b"
            ],
            [
             0.6666666666666666,
             "#ed7953"
            ],
            [
             0.7777777777777778,
             "#fb9f3a"
            ],
            [
             0.8888888888888888,
             "#fdca26"
            ],
            [
             1,
             "#f0f921"
            ]
           ]
          },
          "colorway": [
           "#636efa",
           "#EF553B",
           "#00cc96",
           "#ab63fa",
           "#FFA15A",
           "#19d3f3",
           "#FF6692",
           "#B6E880",
           "#FF97FF",
           "#FECB52"
          ],
          "font": {
           "color": "#2a3f5f"
          },
          "geo": {
           "bgcolor": "white",
           "lakecolor": "white",
           "landcolor": "#E5ECF6",
           "showlakes": true,
           "showland": true,
           "subunitcolor": "white"
          },
          "hoverlabel": {
           "align": "left"
          },
          "hovermode": "closest",
          "mapbox": {
           "style": "light"
          },
          "paper_bgcolor": "white",
          "plot_bgcolor": "#E5ECF6",
          "polar": {
           "angularaxis": {
            "gridcolor": "white",
            "linecolor": "white",
            "ticks": ""
           },
           "bgcolor": "#E5ECF6",
           "radialaxis": {
            "gridcolor": "white",
            "linecolor": "white",
            "ticks": ""
           }
          },
          "scene": {
           "xaxis": {
            "backgroundcolor": "#E5ECF6",
            "gridcolor": "white",
            "gridwidth": 2,
            "linecolor": "white",
            "showbackground": true,
            "ticks": "",
            "zerolinecolor": "white"
           },
           "yaxis": {
            "backgroundcolor": "#E5ECF6",
            "gridcolor": "white",
            "gridwidth": 2,
            "linecolor": "white",
            "showbackground": true,
            "ticks": "",
            "zerolinecolor": "white"
           },
           "zaxis": {
            "backgroundcolor": "#E5ECF6",
            "gridcolor": "white",
            "gridwidth": 2,
            "linecolor": "white",
            "showbackground": true,
            "ticks": "",
            "zerolinecolor": "white"
           }
          },
          "shapedefaults": {
           "line": {
            "color": "#2a3f5f"
           }
          },
          "ternary": {
           "aaxis": {
            "gridcolor": "white",
            "linecolor": "white",
            "ticks": ""
           },
           "baxis": {
            "gridcolor": "white",
            "linecolor": "white",
            "ticks": ""
           },
           "bgcolor": "#E5ECF6",
           "caxis": {
            "gridcolor": "white",
            "linecolor": "white",
            "ticks": ""
           }
          },
          "title": {
           "x": 0.05
          },
          "xaxis": {
           "automargin": true,
           "gridcolor": "white",
           "linecolor": "white",
           "ticks": "",
           "title": {
            "standoff": 15
           },
           "zerolinecolor": "white",
           "zerolinewidth": 2
          },
          "yaxis": {
           "automargin": true,
           "gridcolor": "white",
           "linecolor": "white",
           "ticks": "",
           "title": {
            "standoff": 15
           },
           "zerolinecolor": "white",
           "zerolinewidth": 2
          }
         }
        },
        "title": {
         "text": "Hyperparameter Importances"
        },
        "xaxis": {
         "autorange": true,
         "range": [
          0,
          0.41307898958281297
         ],
         "title": {
          "text": "Importance for Objective Value"
         },
         "type": "linear"
        },
        "yaxis": {
         "autorange": true,
         "range": [
          -0.5,
          6.5
         ],
         "title": {
          "text": "Hyperparameter"
         },
         "type": "category"
        }
       }
      },
      "image/png": "[encoded data removed]",
      "text/html": [
       "<div>                            <div id=\"a8986dd8-6fc7-47be-887d-e28b6f0277f4\" class=\"plotly-graph-div\" style=\"height:525px; width:100%;\"></div>            <script type=\"text/javascript\">                require([\"plotly\"], function(Plotly) {                    window.PLOTLYENV=window.PLOTLYENV || {};                                    if (document.getElementById(\"a8986dd8-6fc7-47be-887d-e28b6f0277f4\")) {                    Plotly.newPlot(                        \"a8986dd8-6fc7-47be-887d-e28b6f0277f4\",                        [{\"cliponaxis\":false,\"hovertemplate\":[\"feature_fraction (FloatDistribution): 0.022920800330183004\\u003cextra\\u003e\\u003c\\u002fextra\\u003e\",\"bagging_freq (IntDistribution): 0.05184820735704625\\u003cextra\\u003e\\u003c\\u002fextra\\u003e\",\"lambda_l2 (FloatDistribution): 0.08050008203063203\\u003cextra\\u003e\\u003c\\u002fextra\\u003e\",\"bagging_fraction (FloatDistribution): 0.12009421989212489\\u003cextra\\u003e\\u003c\\u002fextra\\u003e\",\"num_leaves (IntDistribution): 0.15039647423979421\\u003cextra\\u003e\\u003c\\u002fextra\\u003e\",\"min_child_samples (IntDistribution): 0.18181517604654748\\u003cextra\\u003e\\u003c\\u002fextra\\u003e\",\"learning_rate (FloatDistribution): 0.3924250401036723\\u003cextra\\u003e\\u003c\\u002fextra\\u003e\"],\"marker\":{\"color\":\"rgb(66,146,198)\"},\"orientation\":\"h\",\"text\":[\"0.02\",\"0.05\",\"0.08\",\"0.12\",\"0.15\",\"0.18\",\"0.39\"],\"textposition\":\"outside\",\"x\":[0.022920800330183004,0.05184820735704625,0.08050008203063203,0.12009421989212489,0.15039647423979421,0.18181517604654748,0.3924250401036723],\"y\":[\"feature_fraction\",\"bagging_freq\",\"lambda_l2\",\"bagging_fraction\",\"num_leaves\",\"min_child_samples\",\"learning_rate\"],\"type\":\"bar\"}],                        {\"showlegend\":false,\"title\":{\"text\":\"Hyperparameter Importances\"},\"xaxis\":{\"title\":{\"text\":\"Importance for Objective Value\"}},\"yaxis\":{\"title\":{\"text\":\"Hyperparameter\"}},\"template\":{\"data\":{\"histogram2dcontour\":[{\"type\":\"histogram2dcontour\",\"colorbar\":{\"outlinewidth\":0,\"ticks\":\"\"},\"colorscale\":[[0.0,\"#0d0887\"],[0.1111111111111111,\"#46039f\"],[0.2222222222222222,\"#7201a8\"],[0.3333333333333333,\"#9c179e\"],[0.4444444444444444,\"#bd3786\"],[0.5555555555555556,\"#d8576b\"],[0.6666666666666666,\"#ed7953\"],[0.7777777777777778,\"#fb9f3a\"],[0.8888888888888888,\"#fdca26\"],[1.0,\"#f0f921\"]]}],\"choropleth\":[{\"type\":\"choropleth\",\"colorbar\":{\"outlinewidth\":0,\"ticks\":\"\"}}],\"histogram2d\":[{\"type\":\"histogram2d\",\"colorbar\":{\"outlinewidth\":0,\"ticks\":\"\"},\"colorscale\":[[0.0,\"#0d0887\"],[0.1111111111111111,\"#46039f\"],[0.2222222222222222,\"#7201a8\"],[0.3333333333333333,\"#9c179e\"],[0.4444444444444444,\"#bd3786\"],[0.5555555555555556,\"#d8576b\"],[0.6666666666666666,\"#ed7953\"],[0.7777777777777778,\"#fb9f3a\"],[0.8888888888888888,\"#fdca26\"],[1.0,\"#f0f921\"]]}],\"heatmap\":[{\"type\":\"heatmap\",\"colorbar\":{\"outlinewidth\":0,\"ticks\":\"\"},\"colorscale\":[[0.0,\"#0d0887\"],[0.1111111111111111,\"#46039f\"],[0.2222222222222222,\"#7201a8\"],[0.3333333333333333,\"#9c179e\"],[0.4444444444444444,\"#bd3786\"],[0.5555555555555556,\"#d8576b\"],[0.6666666666666666,\"#ed7953\"],[0.7777777777777778,\"#fb9f3a\"],[0.8888888888888888,\"#fdca26\"],[1.0,\"#f0f921\"]]}],\"heatmapgl\":[{\"type\":\"heatmapgl\",\"colorbar\":{\"outlinewidth\":0,\"ticks\":\"\"},\"colorscale\":[[0.0,\"#0d0887\"],[0.1111111111111111,\"#46039f\"],[0.2222222222222222,\"#7201a8\"],[0.3333333333333333,\"#9c179e\"],[0.4444444444444444,\"#bd3786\"],[0.5555555555555556,\"#d8576b\"],[0.6666666666666666,\"#ed7953\"],[0.7777777777777778,\"#fb9f3a\"],[0.8888888888888888,\"#fdca26\"],[1.0,\"#f0f921\"]]}],\"contourcarpet\":[{\"type\":\"contourcarpet\",\"colorbar\":{\"outlinewidth\":0,\"ticks\":\"\"}}],\"contour\":[{\"type\":\"contour\",\"colorbar\":{\"outlinewidth\":0,\"ticks\":\"\"},\"colorscale\":[[0.0,\"#0d0887\"],[0.1111111111111111,\"#46039f\"],[0.2222222222222222,\"#7201a8\"],[0.3333333333333333,\"#9c179e\"],[0.4444444444444444,\"#bd3786\"],[0.5555555555555556,\"#d8576b\"],[0.6666666666666666,\"#ed7953\"],[0.7777777777777778,\"#fb9f3a\"],[0.8888888888888888,\"#fdca26\"],[1.0,\"#f0f921\"]]}],\"surface\":[{\"type\":\"surface\",\"colorbar\":{\"outlinewidth\":0,\"ticks\":\"\"},\"colorscale\":[[0.0,\"#0d0887\"],[0.1111111111111111,\"#46039f\"],[0.2222222222222222,\"#7201a8\"],[0.3333333333333333,\"#9c179e\"],[0.4444444444444444,\"#bd3786\"],[0.5555555555555556,\"#d8576b\"],[0.6666666666666666,\"#ed7953\"],[0.7777777777777778,\"#fb9f3a\"],[0.8888888888888888,\"#fdca26\"],[1.0,\"#f0f921\"]]}],\"mesh3d\":[{\"type\":\"mesh3d\",\"colorbar\":{\"outlinewidth\":0,\"ticks\":\"\"}}],\"scatter\":[{\"fillpattern\":{\"fillmode\":\"overlay\",\"size\":10,\"solidity\":0.2},\"type\":\"scatter\"}],\"parcoords\":[{\"type\":\"parcoords\",\"line\":{\"colorbar\":{\"outlinewidth\":0,\"ticks\":\"\"}}}],\"scatterpolargl\":[{\"type\":\"scatterpolargl\",\"marker\":{\"colorbar\":{\"outlinewidth\":0,\"ticks\":\"\"}}}],\"bar\":[{\"error_x\":{\"color\":\"#2a3f5f\"},\"error_y\":{\"color\":\"#2a3f5f\"},\"marker\":{\"line\":{\"color\":\"#E5ECF6\",\"width\":0.5},\"pattern\":{\"fillmode\":\"overlay\",\"size\":10,\"solidity\":0.2}},\"type\":\"bar\"}],\"scattergeo\":[{\"type\":\"scattergeo\",\"marker\":{\"colorbar\":{\"outlinewidth\":0,\"ticks\":\"\"}}}],\"scatterpolar\":[{\"type\":\"scatterpolar\",\"marker\":{\"colorbar\":{\"outlinewidth\":0,\"ticks\":\"\"}}}],\"histogram\":[{\"marker\":{\"pattern\":{\"fillmode\":\"overlay\",\"size\":10,\"solidity\":0.2}},\"type\":\"histogram\"}],\"scattergl\":[{\"type\":\"scattergl\",\"marker\":{\"colorbar\":{\"outlinewidth\":0,\"ticks\":\"\"}}}],\"scatter3d\":[{\"type\":\"scatter3d\",\"line\":{\"colorbar\":{\"outlinewidth\":0,\"ticks\":\"\"}},\"marker\":{\"colorbar\":{\"outlinewidth\":0,\"ticks\":\"\"}}}],\"scattermapbox\":[{\"type\":\"scattermapbox\",\"marker\":{\"colorbar\":{\"outlinewidth\":0,\"ticks\":\"\"}}}],\"scatterternary\":[{\"type\":\"scatterternary\",\"marker\":{\"colorbar\":{\"outlinewidth\":0,\"ticks\":\"\"}}}],\"scattercarpet\":[{\"type\":\"scattercarpet\",\"marker\":{\"colorbar\":{\"outlinewidth\":0,\"ticks\":\"\"}}}],\"carpet\":[{\"aaxis\":{\"endlinecolor\":\"#2a3f5f\",\"gridcolor\":\"white\",\"linecolor\":\"white\",\"minorgridcolor\":\"white\",\"startlinecolor\":\"#2a3f5f\"},\"baxis\":{\"endlinecolor\":\"#2a3f5f\",\"gridcolor\":\"white\",\"linecolor\":\"white\",\"minorgridcolor\":\"white\",\"startlinecolor\":\"#2a3f5f\"},\"type\":\"carpet\"}],\"table\":[{\"cells\":{\"fill\":{\"color\":\"#EBF0F8\"},\"line\":{\"color\":\"white\"}},\"header\":{\"fill\":{\"color\":\"#C8D4E3\"},\"line\":{\"color\":\"white\"}},\"type\":\"table\"}],\"barpolar\":[{\"marker\":{\"line\":{\"color\":\"#E5ECF6\",\"width\":0.5},\"pattern\":{\"fillmode\":\"overlay\",\"size\":10,\"solidity\":0.2}},\"type\":\"barpolar\"}],\"pie\":[{\"automargin\":true,\"type\":\"pie\"}]},\"layout\":{\"autotypenumbers\":\"strict\",\"colorway\":[\"#636efa\",\"#EF553B\",\"#00cc96\",\"#ab63fa\",\"#FFA15A\",\"#19d3f3\",\"#FF6692\",\"#B6E880\",\"#FF97FF\",\"#FECB52\"],\"font\":{\"color\":\"#2a3f5f\"},\"hovermode\":\"closest\",\"hoverlabel\":{\"align\":\"left\"},\"paper_bgcolor\":\"white\",\"plot_bgcolor\":\"#E5ECF6\",\"polar\":{\"bgcolor\":\"#E5ECF6\",\"angularaxis\":{\"gridcolor\":\"white\",\"linecolor\":\"white\",\"ticks\":\"\"},\"radialaxis\":{\"gridcolor\":\"white\",\"linecolor\":\"white\",\"ticks\":\"\"}},\"ternary\":{\"bgcolor\":\"#E5ECF6\",\"aaxis\":{\"gridcolor\":\"white\",\"linecolor\":\"white\",\"ticks\":\"\"},\"baxis\":{\"gridcolor\":\"white\",\"linecolor\":\"white\",\"ticks\":\"\"},\"caxis\":{\"gridcolor\":\"white\",\"linecolor\":\"white\",\"ticks\":\"\"}},\"coloraxis\":{\"colorbar\":{\"outlinewidth\":0,\"ticks\":\"\"}},\"colorscale\":{\"sequential\":[[0.0,\"#0d0887\"],[0.1111111111111111,\"#46039f\"],[0.2222222222222222,\"#7201a8\"],[0.3333333333333333,\"#9c179e\"],[0.4444444444444444,\"#bd3786\"],[0.5555555555555556,\"#d8576b\"],[0.6666666666666666,\"#ed7953\"],[0.7777777777777778,\"#fb9f3a\"],[0.8888888888888888,\"#fdca26\"],[1.0,\"#f0f921\"]],\"sequentialminus\":[[0.0,\"#0d0887\"],[0.1111111111111111,\"#46039f\"],[0.2222222222222222,\"#7201a8\"],[0.3333333333333333,\"#9c179e\"],[0.4444444444444444,\"#bd3786\"],[0.5555555555555556,\"#d8576b\"],[0.6666666666666666,\"#ed7953\"],[0.7777777777777778,\"#fb9f3a\"],[0.8888888888888888,\"#fdca26\"],[1.0,\"#f0f921\"]],\"diverging\":[[0,\"#8e0152\"],[0.1,\"#c51b7d\"],[0.2,\"#de77ae\"],[0.3,\"#f1b6da\"],[0.4,\"#fde0ef\"],[0.5,\"#f7f7f7\"],[0.6,\"#e6f5d0\"],[0.7,\"#b8e186\"],[0.8,\"#7fbc41\"],[0.9,\"#4d9221\"],[1,\"#276419\"]]},\"xaxis\":{\"gridcolor\":\"white\",\"linecolor\":\"white\",\"ticks\":\"\",\"title\":{\"standoff\":15},\"zerolinecolor\":\"white\",\"automargin\":true,\"zerolinewidth\":2},\"yaxis\":{\"gridcolor\":\"white\",\"linecolor\":\"white\",\"ticks\":\"\",\"title\":{\"standoff\":15},\"zerolinecolor\":\"white\",\"automargin\":true,\"zerolinewidth\":2},\"scene\":{\"xaxis\":{\"backgroundcolor\":\"#E5ECF6\",\"gridcolor\":\"white\",\"linecolor\":\"white\",\"showbackground\":true,\"ticks\":\"\",\"zerolinecolor\":\"white\",\"gridwidth\":2},\"yaxis\":{\"backgroundcolor\":\"#E5ECF6\",\"gridcolor\":\"white\",\"linecolor\":\"white\",\"showbackground\":true,\"ticks\":\"\",\"zerolinecolor\":\"white\",\"gridwidth\":2},\"zaxis\":{\"backgroundcolor\":\"#E5ECF6\",\"gridcolor\":\"white\",\"linecolor\":\"white\",\"showbackground\":true,\"ticks\":\"\",\"zerolinecolor\":\"white\",\"gridwidth\":2}},\"shapedefaults\":{\"line\":{\"color\":\"#2a3f5f\"}},\"annotationdefaults\":{\"arrowcolor\":\"#2a3f5f\",\"arrowhead\":0,\"arrowwidth\":1},\"geo\":{\"bgcolor\":\"white\",\"landcolor\":\"#E5ECF6\",\"subunitcolor\":\"white\",\"showland\":true,\"showlakes\":true,\"lakecolor\":\"white\"},\"title\":{\"x\":0.05},\"mapbox\":{\"style\":\"light\"}}}},                        {\"responsive\": true}                    ).then(function(){\n",
       "                            \n",
       "var gd = document.getElementById('a8986dd8-6fc7-47be-887d-e28b6f0277f4');\n",
       "var x = new MutationObserver(function (mutations, observer) {{\n",
       "        var display = window.getComputedStyle(gd).display;\n",
       "        if (!display || display === 'none') {{\n",
       "            console.log([gd, 'removed!']);\n",
       "            Plotly.purge(gd);\n",
       "            observer.disconnect();\n",
       "        }}\n",
       "}});\n",
       "\n",
       "// Listen for the removal of the full notebook cells\n",
       "var notebookContainer = gd.closest('#notebook-container');\n",
       "if (notebookContainer) {{\n",
       "    x.observe(notebookContainer, {childList: true});\n",
       "}}\n",
       "\n",
       "// Listen for the clearing of the current output cell\n",
       "var outputEl = gd.closest('.output');\n",
       "if (outputEl) {{\n",
       "    x.observe(outputEl, {childList: true});\n",
       "}}\n",
       "\n",
       "                        })                };                });            </script>        </div>"
      ]
     },
     "metadata": {},
     "output_type": "display_data"
    }
   ],
   "source": [
    "visualize_hyper_params_importance(lgbm_study)"
   ]
  },
  {
   "cell_type": "code",
   "execution_count": 67,
   "id": "541d6e83-6930-45d5-99d3-9de6af3373b3",
   "metadata": {
    "scrolled": true
   },
   "outputs": [
    {
     "data": {
      "application/vnd.jupyter.widget-view+json": {
       "model_id": "edffd3f050e64de6930741143c3224d6",
       "version_major": 2,
       "version_minor": 0
      },
      "text/plain": [
       "  0%|          | 0/1 [00:00<?, ?it/s]"
      ]
     },
     "metadata": {},
     "output_type": "display_data"
    },
    {
     "name": "stdout",
     "output_type": "stream",
     "text": [
      "[LightGBM] [Warning] feature_fraction is set=0.9807385309765674, colsample_bytree=1.0 will be ignored. Current value: feature_fraction=0.9807385309765674\n",
      "[LightGBM] [Warning] lambda_l2 is set=0.7449847005851707, reg_lambda=0.0 will be ignored. Current value: lambda_l2=0.7449847005851707\n",
      "[LightGBM] [Warning] bagging_fraction is set=0.7258619532752049, subsample=1.0 will be ignored. Current value: bagging_fraction=0.7258619532752049\n",
      "[LightGBM] [Warning] bagging_freq is set=2, subsample_freq=0 will be ignored. Current value: bagging_freq=2\n",
      "[LightGBM] [Warning] Categorical features with more bins than the configured maximum bin number found.\n",
      "[LightGBM] [Warning] For categorical features, max_bin and max_bin_by_feature may be ignored with a large number of categories.\n",
      "[LightGBM] [Warning] feature_fraction is set=0.9807385309765674, colsample_bytree=1.0 will be ignored. Current value: feature_fraction=0.9807385309765674\n",
      "[LightGBM] [Warning] lambda_l2 is set=0.7449847005851707, reg_lambda=0.0 will be ignored. Current value: lambda_l2=0.7449847005851707\n",
      "[LightGBM] [Warning] bagging_fraction is set=0.7258619532752049, subsample=1.0 will be ignored. Current value: bagging_fraction=0.7258619532752049\n",
      "[LightGBM] [Warning] bagging_freq is set=2, subsample_freq=0 will be ignored. Current value: bagging_freq=2\n",
      "[LightGBM] [Info] Auto-choosing col-wise multi-threading, the overhead of testing was 0.026211 seconds.\n",
      "You can set `force_col_wise=true` to remove the overhead.\n",
      "[LightGBM] [Info] Total Bins 7312\n",
      "[LightGBM] [Info] Number of data points in the train set: 143571, number of used features: 19\n",
      "[LightGBM] [Info] Start training from score -1.098612\n",
      "[LightGBM] [Info] Start training from score -1.098612\n",
      "[LightGBM] [Info] Start training from score -1.098612\n",
      "[LightGBM] [Warning] feature_fraction is set=0.9807385309765674, colsample_bytree=1.0 will be ignored. Current value: feature_fraction=0.9807385309765674\n",
      "[LightGBM] [Warning] lambda_l2 is set=0.7449847005851707, reg_lambda=0.0 will be ignored. Current value: lambda_l2=0.7449847005851707\n",
      "[LightGBM] [Warning] bagging_fraction is set=0.7258619532752049, subsample=1.0 will be ignored. Current value: bagging_fraction=0.7258619532752049\n",
      "[LightGBM] [Warning] bagging_freq is set=2, subsample_freq=0 will be ignored. Current value: bagging_freq=2\n",
      "[LightGBM] [Warning] Categorical features with more bins than the configured maximum bin number found.\n",
      "[LightGBM] [Warning] For categorical features, max_bin and max_bin_by_feature may be ignored with a large number of categories.\n",
      "[LightGBM] [Warning] feature_fraction is set=0.9807385309765674, colsample_bytree=1.0 will be ignored. Current value: feature_fraction=0.9807385309765674\n",
      "[LightGBM] [Warning] lambda_l2 is set=0.7449847005851707, reg_lambda=0.0 will be ignored. Current value: lambda_l2=0.7449847005851707\n",
      "[LightGBM] [Warning] bagging_fraction is set=0.7258619532752049, subsample=1.0 will be ignored. Current value: bagging_fraction=0.7258619532752049\n",
      "[LightGBM] [Warning] bagging_freq is set=2, subsample_freq=0 will be ignored. Current value: bagging_freq=2\n",
      "[LightGBM] [Info] Auto-choosing col-wise multi-threading, the overhead of testing was 0.019755 seconds.\n",
      "You can set `force_col_wise=true` to remove the overhead.\n",
      "[LightGBM] [Info] Total Bins 7318\n",
      "[LightGBM] [Info] Number of data points in the train set: 143568, number of used features: 19\n",
      "[LightGBM] [Info] Start training from score -1.098612\n",
      "[LightGBM] [Info] Start training from score -1.098612\n",
      "[LightGBM] [Info] Start training from score -1.098612\n",
      "[LightGBM] [Warning] feature_fraction is set=0.9807385309765674, colsample_bytree=1.0 will be ignored. Current value: feature_fraction=0.9807385309765674\n",
      "[LightGBM] [Warning] lambda_l2 is set=0.7449847005851707, reg_lambda=0.0 will be ignored. Current value: lambda_l2=0.7449847005851707\n",
      "[LightGBM] [Warning] bagging_fraction is set=0.7258619532752049, subsample=1.0 will be ignored. Current value: bagging_fraction=0.7258619532752049\n",
      "[LightGBM] [Warning] bagging_freq is set=2, subsample_freq=0 will be ignored. Current value: bagging_freq=2\n",
      "[LightGBM] [Warning] feature_fraction is set=0.9807385309765674, colsample_bytree=1.0 will be ignored. Current value: feature_fraction=0.9807385309765674\n",
      "[LightGBM] [Warning] lambda_l2 is set=0.7449847005851707, reg_lambda=0.0 will be ignored. Current value: lambda_l2=0.7449847005851707\n",
      "[LightGBM] [Warning] bagging_fraction is set=0.7258619532752049, subsample=1.0 will be ignored. Current value: bagging_fraction=0.7258619532752049\n",
      "[LightGBM] [Warning] bagging_freq is set=2, subsample_freq=0 will be ignored. Current value: bagging_freq=2\n",
      "[LightGBM] [Warning] feature_fraction is set=0.9807385309765674, colsample_bytree=1.0 will be ignored. Current value: feature_fraction=0.9807385309765674\n",
      "[LightGBM] [Warning] lambda_l2 is set=0.7449847005851707, reg_lambda=0.0 will be ignored. Current value: lambda_l2=0.7449847005851707\n",
      "[LightGBM] [Warning] bagging_fraction is set=0.7258619532752049, subsample=1.0 will be ignored. Current value: bagging_fraction=0.7258619532752049\n",
      "[LightGBM] [Warning] bagging_freq is set=2, subsample_freq=0 will be ignored. Current value: bagging_freq=2\n",
      "[LightGBM] [Warning] Categorical features with more bins than the configured maximum bin number found.\n",
      "[LightGBM] [Warning] For categorical features, max_bin and max_bin_by_feature may be ignored with a large number of categories.\n",
      "[LightGBM] [Warning] feature_fraction is set=0.9807385309765674, colsample_bytree=1.0 will be ignored. Current value: feature_fraction=0.9807385309765674\n",
      "[LightGBM] [Warning] lambda_l2 is set=0.7449847005851707, reg_lambda=0.0 will be ignored. Current value: lambda_l2=0.7449847005851707\n",
      "[LightGBM] [Warning] bagging_fraction is set=0.7258619532752049, subsample=1.0 will be ignored. Current value: bagging_fraction=0.7258619532752049\n",
      "[LightGBM] [Warning] bagging_freq is set=2, subsample_freq=0 will be ignored. Current value: bagging_freq=2\n",
      "[LightGBM] [Info] Auto-choosing col-wise multi-threading, the overhead of testing was 0.018910 seconds.\n",
      "You can set `force_col_wise=true` to remove the overhead.\n",
      "[LightGBM] [Info] Total Bins 7314\n",
      "[LightGBM] [Info] Number of data points in the train set: 143568, number of used features: 19\n",
      "[LightGBM] [Info] Start training from score -1.098612\n",
      "[LightGBM] [Info] Start training from score -1.098612\n",
      "[LightGBM] [Info] Start training from score -1.098612\n",
      "[LightGBM] [Warning] feature_fraction is set=0.9807385309765674, colsample_bytree=1.0 will be ignored. Current value: feature_fraction=0.9807385309765674\n",
      "[LightGBM] [Warning] lambda_l2 is set=0.7449847005851707, reg_lambda=0.0 will be ignored. Current value: lambda_l2=0.7449847005851707\n",
      "[LightGBM] [Warning] bagging_fraction is set=0.7258619532752049, subsample=1.0 will be ignored. Current value: bagging_fraction=0.7258619532752049\n",
      "[LightGBM] [Warning] bagging_freq is set=2, subsample_freq=0 will be ignored. Current value: bagging_freq=2\n",
      "[LightGBM] [Warning] feature_fraction is set=0.9807385309765674, colsample_bytree=1.0 will be ignored. Current value: feature_fraction=0.9807385309765674\n",
      "[LightGBM] [Warning] lambda_l2 is set=0.7449847005851707, reg_lambda=0.0 will be ignored. Current value: lambda_l2=0.7449847005851707\n",
      "[LightGBM] [Warning] bagging_fraction is set=0.7258619532752049, subsample=1.0 will be ignored. Current value: bagging_fraction=0.7258619532752049\n",
      "[LightGBM] [Warning] bagging_freq is set=2, subsample_freq=0 will be ignored. Current value: bagging_freq=2\n",
      "[LightGBM] [Warning] feature_fraction is set=0.9807385309765674, colsample_bytree=1.0 will be ignored. Current value: feature_fraction=0.9807385309765674\n",
      "[LightGBM] [Warning] lambda_l2 is set=0.7449847005851707, reg_lambda=0.0 will be ignored. Current value: lambda_l2=0.7449847005851707\n",
      "[LightGBM] [Warning] bagging_fraction is set=0.7258619532752049, subsample=1.0 will be ignored. Current value: bagging_fraction=0.7258619532752049\n",
      "[LightGBM] [Warning] bagging_freq is set=2, subsample_freq=0 will be ignored. Current value: bagging_freq=2\n",
      "[LightGBM] [Warning] Categorical features with more bins than the configured maximum bin number found.\n",
      "[LightGBM] [Warning] For categorical features, max_bin and max_bin_by_feature may be ignored with a large number of categories.\n",
      "[LightGBM] [Warning] feature_fraction is set=0.9807385309765674, colsample_bytree=1.0 will be ignored. Current value: feature_fraction=0.9807385309765674\n",
      "[LightGBM] [Warning] lambda_l2 is set=0.7449847005851707, reg_lambda=0.0 will be ignored. Current value: lambda_l2=0.7449847005851707\n",
      "[LightGBM] [Warning] bagging_fraction is set=0.7258619532752049, subsample=1.0 will be ignored. Current value: bagging_fraction=0.7258619532752049\n",
      "[LightGBM] [Warning] bagging_freq is set=2, subsample_freq=0 will be ignored. Current value: bagging_freq=2\n",
      "[LightGBM] [Info] Auto-choosing col-wise multi-threading, the overhead of testing was 0.023263 seconds.\n",
      "You can set `force_col_wise=true` to remove the overhead.\n",
      "[LightGBM] [Info] Total Bins 7317\n",
      "[LightGBM] [Info] Number of data points in the train set: 143571, number of used features: 19\n",
      "[LightGBM] [Info] Start training from score -1.098612\n",
      "[LightGBM] [Info] Start training from score -1.098612\n",
      "[LightGBM] [Info] Start training from score -1.098612\n",
      "[LightGBM] [Warning] feature_fraction is set=0.9807385309765674, colsample_bytree=1.0 will be ignored. Current value: feature_fraction=0.9807385309765674\n",
      "[LightGBM] [Warning] lambda_l2 is set=0.7449847005851707, reg_lambda=0.0 will be ignored. Current value: lambda_l2=0.7449847005851707\n",
      "[LightGBM] [Warning] bagging_fraction is set=0.7258619532752049, subsample=1.0 will be ignored. Current value: bagging_fraction=0.7258619532752049\n",
      "[LightGBM] [Warning] bagging_freq is set=2, subsample_freq=0 will be ignored. Current value: bagging_freq=2\n",
      "[LightGBM] [Warning] feature_fraction is set=0.9807385309765674, colsample_bytree=1.0 will be ignored. Current value: feature_fraction=0.9807385309765674\n",
      "[LightGBM] [Warning] lambda_l2 is set=0.7449847005851707, reg_lambda=0.0 will be ignored. Current value: lambda_l2=0.7449847005851707\n",
      "[LightGBM] [Warning] bagging_fraction is set=0.7258619532752049, subsample=1.0 will be ignored. Current value: bagging_fraction=0.7258619532752049\n",
      "[LightGBM] [Warning] bagging_freq is set=2, subsample_freq=0 will be ignored. Current value: bagging_freq=2\n",
      "[LightGBM] [Warning] feature_fraction is set=0.9807385309765674, colsample_bytree=1.0 will be ignored. Current value: feature_fraction=0.9807385309765674\n",
      "[LightGBM] [Warning] lambda_l2 is set=0.7449847005851707, reg_lambda=0.0 will be ignored. Current value: lambda_l2=0.7449847005851707\n",
      "[LightGBM] [Warning] bagging_fraction is set=0.7258619532752049, subsample=1.0 will be ignored. Current value: bagging_fraction=0.7258619532752049\n",
      "[LightGBM] [Warning] bagging_freq is set=2, subsample_freq=0 will be ignored. Current value: bagging_freq=2\n",
      "[LightGBM] [Warning] Categorical features with more bins than the configured maximum bin number found.\n",
      "[LightGBM] [Warning] For categorical features, max_bin and max_bin_by_feature may be ignored with a large number of categories.\n",
      "[LightGBM] [Warning] feature_fraction is set=0.9807385309765674, colsample_bytree=1.0 will be ignored. Current value: feature_fraction=0.9807385309765674\n",
      "[LightGBM] [Warning] lambda_l2 is set=0.7449847005851707, reg_lambda=0.0 will be ignored. Current value: lambda_l2=0.7449847005851707\n",
      "[LightGBM] [Warning] bagging_fraction is set=0.7258619532752049, subsample=1.0 will be ignored. Current value: bagging_fraction=0.7258619532752049\n",
      "[LightGBM] [Warning] bagging_freq is set=2, subsample_freq=0 will be ignored. Current value: bagging_freq=2\n",
      "[LightGBM] [Info] Auto-choosing col-wise multi-threading, the overhead of testing was 0.017534 seconds.\n",
      "You can set `force_col_wise=true` to remove the overhead.\n",
      "[LightGBM] [Info] Total Bins 7315\n",
      "[LightGBM] [Info] Number of data points in the train set: 143571, number of used features: 19\n",
      "[LightGBM] [Info] Start training from score -1.098612\n",
      "[LightGBM] [Info] Start training from score -1.098612\n",
      "[LightGBM] [Info] Start training from score -1.098612\n",
      "[LightGBM] [Warning] feature_fraction is set=0.9807385309765674, colsample_bytree=1.0 will be ignored. Current value: feature_fraction=0.9807385309765674\n",
      "[LightGBM] [Warning] lambda_l2 is set=0.7449847005851707, reg_lambda=0.0 will be ignored. Current value: lambda_l2=0.7449847005851707\n",
      "[LightGBM] [Warning] bagging_fraction is set=0.7258619532752049, subsample=1.0 will be ignored. Current value: bagging_fraction=0.7258619532752049\n",
      "[LightGBM] [Warning] bagging_freq is set=2, subsample_freq=0 will be ignored. Current value: bagging_freq=2\n",
      "[LightGBM] [Warning] feature_fraction is set=0.9807385309765674, colsample_bytree=1.0 will be ignored. Current value: feature_fraction=0.9807385309765674\n",
      "[LightGBM] [Warning] lambda_l2 is set=0.7449847005851707, reg_lambda=0.0 will be ignored. Current value: lambda_l2=0.7449847005851707\n",
      "[LightGBM] [Warning] bagging_fraction is set=0.7258619532752049, subsample=1.0 will be ignored. Current value: bagging_fraction=0.7258619532752049\n",
      "[LightGBM] [Warning] bagging_freq is set=2, subsample_freq=0 will be ignored. Current value: bagging_freq=2\n",
      "[LightGBM] [Warning] feature_fraction is set=0.9807385309765674, colsample_bytree=1.0 will be ignored. Current value: feature_fraction=0.9807385309765674\n",
      "[LightGBM] [Warning] lambda_l2 is set=0.7449847005851707, reg_lambda=0.0 will be ignored. Current value: lambda_l2=0.7449847005851707\n",
      "[LightGBM] [Warning] bagging_fraction is set=0.7258619532752049, subsample=1.0 will be ignored. Current value: bagging_fraction=0.7258619532752049\n",
      "[LightGBM] [Warning] bagging_freq is set=2, subsample_freq=0 will be ignored. Current value: bagging_freq=2\n",
      "[LightGBM] [Warning] Categorical features with more bins than the configured maximum bin number found.\n",
      "[LightGBM] [Warning] For categorical features, max_bin and max_bin_by_feature may be ignored with a large number of categories.\n",
      "[LightGBM] [Warning] feature_fraction is set=0.9807385309765674, colsample_bytree=1.0 will be ignored. Current value: feature_fraction=0.9807385309765674\n",
      "[LightGBM] [Warning] lambda_l2 is set=0.7449847005851707, reg_lambda=0.0 will be ignored. Current value: lambda_l2=0.7449847005851707\n",
      "[LightGBM] [Warning] bagging_fraction is set=0.7258619532752049, subsample=1.0 will be ignored. Current value: bagging_fraction=0.7258619532752049\n",
      "[LightGBM] [Warning] bagging_freq is set=2, subsample_freq=0 will be ignored. Current value: bagging_freq=2\n",
      "[LightGBM] [Info] Auto-choosing col-wise multi-threading, the overhead of testing was 0.015510 seconds.\n",
      "You can set `force_col_wise=true` to remove the overhead.\n",
      "[LightGBM] [Info] Total Bins 7312\n",
      "[LightGBM] [Info] Number of data points in the train set: 143571, number of used features: 19\n",
      "[LightGBM] [Info] Start training from score -1.098612\n",
      "[LightGBM] [Info] Start training from score -1.098612\n",
      "[LightGBM] [Info] Start training from score -1.098612\n",
      "[LightGBM] [Warning] feature_fraction is set=0.9807385309765674, colsample_bytree=1.0 will be ignored. Current value: feature_fraction=0.9807385309765674\n",
      "[LightGBM] [Warning] lambda_l2 is set=0.7449847005851707, reg_lambda=0.0 will be ignored. Current value: lambda_l2=0.7449847005851707\n",
      "[LightGBM] [Warning] bagging_fraction is set=0.7258619532752049, subsample=1.0 will be ignored. Current value: bagging_fraction=0.7258619532752049\n",
      "[LightGBM] [Warning] bagging_freq is set=2, subsample_freq=0 will be ignored. Current value: bagging_freq=2\n",
      "[LightGBM] [Warning] feature_fraction is set=0.9807385309765674, colsample_bytree=1.0 will be ignored. Current value: feature_fraction=0.9807385309765674\n",
      "[LightGBM] [Warning] lambda_l2 is set=0.7449847005851707, reg_lambda=0.0 will be ignored. Current value: lambda_l2=0.7449847005851707\n",
      "[LightGBM] [Warning] bagging_fraction is set=0.7258619532752049, subsample=1.0 will be ignored. Current value: bagging_fraction=0.7258619532752049\n",
      "[LightGBM] [Warning] bagging_freq is set=2, subsample_freq=0 will be ignored. Current value: bagging_freq=2\n",
      "[LightGBM] [Warning] feature_fraction is set=0.9807385309765674, colsample_bytree=1.0 will be ignored. Current value: feature_fraction=0.9807385309765674\n",
      "[LightGBM] [Warning] lambda_l2 is set=0.7449847005851707, reg_lambda=0.0 will be ignored. Current value: lambda_l2=0.7449847005851707\n",
      "[LightGBM] [Warning] bagging_fraction is set=0.7258619532752049, subsample=1.0 will be ignored. Current value: bagging_fraction=0.7258619532752049\n",
      "[LightGBM] [Warning] bagging_freq is set=2, subsample_freq=0 will be ignored. Current value: bagging_freq=2\n",
      "[LightGBM] [Warning] Categorical features with more bins than the configured maximum bin number found.\n",
      "[LightGBM] [Warning] For categorical features, max_bin and max_bin_by_feature may be ignored with a large number of categories.\n",
      "[LightGBM] [Warning] feature_fraction is set=0.9807385309765674, colsample_bytree=1.0 will be ignored. Current value: feature_fraction=0.9807385309765674\n",
      "[LightGBM] [Warning] lambda_l2 is set=0.7449847005851707, reg_lambda=0.0 will be ignored. Current value: lambda_l2=0.7449847005851707\n",
      "[LightGBM] [Warning] bagging_fraction is set=0.7258619532752049, subsample=1.0 will be ignored. Current value: bagging_fraction=0.7258619532752049\n",
      "[LightGBM] [Warning] bagging_freq is set=2, subsample_freq=0 will be ignored. Current value: bagging_freq=2\n",
      "[LightGBM] [Info] Auto-choosing col-wise multi-threading, the overhead of testing was 0.013258 seconds.\n",
      "You can set `force_col_wise=true` to remove the overhead.\n",
      "[LightGBM] [Info] Total Bins 7313\n",
      "[LightGBM] [Info] Number of data points in the train set: 143571, number of used features: 19\n",
      "[LightGBM] [Info] Start training from score -1.098612\n",
      "[LightGBM] [Info] Start training from score -1.098612\n",
      "[LightGBM] [Info] Start training from score -1.098612\n",
      "[LightGBM] [Warning] feature_fraction is set=0.9807385309765674, colsample_bytree=1.0 will be ignored. Current value: feature_fraction=0.9807385309765674\n",
      "[LightGBM] [Warning] lambda_l2 is set=0.7449847005851707, reg_lambda=0.0 will be ignored. Current value: lambda_l2=0.7449847005851707\n",
      "[LightGBM] [Warning] bagging_fraction is set=0.7258619532752049, subsample=1.0 will be ignored. Current value: bagging_fraction=0.7258619532752049\n",
      "[LightGBM] [Warning] bagging_freq is set=2, subsample_freq=0 will be ignored. Current value: bagging_freq=2\n",
      "[LightGBM] [Warning] feature_fraction is set=0.9807385309765674, colsample_bytree=1.0 will be ignored. Current value: feature_fraction=0.9807385309765674\n",
      "[LightGBM] [Warning] lambda_l2 is set=0.7449847005851707, reg_lambda=0.0 will be ignored. Current value: lambda_l2=0.7449847005851707\n",
      "[LightGBM] [Warning] bagging_fraction is set=0.7258619532752049, subsample=1.0 will be ignored. Current value: bagging_fraction=0.7258619532752049\n",
      "[LightGBM] [Warning] bagging_freq is set=2, subsample_freq=0 will be ignored. Current value: bagging_freq=2\n",
      "[LightGBM] [Warning] feature_fraction is set=0.9807385309765674, colsample_bytree=1.0 will be ignored. Current value: feature_fraction=0.9807385309765674\n",
      "[LightGBM] [Warning] lambda_l2 is set=0.7449847005851707, reg_lambda=0.0 will be ignored. Current value: lambda_l2=0.7449847005851707\n",
      "[LightGBM] [Warning] bagging_fraction is set=0.7258619532752049, subsample=1.0 will be ignored. Current value: bagging_fraction=0.7258619532752049\n",
      "[LightGBM] [Warning] bagging_freq is set=2, subsample_freq=0 will be ignored. Current value: bagging_freq=2\n",
      "[LightGBM] [Warning] Categorical features with more bins than the configured maximum bin number found.\n",
      "[LightGBM] [Warning] For categorical features, max_bin and max_bin_by_feature may be ignored with a large number of categories.\n",
      "[LightGBM] [Warning] feature_fraction is set=0.9807385309765674, colsample_bytree=1.0 will be ignored. Current value: feature_fraction=0.9807385309765674\n",
      "[LightGBM] [Warning] lambda_l2 is set=0.7449847005851707, reg_lambda=0.0 will be ignored. Current value: lambda_l2=0.7449847005851707\n",
      "[LightGBM] [Warning] bagging_fraction is set=0.7258619532752049, subsample=1.0 will be ignored. Current value: bagging_fraction=0.7258619532752049\n",
      "[LightGBM] [Warning] bagging_freq is set=2, subsample_freq=0 will be ignored. Current value: bagging_freq=2\n",
      "[LightGBM] [Info] Auto-choosing col-wise multi-threading, the overhead of testing was 0.014050 seconds.\n",
      "You can set `force_col_wise=true` to remove the overhead.\n",
      "[LightGBM] [Info] Total Bins 7316\n",
      "[LightGBM] [Info] Number of data points in the train set: 143571, number of used features: 19\n",
      "[LightGBM] [Info] Start training from score -1.098612\n",
      "[LightGBM] [Info] Start training from score -1.098612\n",
      "[LightGBM] [Info] Start training from score -1.098612\n",
      "[LightGBM] [Warning] feature_fraction is set=0.9807385309765674, colsample_bytree=1.0 will be ignored. Current value: feature_fraction=0.9807385309765674\n",
      "[LightGBM] [Warning] lambda_l2 is set=0.7449847005851707, reg_lambda=0.0 will be ignored. Current value: lambda_l2=0.7449847005851707\n",
      "[LightGBM] [Warning] bagging_fraction is set=0.7258619532752049, subsample=1.0 will be ignored. Current value: bagging_fraction=0.7258619532752049\n",
      "[LightGBM] [Warning] bagging_freq is set=2, subsample_freq=0 will be ignored. Current value: bagging_freq=2\n",
      "[LightGBM] [Warning] feature_fraction is set=0.9807385309765674, colsample_bytree=1.0 will be ignored. Current value: feature_fraction=0.9807385309765674\n",
      "[LightGBM] [Warning] lambda_l2 is set=0.7449847005851707, reg_lambda=0.0 will be ignored. Current value: lambda_l2=0.7449847005851707\n",
      "[LightGBM] [Warning] bagging_fraction is set=0.7258619532752049, subsample=1.0 will be ignored. Current value: bagging_fraction=0.7258619532752049\n",
      "[LightGBM] [Warning] bagging_freq is set=2, subsample_freq=0 will be ignored. Current value: bagging_freq=2\n",
      "[LightGBM] [Warning] feature_fraction is set=0.9807385309765674, colsample_bytree=1.0 will be ignored. Current value: feature_fraction=0.9807385309765674\n",
      "[LightGBM] [Warning] lambda_l2 is set=0.7449847005851707, reg_lambda=0.0 will be ignored. Current value: lambda_l2=0.7449847005851707\n",
      "[LightGBM] [Warning] bagging_fraction is set=0.7258619532752049, subsample=1.0 will be ignored. Current value: bagging_fraction=0.7258619532752049\n",
      "[LightGBM] [Warning] bagging_freq is set=2, subsample_freq=0 will be ignored. Current value: bagging_freq=2\n",
      "[LightGBM] [Warning] Categorical features with more bins than the configured maximum bin number found.\n",
      "[LightGBM] [Warning] For categorical features, max_bin and max_bin_by_feature may be ignored with a large number of categories.\n",
      "[LightGBM] [Warning] feature_fraction is set=0.9807385309765674, colsample_bytree=1.0 will be ignored. Current value: feature_fraction=0.9807385309765674\n",
      "[LightGBM] [Warning] lambda_l2 is set=0.7449847005851707, reg_lambda=0.0 will be ignored. Current value: lambda_l2=0.7449847005851707\n",
      "[LightGBM] [Warning] bagging_fraction is set=0.7258619532752049, subsample=1.0 will be ignored. Current value: bagging_fraction=0.7258619532752049\n",
      "[LightGBM] [Warning] bagging_freq is set=2, subsample_freq=0 will be ignored. Current value: bagging_freq=2\n",
      "[LightGBM] [Info] Auto-choosing col-wise multi-threading, the overhead of testing was 0.016393 seconds.\n",
      "You can set `force_col_wise=true` to remove the overhead.\n",
      "[LightGBM] [Info] Total Bins 7303\n",
      "[LightGBM] [Info] Number of data points in the train set: 143571, number of used features: 19\n",
      "[LightGBM] [Info] Start training from score -1.098612\n",
      "[LightGBM] [Info] Start training from score -1.098612\n",
      "[LightGBM] [Info] Start training from score -1.098612\n",
      "[LightGBM] [Warning] feature_fraction is set=0.9807385309765674, colsample_bytree=1.0 will be ignored. Current value: feature_fraction=0.9807385309765674\n",
      "[LightGBM] [Warning] lambda_l2 is set=0.7449847005851707, reg_lambda=0.0 will be ignored. Current value: lambda_l2=0.7449847005851707\n",
      "[LightGBM] [Warning] bagging_fraction is set=0.7258619532752049, subsample=1.0 will be ignored. Current value: bagging_fraction=0.7258619532752049\n",
      "[LightGBM] [Warning] bagging_freq is set=2, subsample_freq=0 will be ignored. Current value: bagging_freq=2\n",
      "[LightGBM] [Warning] feature_fraction is set=0.9807385309765674, colsample_bytree=1.0 will be ignored. Current value: feature_fraction=0.9807385309765674\n",
      "[LightGBM] [Warning] lambda_l2 is set=0.7449847005851707, reg_lambda=0.0 will be ignored. Current value: lambda_l2=0.7449847005851707\n",
      "[LightGBM] [Warning] bagging_fraction is set=0.7258619532752049, subsample=1.0 will be ignored. Current value: bagging_fraction=0.7258619532752049\n",
      "[LightGBM] [Warning] bagging_freq is set=2, subsample_freq=0 will be ignored. Current value: bagging_freq=2\n",
      "[LightGBM] [Warning] feature_fraction is set=0.9807385309765674, colsample_bytree=1.0 will be ignored. Current value: feature_fraction=0.9807385309765674\n",
      "[LightGBM] [Warning] lambda_l2 is set=0.7449847005851707, reg_lambda=0.0 will be ignored. Current value: lambda_l2=0.7449847005851707\n",
      "[LightGBM] [Warning] bagging_fraction is set=0.7258619532752049, subsample=1.0 will be ignored. Current value: bagging_fraction=0.7258619532752049\n",
      "[LightGBM] [Warning] bagging_freq is set=2, subsample_freq=0 will be ignored. Current value: bagging_freq=2\n",
      "[LightGBM] [Warning] Categorical features with more bins than the configured maximum bin number found.\n",
      "[LightGBM] [Warning] For categorical features, max_bin and max_bin_by_feature may be ignored with a large number of categories.\n",
      "[LightGBM] [Warning] feature_fraction is set=0.9807385309765674, colsample_bytree=1.0 will be ignored. Current value: feature_fraction=0.9807385309765674\n",
      "[LightGBM] [Warning] lambda_l2 is set=0.7449847005851707, reg_lambda=0.0 will be ignored. Current value: lambda_l2=0.7449847005851707\n",
      "[LightGBM] [Warning] bagging_fraction is set=0.7258619532752049, subsample=1.0 will be ignored. Current value: bagging_fraction=0.7258619532752049\n",
      "[LightGBM] [Warning] bagging_freq is set=2, subsample_freq=0 will be ignored. Current value: bagging_freq=2\n",
      "[LightGBM] [Info] Auto-choosing col-wise multi-threading, the overhead of testing was 0.012017 seconds.\n",
      "You can set `force_col_wise=true` to remove the overhead.\n",
      "[LightGBM] [Info] Total Bins 7310\n",
      "[LightGBM] [Info] Number of data points in the train set: 143568, number of used features: 19\n",
      "[LightGBM] [Info] Start training from score -1.098612\n",
      "[LightGBM] [Info] Start training from score -1.098612\n",
      "[LightGBM] [Info] Start training from score -1.098612\n",
      "[LightGBM] [Warning] feature_fraction is set=0.9807385309765674, colsample_bytree=1.0 will be ignored. Current value: feature_fraction=0.9807385309765674\n",
      "[LightGBM] [Warning] lambda_l2 is set=0.7449847005851707, reg_lambda=0.0 will be ignored. Current value: lambda_l2=0.7449847005851707\n",
      "[LightGBM] [Warning] bagging_fraction is set=0.7258619532752049, subsample=1.0 will be ignored. Current value: bagging_fraction=0.7258619532752049\n",
      "[LightGBM] [Warning] bagging_freq is set=2, subsample_freq=0 will be ignored. Current value: bagging_freq=2\n",
      "[LightGBM] [Warning] feature_fraction is set=0.9807385309765674, colsample_bytree=1.0 will be ignored. Current value: feature_fraction=0.9807385309765674\n",
      "[LightGBM] [Warning] lambda_l2 is set=0.7449847005851707, reg_lambda=0.0 will be ignored. Current value: lambda_l2=0.7449847005851707\n",
      "[LightGBM] [Warning] bagging_fraction is set=0.7258619532752049, subsample=1.0 will be ignored. Current value: bagging_fraction=0.7258619532752049\n",
      "[LightGBM] [Warning] bagging_freq is set=2, subsample_freq=0 will be ignored. Current value: bagging_freq=2\n",
      "[LightGBM] [Warning] feature_fraction is set=0.9807385309765674, colsample_bytree=1.0 will be ignored. Current value: feature_fraction=0.9807385309765674\n",
      "[LightGBM] [Warning] lambda_l2 is set=0.7449847005851707, reg_lambda=0.0 will be ignored. Current value: lambda_l2=0.7449847005851707\n",
      "[LightGBM] [Warning] bagging_fraction is set=0.7258619532752049, subsample=1.0 will be ignored. Current value: bagging_fraction=0.7258619532752049\n",
      "[LightGBM] [Warning] bagging_freq is set=2, subsample_freq=0 will be ignored. Current value: bagging_freq=2\n",
      "[LightGBM] [Warning] Categorical features with more bins than the configured maximum bin number found.\n",
      "[LightGBM] [Warning] For categorical features, max_bin and max_bin_by_feature may be ignored with a large number of categories.\n",
      "[LightGBM] [Warning] feature_fraction is set=0.9807385309765674, colsample_bytree=1.0 will be ignored. Current value: feature_fraction=0.9807385309765674\n",
      "[LightGBM] [Warning] lambda_l2 is set=0.7449847005851707, reg_lambda=0.0 will be ignored. Current value: lambda_l2=0.7449847005851707\n",
      "[LightGBM] [Warning] bagging_fraction is set=0.7258619532752049, subsample=1.0 will be ignored. Current value: bagging_fraction=0.7258619532752049\n",
      "[LightGBM] [Warning] bagging_freq is set=2, subsample_freq=0 will be ignored. Current value: bagging_freq=2\n",
      "[LightGBM] [Info] Auto-choosing col-wise multi-threading, the overhead of testing was 0.015746 seconds.\n",
      "You can set `force_col_wise=true` to remove the overhead.\n",
      "[LightGBM] [Info] Total Bins 7316\n",
      "[LightGBM] [Info] Number of data points in the train set: 143568, number of used features: 19\n",
      "[LightGBM] [Info] Start training from score -1.098612\n",
      "[LightGBM] [Info] Start training from score -1.098612\n",
      "[LightGBM] [Info] Start training from score -1.098612\n",
      "[LightGBM] [Warning] feature_fraction is set=0.9807385309765674, colsample_bytree=1.0 will be ignored. Current value: feature_fraction=0.9807385309765674\n",
      "[LightGBM] [Warning] lambda_l2 is set=0.7449847005851707, reg_lambda=0.0 will be ignored. Current value: lambda_l2=0.7449847005851707\n",
      "[LightGBM] [Warning] bagging_fraction is set=0.7258619532752049, subsample=1.0 will be ignored. Current value: bagging_fraction=0.7258619532752049\n",
      "[LightGBM] [Warning] bagging_freq is set=2, subsample_freq=0 will be ignored. Current value: bagging_freq=2\n",
      "[LightGBM] [Warning] feature_fraction is set=0.9807385309765674, colsample_bytree=1.0 will be ignored. Current value: feature_fraction=0.9807385309765674\n",
      "[LightGBM] [Warning] lambda_l2 is set=0.7449847005851707, reg_lambda=0.0 will be ignored. Current value: lambda_l2=0.7449847005851707\n",
      "[LightGBM] [Warning] bagging_fraction is set=0.7258619532752049, subsample=1.0 will be ignored. Current value: bagging_fraction=0.7258619532752049\n",
      "[LightGBM] [Warning] bagging_freq is set=2, subsample_freq=0 will be ignored. Current value: bagging_freq=2\n",
      "[LightGBM] [Warning] feature_fraction is set=0.9807385309765674, colsample_bytree=1.0 will be ignored. Current value: feature_fraction=0.9807385309765674\n",
      "[LightGBM] [Warning] lambda_l2 is set=0.7449847005851707, reg_lambda=0.0 will be ignored. Current value: lambda_l2=0.7449847005851707\n",
      "[LightGBM] [Warning] bagging_fraction is set=0.7258619532752049, subsample=1.0 will be ignored. Current value: bagging_fraction=0.7258619532752049\n",
      "[LightGBM] [Warning] bagging_freq is set=2, subsample_freq=0 will be ignored. Current value: bagging_freq=2\n",
      "[LightGBM] [Warning] feature_fraction is set=0.9807385309765674, colsample_bytree=1.0 will be ignored. Current value: feature_fraction=0.9807385309765674\n",
      "[LightGBM] [Warning] lambda_l2 is set=0.7449847005851707, reg_lambda=0.0 will be ignored. Current value: lambda_l2=0.7449847005851707\n",
      "[LightGBM] [Warning] bagging_fraction is set=0.7258619532752049, subsample=1.0 will be ignored. Current value: bagging_fraction=0.7258619532752049\n",
      "[LightGBM] [Warning] bagging_freq is set=2, subsample_freq=0 will be ignored. Current value: bagging_freq=2\n"
     ]
    },
    {
     "name": "stderr",
     "output_type": "stream",
     "text": [
      "Successfully registered model 'lgbm_best'.\n",
      "2024/01/16 14:28:33 INFO mlflow.tracking._model_registry.client: Waiting up to 300 seconds for model version to finish creation. Model name: lgbm_best, version 1\n",
      "Created version '1' of model 'lgbm_best'.\n"
     ]
    }
   ],
   "source": [
    "run_experiment(\"fine_tunned_models\", \n",
    "               X_train, y_train, X_test, y_test, \n",
    "               models={'lgbm_best': lgbm_baseline_models2['lgbm_baseline_trans4_2']},\n",
    "               model_params=lgbm_study.best_params,\n",
    "               cv=10, register_models=True\n",
    "              )"
   ]
  },
  {
   "cell_type": "code",
   "execution_count": null,
   "id": "0a826472-bba6-4340-b8d7-bb27a270a6cd",
   "metadata": {},
   "outputs": [],
   "source": []
  },
  {
   "cell_type": "code",
   "execution_count": 68,
   "id": "26ed7ff9-cef8-434d-ad6b-312116f54035",
   "metadata": {},
   "outputs": [],
   "source": [
    "champ_pipeline = rf_baseline_models['rf_baseline_trans2_2']"
   ]
  },
  {
   "cell_type": "code",
   "execution_count": 69,
   "id": "b91126fa-1365-4be4-ae10-f092eb260759",
   "metadata": {},
   "outputs": [],
   "source": [
    "preprocessor = champ_pipeline[0]"
   ]
  },
  {
   "cell_type": "code",
   "execution_count": 70,
   "id": "d570e56e-ab94-41f0-b5b3-19493bcdaa1c",
   "metadata": {},
   "outputs": [],
   "source": [
    "rf_best_model = champ_pipeline[-1].set_params(**rf_study.best_params)"
   ]
  },
  {
   "cell_type": "code",
   "execution_count": 72,
   "id": "3d8eb4a5-c5e9-41cb-b23d-13b59aae2891",
   "metadata": {},
   "outputs": [],
   "source": [
    "X_train_transformed = preprocessor.fit_transform(X_train, y_train)\n",
    "X_test_transformed = preprocessor.fit_transform(X_test, y_test)"
   ]
  },
  {
   "cell_type": "code",
   "execution_count": null,
   "id": "17bfccc8-86f6-4b56-9574-b402f5346b25",
   "metadata": {},
   "outputs": [],
   "source": []
  },
  {
   "cell_type": "code",
   "execution_count": 73,
   "id": "3395f5ae-8751-4232-8c2e-93b708106109",
   "metadata": {},
   "outputs": [],
   "source": [
    "explainer = shap.KernelExplainer(rf_best_model.predict, shap.sample(X_train_transformed, 100))"
   ]
  },
  {
   "cell_type": "code",
   "execution_count": 74,
   "id": "5811152c-4c9d-4721-88c2-7f3d213aca2c",
   "metadata": {},
   "outputs": [
    {
     "data": {
      "application/vnd.jupyter.widget-view+json": {
       "model_id": "293acea7289f4cd4b6577637bb1cd458",
       "version_major": 2,
       "version_minor": 0
      },
      "text/plain": [
       "  0%|          | 0/100 [00:00<?, ?it/s]"
      ]
     },
     "metadata": {},
     "output_type": "display_data"
    }
   ],
   "source": [
    "shap_values = explainer.shap_values(shap.sample(X_test_transformed, 100))"
   ]
  },
  {
   "cell_type": "code",
   "execution_count": 98,
   "id": "58774c27-f1a7-41c2-bae3-57be9e0e5c18",
   "metadata": {},
   "outputs": [
    {
     "data": {
      "image/png": "[encoded data removed]",
      "text/plain": [
       "<Figure size 800x950 with 2 Axes>"
      ]
     },
     "metadata": {},
     "output_type": "display_data"
    }
   ],
   "source": [
    "shap.summary_plot(shap_values, shap.sample(X_test_transformed, 100))\n",
    "plt.show()"
   ]
  },
  {
   "cell_type": "code",
   "execution_count": null,
   "id": "5eee2480-7dc6-4533-ab36-95b91e85a8f8",
   "metadata": {},
   "outputs": [],
   "source": []
  },
  {
   "cell_type": "code",
   "execution_count": null,
   "id": "85b8c0b2-1e3a-4396-8393-3e103131f090",
   "metadata": {},
   "outputs": [],
   "source": []
  },
  {
   "cell_type": "code",
   "execution_count": null,
   "id": "9abbfb62-ea13-4b10-a523-f33660f5f75c",
   "metadata": {},
   "outputs": [],
   "source": []
  },
  {
   "cell_type": "code",
   "execution_count": null,
   "id": "ed968488-9026-4def-b09f-f5ad1ffa8f61",
   "metadata": {},
   "outputs": [],
   "source": []
  },
  {
   "cell_type": "code",
   "execution_count": null,
   "id": "f96cd738-b3a5-4e35-92ca-55c3b02f60a5",
   "metadata": {},
   "outputs": [],
   "source": []
  },
  {
   "cell_type": "code",
   "execution_count": null,
   "id": "55cd9610-be80-43a8-ac33-25dd4e04f916",
   "metadata": {},
   "outputs": [],
   "source": []
  },
  {
   "cell_type": "code",
   "execution_count": null,
   "id": "6850c2b1-da11-4ba4-8551-17a584cce92e",
   "metadata": {},
   "outputs": [],
   "source": []
  },
  {
   "cell_type": "code",
   "execution_count": null,
   "id": "d2452954-830c-4167-9608-b75931bbadaa",
   "metadata": {},
   "outputs": [],
   "source": []
  },
  {
   "cell_type": "code",
   "execution_count": null,
   "id": "c0a411d6-c90b-4832-8a93-97f5aa44b73c",
   "metadata": {},
   "outputs": [],
   "source": []
  },
  {
   "cell_type": "code",
   "execution_count": null,
   "id": "6f7ada2c-c529-434f-aba9-818f92ecf90d",
   "metadata": {},
   "outputs": [],
   "source": []
  },
  {
   "cell_type": "code",
   "execution_count": null,
   "id": "9c4f7ad7-2118-4f1e-bed2-7371ae9409f6",
   "metadata": {},
   "outputs": [],
   "source": []
  },
  {
   "cell_type": "code",
   "execution_count": null,
   "id": "3d903f48-8954-482b-ae54-fc4018fca7f6",
   "metadata": {},
   "outputs": [],
   "source": []
  },
  {
   "cell_type": "code",
   "execution_count": null,
   "id": "5d069888-a137-48c3-9b87-cc5fc400b5d4",
   "metadata": {},
   "outputs": [],
   "source": []
  }
 ],
 "metadata": {
  "kernelspec": {
   "display_name": "mlops",
   "language": "python",
   "name": "mlops"
  },
  "language_info": {
   "codemirror_mode": {
    "name": "ipython",
    "version": 3
   },
   "file_extension": ".py",
   "mimetype": "text/x-python",
   "name": "python",
   "nbconvert_exporter": "python",
   "pygments_lexer": "ipython3",
   "version": "3.9.18"
  }
 },
 "nbformat": 4,
 "nbformat_minor": 5
}
